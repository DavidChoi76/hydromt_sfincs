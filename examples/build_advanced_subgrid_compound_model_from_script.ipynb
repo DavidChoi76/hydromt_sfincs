{
 "cells": [
  {
   "attachments": {},
   "cell_type": "markdown",
   "metadata": {},
   "source": [
    "In this example a simple SFINCS compound flood model will be made, using the underlying Python functions of HydroMT-SFINCS to build a model.\n",
    "\n",
    "The model is situated in Northern Italy, where a small selection of topography and bathymetry data has already been made available for you to try the examples."
   ]
  },
  {
   "cell_type": "code",
   "execution_count": null,
   "metadata": {},
   "outputs": [],
   "source": [
    "import os\n",
    "import sys\n",
    "import matplotlib.pyplot as plt\n",
    "import xarray as xr\n",
    "import pandas as pd\n",
    "import geopandas as gpd\n",
    "from datetime import datetime\n",
    "\n",
    "from hydromt_sfincs import SfincsModel\n",
    "from hydromt_sfincs import utils"
   ]
  },
  {
   "attachments": {},
   "cell_type": "markdown",
   "metadata": {},
   "source": [
    "This example shows how to build a simple SFINCS model on a regular grid, containing an elevation dep-file, offshore water level forcing and an upstream discharge input forcing.\n",
    "For making a more advanced model including e.g. spatially varying infiltration and roughness, see the example notebook: build_advanced_subgrid_compound_model_from_script.ipynb\n",
    "\n",
    "In case you want to adjust this example to build a SFINCS model anywhere else in the world, you will have to add your own datasets to HydroMT's data catalog. For more info on that, see the example notebook: example_datasources.ipynb"
   ]
  },
  {
   "attachments": {},
   "cell_type": "markdown",
   "metadata": {},
   "source": [
    "Steps followed in this notebook to build your SFINCS model:\n",
    "<ul> \n",
    "<li> 1. Open SfincsModel class, set data library and output folder </li>\n",
    "<li> 2. Specify characteristics of the wanted grid </li>\n",
    "<li> 3. Load in wanted elevation datasets </li>\n",
    "<li> 4. Make mask of active and inactive cells </li>\n",
    "<li> 5. Update mask with water level and outflow boundary cells</li>\n",
    "<li> 6. Add spatially varying roughness data</li>\n",
    "<li> 7. Make subgrid derived tables</li>\n",
    "<li> 8. Add spatially varying infiltration data</li>\n",
    "<li> 9. Add water level time-series as forcing</li>\n",
    "<li> 10. Add an upstream discharge time-series as forcing</li>\n",
    "<li> 11. Add spatially varying rainfall data</li>\n",
    "<li> 12. Add weirfile</li>\n",
    "<li> 13. Add observation points</li>\n",
    "<li> 14. Show model</li>\n",
    "<li> 15. Save all files</li>\n",
    "</ul> "
   ]
  },
  {
   "attachments": {},
   "cell_type": "markdown",
   "metadata": {},
   "source": [
    "Let's get started!"
   ]
  },
  {
   "attachments": {},
   "cell_type": "markdown",
   "metadata": {},
   "source": [
    "### 1. Open SfincsModel class, set data library and output folder:"
   ]
  },
  {
   "cell_type": "code",
   "execution_count": null,
   "metadata": {},
   "outputs": [],
   "source": [
    "# Initialize SfincsModel Python class with the artifact data catalog which contains publically available data for North Italy\n",
    "sf = SfincsModel(data_libs=[\"artifact_data\"], root=\"sfincs_compound_advanced\")#, mode='r+')"
   ]
  },
  {
   "attachments": {},
   "cell_type": "markdown",
   "metadata": {},
   "source": [
    "### 2. Specify characteristics of the wanted grid and generate grid:\n",
    "\n",
    "For more info about how to define a grid see: https://sfincs.readthedocs.io/en/latest/input.html#grid-characteristics"
   ]
  },
  {
   "cell_type": "code",
   "execution_count": null,
   "metadata": {},
   "outputs": [],
   "source": [
    "# Specify an input dictionary with the grid settings x0,y0,dx,dy,nmax,mmax,rotation and epsg code.\n",
    "inp_dict = {\n",
    "    \"x0\": 318650,   \n",
    "    \"y0\": 5040000,\n",
    "    \"dx\": 50.0,\n",
    "    \"dy\": 50.0,\n",
    "    \"nmax\": 107,\n",
    "    \"mmax\": 250,\n",
    "    \"rotation\": 27,\n",
    "    \"epsg\": 32633,\n",
    "}\n",
    "\n",
    "# create SFINCS model with regular grid and characteristics of the input dictionary:\n",
    "sf.create_grid(grid_type=\"regular\", **inp_dict)\n",
    "\n",
    "# the input file is automatically updated, and displayed below:\n",
    "sf.config"
   ]
  },
  {
   "attachments": {},
   "cell_type": "markdown",
   "metadata": {},
   "source": [
    "### 3. Load in wanted elevation datasets:"
   ]
  },
  {
   "cell_type": "code",
   "execution_count": null,
   "metadata": {},
   "outputs": [],
   "source": [
    "# We would like to use the size of the generated grid, to only load in the data covering that grid, to reduce time\n",
    "# the active part of the grid is stord in the SfincsModel.region attribute\n",
    "\n",
    "sf.region\n",
    "\n",
    "# you can also plot the region with\n",
    "# sf.region.plot()"
   ]
  },
  {
   "cell_type": "code",
   "execution_count": null,
   "metadata": {},
   "outputs": [],
   "source": [
    "# In this example we want to combine 2 elevation datasets, merit_hydro as elevation and gebco as bathymetry, in that order. \n",
    "\n",
    "# Here these 2 are loaded from the datacatalog and added to one list of elevation datasets (you could add more yourself if wanted, in case made available in your data catalog)\n",
    "da_dep1 = sf.data_catalog.get_rasterdataset(\"merit_hydro\", variables=[\"elevtn\"], geom=sf.region, buffer=5)\n",
    "\n",
    "da_dep2 = sf.data_catalog.get_rasterdataset(\"gebco\", variables=[\"elevtn\"], geom=sf.region, buffer=5)\n",
    "\n",
    "# Provide merge arguments together with xr.DataAraay\n",
    "da_dep_lst = [{\"da\":da_dep1, \"min_valid\":0.01}, {\"da\":da_dep2}]\n",
    "\n",
    "#NOTE: from the 2nd elevation dataset (gebco) only elevation data below an elevation of 0 meters is used (\"zmax\":0)"
   ]
  },
  {
   "cell_type": "code",
   "execution_count": null,
   "metadata": {},
   "outputs": [],
   "source": [
    "# Add depth information to modelgrid based on these chosen datasets\n",
    "dep = sf.create_dep(da_dep_lst=da_dep_lst)\n",
    "\n",
    "# Make a plot of the merged topobathy, here colour limits are set between an elevation of -5 to 5 meters\n",
    "sf.grid.dep.plot(x='xc', y='yc',vmin=-5, vmax=5)"
   ]
  },
  {
   "attachments": {},
   "cell_type": "markdown",
   "metadata": {},
   "source": [
    "### 4. Make mask of active and inactive cells:\n",
    "\n",
    "For more info about what the msk-file is see: https://sfincs.readthedocs.io/en/latest/input.html#mask-file"
   ]
  },
  {
   "cell_type": "code",
   "execution_count": null,
   "metadata": {},
   "outputs": [],
   "source": [
    "# Here we generate the mask of active (msk=1) and inactive cells (msk=0), determining what cells on your grid should be used.\n",
    "\n",
    "# Choosing how to choose you active cells can be based on multiple criteria, here we only specify a minimum elevation of -5 meters\n",
    "sf.create_mask_active( elv_min=-5, reset_mask=True)\n",
    "\n",
    "# Make a plot of the mask file\n",
    "sf.mask.plot(x='xc', y='yc')\n",
    "\n",
    "# NOTE:\n",
    "# - The given output of HydroMT says \"3 gaps outside valid elevation range < 10 km2\"\n",
    "#   HydroMT does some smart filtering that if small groups of inactive cells are found, surrounded by active cells, these are still included as active, in this case 3 gaps.\n",
    "#   You can control the size of these gaps to filter by adding \",fill_area = 10 km2)\" in create_mask_active()\n",
    "# - reset_bounds=True means that every time you start clean with defining your msk cells, if on False (default) you build on the prevous time you ran that function"
   ]
  },
  {
   "attachments": {},
   "cell_type": "markdown",
   "metadata": {},
   "source": [
    "### 5. Update mask with water level and outflow boundary cells - including use of polygons:"
   ]
  },
  {
   "cell_type": "code",
   "execution_count": null,
   "metadata": {},
   "outputs": [],
   "source": [
    "# Loading a shapefile clicked by user:\n",
    "file_name = \"data//compound_example_outflow_boundary_polygon.shp\"\n",
    "gdf_include = sf.data_catalog.get_geodataframe(file_name)\n",
    "\n",
    "# Example of the same, but how to load an existing ascii .pol file with x&y-coordinates, e.g. coming out of Delft Dashboard, here assumed to be in the CRS of the SFINCS model:\n",
    "# file_name = \"XX.pol\"\n",
    "# gdf_include = utils.polygon2gdf(feats=utils.read_geoms(fn=file_name), crs=sf.crs)"
   ]
  },
  {
   "cell_type": "code",
   "execution_count": null,
   "metadata": {},
   "outputs": [],
   "source": [
    "# In SFINCS you can specify cells where you want to force offshore water levels (msk=2), or outflow boundaries (msk=3)\n",
    "# For more info about what the msk-file is see: https://sfincs.readthedocs.io/en/latest/input.html#mask-file\n",
    "\n",
    "# Here we add water level cells along the coastal boundary, for cells up to an elevation of -5 meters\n",
    "sf.create_mask_bounds(btype=\"waterlevel\", elv_max=-5, reset_bounds=True)\n",
    "\n",
    "# Here we add outflow cells, only where clicked in shapefile along part of the lateral boundaries\n",
    "sf.create_mask_bounds(btype=\"outflow\", gdf_include=gdf_include, reset_bounds=True)\n",
    "\n",
    "# Make a plot of the mask file\n",
    "sf.mask.plot(x='xc', y='yc')\n",
    "\n",
    "# NOTE:\n",
    "# - As you can see now, also msk=2 values have been added along the coastal boundary\n",
    "# - As you can see now, also msk=3 values have been added along the lateral inland boundaries\n",
    "#  - reset_bounds=True means that every time you start clean with defining your msk=2 cells, if on False (default) you build on the prevous time you ran that function"
   ]
  },
  {
   "attachments": {},
   "cell_type": "markdown",
   "metadata": {},
   "source": [
    "### 6. Add spatially varying roughness data:"
   ]
  },
  {
   "cell_type": "code",
   "execution_count": null,
   "metadata": {},
   "outputs": [],
   "source": [
    "# --> this used in making subgrid tables\n",
    "\n",
    "# TODO: load in global data\n",
    "# da_manning1 = sf.data_catalog.get_rasterdataset(\"vito\", variables=[\"cn_avg\"], geom=sf.region, buffer=5)\n",
    "# da_manning_lst = [{\"da\":da_manning1}]\n",
    "# da_dep_lst = [{\"da\":da_dep1}, {\"da\":da_dep2, \"zmax\":0, \"offset\":0}]\n",
    "\n",
    "#\n",
    "localtiff = \"data//merged_man_m00001_n00000.tif\"\n",
    "# ds_xarray = xr.open_dataset(localtiff)\n",
    "# ds_xarray\n",
    "# TODO: do polygon change to river\n",
    "\n",
    "da_manning1 = sf.data_catalog.get_rasterdataset(localtiff, variables=[\"manning\"])\n",
    "da_manning_lst = [{\"da\":da_manning1}]\n",
    "\n",
    "sf.create_manning_roughness(da_manning_lst = da_manning_lst)#, manning_sea = 0.02)\n",
    "\n",
    "sf.grid.manning.plot(x='xc', y='yc')#,vmin=0, vmax=0.05)"
   ]
  },
  {
   "attachments": {},
   "cell_type": "markdown",
   "metadata": {},
   "source": [
    "### 7. Make subgrid derived tables:"
   ]
  },
  {
   "attachments": {},
   "cell_type": "markdown",
   "metadata": {},
   "source": [
    "Add some specific settings:\n"
   ]
  },
  {
   "cell_type": "code",
   "execution_count": null,
   "metadata": {},
   "outputs": [],
   "source": [
    "# You can specify multiple settings abou how the subgrid derived tables should be made\n",
    "\n",
    "# Every single grid cell of the flux grid of the size inp.dx by inp.dy is defined into subgrid pixels (default nr_subgrid_pixels = 20).\n",
    "# For every subgrid pixel the topobathy data is loaded, ideally this consists also of high-resolution DEM datasets that you specify as user.\n",
    "\n",
    "# In this example with dx=dy=50m, having nr_subgrid_pixels = 20 means we are loading data onto a 2.5 m subpixel grid\n",
    "# However, the input data of Gebco and Merit_hydro is way coarser, therefore let's set the ratio to 5 for now: \n",
    "nr_subgrid_pixels = 10"
   ]
  },
  {
   "cell_type": "code",
   "execution_count": null,
   "metadata": {},
   "outputs": [],
   "source": [
    "# Every single grid cell of the flux grid of the size inp.dx by inp.dy is defined into subgrid pixels (default is 20, nr_subgrid_pixels = 20).\n",
    "# For every subgrid pixel the topobathy data is loaded, ideally this consists also of high-resolution DEM datasets that you specify as user.\n",
    "\n",
    "sf.create_subgrid(da_dep_lst=da_dep_lst, da_manning_lst=da_manning_lst, nr_subgrid_pixels=nr_subgrid_pixels,\n",
    "                  make_dep_tiles=True, make_manning_tiles=True)\n",
    "\n",
    "# NOTE: we turned on that the merged topobathy and manning tiles of the different (high-res) datasets are written to tiff-files\n",
    "\n",
    "# NOTE: if you have a very large domain with 100,000s to millions of cells, and very high-resolution datasets, this step might take minutes to hours!!!\n",
    "#       But good news; when finished succesfully, you can very quickly run very accurate SFINCS simulations!\n",
    "#       The whole point of the subgrid functionality of SFINCS is that by derived subgrid tables based on high res elevation data, \n",
    "#       you either have more accurate results or run on a coarser grid resolution (= much faster) or both"
   ]
  },
  {
   "attachments": {},
   "cell_type": "markdown",
   "metadata": {},
   "source": [
    "Now we can see what kind of subgrid-derived variables are created:"
   ]
  },
  {
   "cell_type": "code",
   "execution_count": null,
   "metadata": {},
   "outputs": [],
   "source": [
    "sf.subgrid"
   ]
  },
  {
   "attachments": {},
   "cell_type": "markdown",
   "metadata": {},
   "source": [
    "### 8. Add spatially varying infiltration data:"
   ]
  },
  {
   "cell_type": "code",
   "execution_count": null,
   "metadata": {},
   "outputs": [],
   "source": [
    "# independent from subgrid files\n",
    "\n",
    "# TODO: load in global data\n",
    "da_infiltration1 = sf.data_catalog.get_rasterdataset(\"gcn250\", variables=[\"cn_avg\"], geom=sf.region, buffer=5)\n",
    "da_infiltration_lst = [{\"da\":da_infiltration1}]\n",
    "\n",
    "# TODO: do polygon change to at a city\n",
    "\n",
    "# make file > only possible with setup_cn_infiltration ?"
   ]
  },
  {
   "attachments": {},
   "cell_type": "markdown",
   "metadata": {},
   "source": [
    "By now we have made all basic SFINCS spatial layers to make the mskfile, infiltrationfile and subgridfiles, now we're going to add some forcing..."
   ]
  },
  {
   "attachments": {},
   "cell_type": "markdown",
   "metadata": {},
   "source": [
    "### 9. Add water level time-series as forcing:"
   ]
  },
  {
   "cell_type": "code",
   "execution_count": null,
   "metadata": {},
   "outputs": [],
   "source": [
    "# Change period of model simulation time, specified in yyyymmdd HHMMSS --> simulation time here is 24 hours\n",
    "sf.set_config(\"tref\", \"20100201 000000\")\n",
    "sf.set_config(\"tstart\", \"20100201 000000\")\n",
    "sf.set_config(\"tstop\", \"20100202 000000\")\n",
    "\n",
    "sf.config"
   ]
  },
  {
   "attachments": {},
   "cell_type": "markdown",
   "metadata": {},
   "source": [
    "a. specify water level input locations:\n",
    "\n",
    "For more info about what the bndfile is see: https://sfincs.readthedocs.io/en/latest/input_forcing.html#water-level-points"
   ]
  },
  {
   "cell_type": "code",
   "execution_count": null,
   "metadata": {},
   "outputs": [],
   "source": [
    "# Here we specify at what x&y-locations we have measured/modelled input water level data in the bndfile of SFINCS:\n",
    "\n",
    "# x&y-locations in same coordinate reference system as the grid:\n",
    "x = [319526, 329195]\n",
    "y = [5041108, 5046243]\n",
    "\n",
    "# add to Geopandas dataframe as needed by HydroMT\n",
    "pnts = gpd.points_from_xy(x, y)\n",
    "index = [1, 2]  # NOTE that the index should start at one\n",
    "bnd = gpd.GeoDataFrame(index=index, geometry=pnts, crs=sf.crs)\n",
    "\n",
    "# show what has been created:\n",
    "bnd"
   ]
  },
  {
   "attachments": {},
   "cell_type": "markdown",
   "metadata": {},
   "source": [
    "b. Make up some time-series:\n",
    "\n",
    "For more info about what the bzsfile is see: https://sfincs.readthedocs.io/en/latest/input_forcing.html#water-level-time-serie"
   ]
  },
  {
   "cell_type": "code",
   "execution_count": null,
   "metadata": {},
   "outputs": [],
   "source": [
    "# Here we specify at what times we are providing water level input, and afterwards what the values are per input location:\n",
    "\n",
    "# In this case we will provide 3 values (periods=3) between the start (tstart=20100201 000000) and the end (tstop=20100201 120000) of the simulation:\n",
    "time = pd.date_range(start=utils.parse_datetime(sf.config[\"tstart\"]), end=utils.parse_datetime(sf.config[\"tstop\"]), periods=3)\n",
    "\n",
    "# and the actual water levels, in this case for input location 1 a water level rising from 0 to 2 meters and back to 0:\n",
    "bzs = [[0, 0.25], \n",
    "       [0.75, 1.0], \n",
    "       [0, 0.25]]\n",
    "\n",
    "bzspd = pd.DataFrame(index=time, columns=index, data=bzs)\n",
    "bzspd"
   ]
  },
  {
   "cell_type": "code",
   "execution_count": null,
   "metadata": {},
   "outputs": [],
   "source": [
    "# Actually add it to the SFINCS model class:\n",
    "sf.create_waterlevel_forcing(df_ts = bzspd, gdf_locs=bnd)\n",
    "\n",
    "# Plot time-series:\n",
    "sf.plot_forcing()"
   ]
  },
  {
   "attachments": {},
   "cell_type": "markdown",
   "metadata": {},
   "source": [
    "### 10. Add an upstream discharge time-series as forcing\n",
    "\n",
    "a. specify discharge input locations: srcfile\n",
    "\n",
    "For more info about what the srcfile is see: https://sfincs.readthedocs.io/en/latest/input_forcing.html#discharge-points\n",
    "\n",
    "b. specify discharge time-series: disfile\n",
    "\n",
    "For more info about what the disfile is see: https://sfincs.readthedocs.io/en/latest/input_forcing.html#discharge-time-series"
   ]
  },
  {
   "cell_type": "code",
   "execution_count": null,
   "metadata": {},
   "outputs": [],
   "source": [
    "# We follow exactly the same steps as for the water level forcing, but now specify 1 location where we specify discharges in m3/s\n",
    "x = [321732]\n",
    "y = [5047136]\n",
    "\n",
    "# add to Geopandas dataframe as needed by HydroMT\n",
    "pnts = gpd.points_from_xy(x, y)\n",
    "index = [1]  # NOTE that the index should start at one\n",
    "src = gpd.GeoDataFrame(index=index, geometry=pnts, crs=sf.crs)\n",
    "\n",
    "time = pd.date_range(start=utils.parse_datetime(sf.config[\"tstart\"]), end=utils.parse_datetime(sf.config[\"tstop\"]), periods=3)\n",
    "\n",
    "# and the actual water levels, in this case for input location 1 a water level rising from 0 to 2 meters and back to 0:\n",
    "dis = [[2.0], \n",
    "       [5.0], \n",
    "       [2.0]]\n",
    "\n",
    "dispd = pd.DataFrame(index=time, columns=index, data=dis)\n",
    "\n",
    "# NOTE: only now we call the function create_discharge_forcing\n",
    "sf.create_discharge_forcing(df_ts = dispd, gdf_locs=src)\n",
    "\n",
    "# Plot time-series:\n",
    "sf.plot_forcing()"
   ]
  },
  {
   "attachments": {},
   "cell_type": "markdown",
   "metadata": {},
   "source": [
    "In case you want to add other types of forcing, see the example notebook example_forcing.ipynb for other types.\n",
    "\n",
    "Or have a look at: https://sfincs.readthedocs.io/en/latest/input_forcing.html"
   ]
  },
  {
   "attachments": {},
   "cell_type": "markdown",
   "metadata": {},
   "source": [
    "### 11. Add spatially varying rainfall data:"
   ]
  },
  {
   "cell_type": "code",
   "execution_count": null,
   "metadata": {},
   "outputs": [],
   "source": [
    "# TODO: load from ERA5 data?\n",
    "# Here we load in precipitation data from a netcdf file in the artifact data called era5.nc, that contains the variable 'precip'\n",
    "\n",
    "df_ts = sf.data_catalog.get_dataframe(\"era5\", variables=[\"precip\"], time_tuple=(sf.config['tstart'], datetime(2010,2,4,0,0)))\n",
    "\n",
    "df_ts\n"
   ]
  },
  {
   "cell_type": "code",
   "execution_count": null,
   "metadata": {},
   "outputs": [],
   "source": [
    "# TODO: finish this, not totally sure what more needs to be done to write away this spatially varying rainfall\n",
    "\n",
    "# sf.create_precip_forcing(df_ts=df_ts)"
   ]
  },
  {
   "attachments": {},
   "cell_type": "markdown",
   "metadata": {},
   "source": [
    "### 12. Add weirfile:"
   ]
  },
  {
   "cell_type": "code",
   "execution_count": null,
   "metadata": {},
   "outputs": [],
   "source": [
    "# In this example specify a 'line' style shapefile for the location of the weir to be added\n",
    "file_name = \"data//compound_example_weirfile_input.shp\"\n",
    "gdf_structures = sf.data_catalog.get_geodataframe(file_name)\n",
    "\n",
    "gdf_structures\n",
    "\n",
    "# NOTE: here the shapefile needs values for dimension 'z' being the elevation of the weir"
   ]
  },
  {
   "cell_type": "code",
   "execution_count": null,
   "metadata": {},
   "outputs": [],
   "source": [
    "sf.create_structures(gdf_structures=gdf_structures, stype= 'weir', overwrite= True)\n",
    "\n",
    "# NOTE: optional: , dz=3.0) - If provided, for weir structures the z value is calculated from the model elevation (dep) plus dz."
   ]
  },
  {
   "attachments": {},
   "cell_type": "markdown",
   "metadata": {},
   "source": [
    "### 13. Add observation points\n",
    "\n",
    "For more info about what the obsfile is see: https://sfincs.readthedocs.io/en/latest/input.html#observation-points"
   ]
  },
  {
   "cell_type": "code",
   "execution_count": null,
   "metadata": {},
   "outputs": [],
   "source": [
    "# Loading a point shapefile clicked by user:\n",
    "file_name = \"data//compound_example_observation_points.shp\"\n",
    "gdf_obs = sf.data_catalog.get_geodataframe(file_name, crs=sf.crs)\n",
    "\n",
    "sf.create_observation_points(gdf_obs=gdf_obs, overwrite=True)\n",
    "\n",
    "sf.geoms\n",
    "\n",
    "# NOTE: overwrite=True makes HydroMT overwrite already existing observation points"
   ]
  },
  {
   "attachments": {},
   "cell_type": "markdown",
   "metadata": {},
   "source": [
    "### 14. Show model"
   ]
  },
  {
   "cell_type": "code",
   "execution_count": null,
   "metadata": {},
   "outputs": [],
   "source": [
    "# Use predefined plotting function 'plot_basemap' to show your full SFINCS model setup\n",
    "sf.plot_basemap()"
   ]
  },
  {
   "attachments": {},
   "cell_type": "markdown",
   "metadata": {},
   "source": [
    "### 15. Save all files"
   ]
  },
  {
   "cell_type": "code",
   "execution_count": null,
   "metadata": {},
   "outputs": [],
   "source": [
    "sf.write() # write all"
   ]
  },
  {
   "cell_type": "code",
   "execution_count": null,
   "metadata": {},
   "outputs": [],
   "source": [
    "# Show created files in folder:\n",
    "dir_list = os.listdir(sf.root)\n",
    "print(dir_list)"
   ]
  },
  {
   "cell_type": "code",
   "execution_count": null,
   "metadata": {},
   "outputs": [],
   "source": [
    "# TODO: read hydromt_data.yml to show all used data"
   ]
  },
  {
   "attachments": {},
   "cell_type": "markdown",
   "metadata": {},
   "source": [
    "Your basemap and forcing figures are saved in the folder 'figs', GIS files (tiff & geojson) of your model setup in 'gis' and intermediate merged subgrid elevation and manning roughness tiles in 'tiles'.\n",
    "\n",
    "Now you have made a model, you can progress to the notebook: run_sfincs_model.ipynb"
   ]
  }
 ],
 "metadata": {
  "kernelspec": {
   "display_name": "hydromt-sfincs",
   "language": "python",
   "name": "python3"
  },
  "language_info": {
   "codemirror_mode": {
    "name": "ipython",
    "version": 3
   },
   "file_extension": ".py",
   "mimetype": "text/x-python",
   "name": "python",
   "nbconvert_exporter": "python",
   "pygments_lexer": "ipython3",
   "version": "3.10.9"
  },
  "orig_nbformat": 4,
  "vscode": {
   "interpreter": {
    "hash": "9ec3d1fca30a97858614ef59a1f03e9bb27fcbb0a81645b22c597c198da89e77"
   }
  }
 },
 "nbformat": 4,
 "nbformat_minor": 2
}
