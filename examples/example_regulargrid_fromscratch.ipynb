{
 "cells": [
  {
   "cell_type": "code",
   "execution_count": null,
   "metadata": {},
   "outputs": [],
   "source": [
    "import os\n",
    "import sys\n",
    "from hydromt_sfincs import SfincsModel\n",
    "import matplotlib.pyplot as plt"
   ]
  },
  {
   "attachments": {},
   "cell_type": "markdown",
   "metadata": {},
   "source": [
    "Create grid from scratch"
   ]
  },
  {
   "cell_type": "code",
   "execution_count": null,
   "metadata": {},
   "outputs": [],
   "source": [
    "# Initialize SfincsModel with the artifactd data catalog which contains data for North Italy\n",
    "sf = SfincsModel(data_libs=[\"artifact_data\"])"
   ]
  },
  {
   "cell_type": "code",
   "execution_count": null,
   "metadata": {},
   "outputs": [],
   "source": [
    "inp_dict = {\n",
    "    \"x0\": 268650,\n",
    "    \"y0\": 5018550,\n",
    "    \"dx\": 150.0,\n",
    "    \"dy\": 150.0,\n",
    "    \"nmax\": 272,\n",
    "    \"mmax\": 425,\n",
    "    \"rotation\": 0,\n",
    "    \"crs\": 32633,\n",
    "}\n",
    "# create grid\n",
    "sf.create_grid(grid_type=\"regular\", **inp_dict)\n",
    "# the input file is automatically updated\n",
    "sf.config"
   ]
  },
  {
   "attachments": {},
   "cell_type": "markdown",
   "metadata": {},
   "source": [
    "Create mask purely based on include- and exclude polygons"
   ]
  },
  {
   "cell_type": "code",
   "execution_count": null,
   "metadata": {},
   "outputs": [],
   "source": [
    "from hydromt_sfincs import utils\n",
    "\n",
    "file_name = \"sfincs_coastal//include.pol\"\n",
    "gdf_include = utils.polygon2gdf(feats=utils.read_geoms(fn=file_name), crs=sf.crs)"
   ]
  },
  {
   "cell_type": "code",
   "execution_count": null,
   "metadata": {},
   "outputs": [],
   "source": [
    "file_name = \"sfincs_coastal//exclude.pol\"\n",
    "gdf_exclude = utils.polygon2gdf(feats=utils.read_geoms(fn=file_name), crs=sf.crs)\n",
    "\n",
    "fig, ax = plt.subplots(1, 1)\n",
    "gdf_include.plot(ax=ax, color=\"green\")\n",
    "gdf_exclude.plot(ax=ax, color=\"red\")"
   ]
  },
  {
   "cell_type": "code",
   "execution_count": null,
   "metadata": {},
   "outputs": [],
   "source": [
    "sf.create_mask_active(gdf_include=gdf_include, gdf_exclude=gdf_exclude)\n",
    "sf.mask.plot.imshow()"
   ]
  },
  {
   "attachments": {},
   "cell_type": "markdown",
   "metadata": {},
   "source": [
    "Also take into account topobathy information"
   ]
  },
  {
   "cell_type": "code",
   "execution_count": null,
   "metadata": {},
   "outputs": [],
   "source": [
    "sf.region.boundary.plot()"
   ]
  },
  {
   "cell_type": "code",
   "execution_count": null,
   "metadata": {},
   "outputs": [],
   "source": [
    "# sf.grid.data.raster.set_crs(sf.grid.crs)\n",
    "da_dep1 = sf.data_catalog.get_rasterdataset(\n",
    "    \"gebco\", variables=[\"elevtn\"], geom=sf.region, buffer=5\n",
    ")\n",
    "\n",
    "da_dep2 = sf.data_catalog.get_rasterdataset(\n",
    "    \"merit_hydro\", variables=[\"elevtn\"], geom=sf.region, buffer=5\n",
    ")\n",
    "\n",
    "# List[xr.DataArray]\n",
    "da_dep = [da_dep1, da_dep2]"
   ]
  },
  {
   "cell_type": "code",
   "execution_count": null,
   "metadata": {},
   "outputs": [],
   "source": [
    "# Add depth information to modelgrid\n",
    "# TODO rename create_topobathy?\n",
    "sf.create_dep(bathymetry_sets=da_dep)\n",
    "sf.config.update({\"depfile\": \"sfincs.dep\"})"
   ]
  },
  {
   "cell_type": "code",
   "execution_count": null,
   "metadata": {},
   "outputs": [],
   "source": [
    "# play around with include, drop_area and fill_area\n",
    "mask = sf.create_mask_active(\n",
    "    elv_min=-5, elv_max=10, fill_area=10, drop_area=10, gdf_include=gdf_include\n",
    ")\n",
    "\n",
    "# TODO: make updating inp with indexfile / mskfile part of create_mask_active or add to default\n",
    "sf.config.update({\"indexfile\": \"sfincs.ind\"})\n",
    "sf.config.update({\"mskfile\": \"sfincs.msk\"})\n",
    "\n",
    "mask.plot.imshow()"
   ]
  },
  {
   "attachments": {},
   "cell_type": "markdown",
   "metadata": {},
   "source": [
    "Mask boundaries"
   ]
  },
  {
   "cell_type": "code",
   "execution_count": null,
   "metadata": {},
   "outputs": [],
   "source": [
    "file_name = \"sfincs_coastal\\\\bnd_wl.pol\"\n",
    "gdf_wl = utils.polygon2gdf(feats=utils.read_geoms(fn=file_name), crs=sf.crs)\n",
    "\n",
    "file_name = \"sfincs_coastal\\\\bnd_out.pol\"\n",
    "gdf_outflow = utils.polygon2gdf(feats=utils.read_geoms(fn=file_name), crs=sf.crs)"
   ]
  },
  {
   "cell_type": "code",
   "execution_count": null,
   "metadata": {},
   "outputs": [],
   "source": [
    "# TODO continue here\n",
    "sf.create_mask_bounds(btype=\"waterlevel\", gdf_include=gdf_wl, elv_max=-2)\n",
    "sf.create_mask_bounds(btype=\"outflow\", gdf_include=gdf_outflow, elv_min=2)\n",
    "\n",
    "sf.mask.plot.imshow()"
   ]
  },
  {
   "cell_type": "code",
   "execution_count": null,
   "metadata": {},
   "outputs": [],
   "source": [
    "sf.write_grid(data_vars=[\"dep\"])  # write single grid map\n",
    "sf.write_grid()  # write all"
   ]
  },
  {
   "cell_type": "code",
   "execution_count": null,
   "metadata": {},
   "outputs": [],
   "source": [
    "sf.root = \"tmp_example\"\n",
    "sf.write()"
   ]
  }
 ],
 "metadata": {
  "kernelspec": {
   "display_name": "hydromt-dev",
   "language": "python",
   "name": "python3"
  },
  "language_info": {
   "codemirror_mode": {
    "name": "ipython",
    "version": 3
   },
   "file_extension": ".py",
   "mimetype": "text/x-python",
   "name": "python",
   "nbconvert_exporter": "python",
   "pygments_lexer": "ipython3",
   "version": "3.10.8 | packaged by conda-forge | (main, Nov 22 2022, 08:16:33) [MSC v.1929 64 bit (AMD64)]"
  },
  "orig_nbformat": 4,
  "vscode": {
   "interpreter": {
    "hash": "3808d5b5b54949c7a0a707a38b0a689040fa9c90ab139a050e41373880719ab1"
   }
  }
 },
 "nbformat": 4,
 "nbformat_minor": 2
}
