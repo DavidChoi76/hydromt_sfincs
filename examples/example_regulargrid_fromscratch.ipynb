{
 "cells": [
  {
   "cell_type": "code",
   "execution_count": null,
   "metadata": {},
   "outputs": [],
   "source": [
    "import os\n",
    "import sys\n",
    "from hydromt_sfincs import SfincsModel\n",
    "import matplotlib.pyplot as plt"
   ]
  },
  {
   "attachments": {},
   "cell_type": "markdown",
   "metadata": {},
   "source": [
    "Create grid from scratch"
   ]
  },
  {
   "cell_type": "code",
   "execution_count": null,
   "metadata": {},
   "outputs": [],
   "source": [
    "# Initialize SfincsModel with the artifact data catalog which contains data for North Italy\n",
    "sf = SfincsModel(data_libs=[\"artifact_data\"])"
   ]
  },
  {
   "cell_type": "code",
   "execution_count": null,
   "metadata": {},
   "outputs": [],
   "source": [
    "inp_dict = {\n",
    "    \"x0\": 268650,\n",
    "    \"y0\": 5018550,\n",
    "    \"dx\": 150.0,\n",
    "    \"dy\": 150.0,\n",
    "    \"nmax\": 272,\n",
    "    \"mmax\": 425,\n",
    "    \"rotation\": 0,\n",
    "    \"crs\": 32633,\n",
    "}\n",
    "# create grid\n",
    "sf.create_grid(grid_type=\"regular\", **inp_dict)\n",
    "# the input file is automatically updated\n",
    "sf.config\n",
    "#TODO add defaults values?"
   ]
  },
  {
   "attachments": {},
   "cell_type": "markdown",
   "metadata": {},
   "source": [
    "Create mask purely based on include- and exclude polygons"
   ]
  },
  {
   "cell_type": "code",
   "execution_count": null,
   "metadata": {},
   "outputs": [],
   "source": [
    "from hydromt_sfincs import utils\n",
    "\n",
    "file_name = \"sfincs_coastal//include.pol\"\n",
    "gdf_include = utils.polygon2gdf(feats=utils.read_geoms(fn=file_name), crs=sf.crs)"
   ]
  },
  {
   "cell_type": "code",
   "execution_count": null,
   "metadata": {},
   "outputs": [],
   "source": [
    "file_name = \"sfincs_coastal//exclude.pol\"\n",
    "gdf_exclude = utils.polygon2gdf(feats=utils.read_geoms(fn=file_name), crs=sf.crs)\n",
    "\n",
    "fig, ax = plt.subplots(1, 1)\n",
    "gdf_include.plot(ax=ax, color=\"green\")\n",
    "gdf_exclude.plot(ax=ax, color=\"red\")"
   ]
  },
  {
   "cell_type": "code",
   "execution_count": null,
   "metadata": {},
   "outputs": [],
   "source": [
    "sf.create_mask_active(gdf_include=gdf_include, gdf_exclude=gdf_exclude)\n",
    "sf.mask.plot.imshow()"
   ]
  },
  {
   "attachments": {},
   "cell_type": "markdown",
   "metadata": {},
   "source": [
    "Also take into account topobathy information"
   ]
  },
  {
   "cell_type": "code",
   "execution_count": null,
   "metadata": {},
   "outputs": [],
   "source": [
    "sf.region.boundary.plot()"
   ]
  },
  {
   "cell_type": "code",
   "execution_count": null,
   "metadata": {},
   "outputs": [],
   "source": [
    "#we would like to use the region to get raster data\n",
    "#so reset region, otherwise region is only part of grid\n",
    "region = sf.reggrid.empty_mask.raster.box\n",
    "sf.set_geoms(region, \"region\")"
   ]
  },
  {
   "cell_type": "code",
   "execution_count": null,
   "metadata": {},
   "outputs": [],
   "source": [
    "# sf.grid.data.raster.set_crs(sf.grid.crs)\n",
    "da_dep1 = sf.data_catalog.get_rasterdataset(\n",
    "    \"merit_hydro\", variables=[\"elevtn\"], geom=sf.region, buffer=5\n",
    ")\n",
    "\n",
    "da_dep2 = sf.data_catalog.get_rasterdataset(\n",
    "    \"gebco\", variables=[\"elevtn\"], geom=sf.region, buffer=5\n",
    ")\n",
    "\n",
    "# List[dict]\n",
    "# Provide merge arguments together with xr.DataAraay\n",
    "da_dep_lst = [{\"da\":da_dep1}, {\"da\":da_dep2, \"zmax\":0, \"offset\":0}]"
   ]
  },
  {
   "cell_type": "code",
   "execution_count": null,
   "metadata": {},
   "outputs": [],
   "source": [
    "# Add depth information to modelgrid\n",
    "sf.create_dep(da_dep_lst=da_dep_lst)"
   ]
  },
  {
   "cell_type": "code",
   "execution_count": null,
   "metadata": {},
   "outputs": [],
   "source": [
    "sf.grid[\"dep\"].plot.imshow()"
   ]
  },
  {
   "cell_type": "code",
   "execution_count": null,
   "metadata": {},
   "outputs": [],
   "source": [
    "# play around with include, drop_area and fill_area\n",
    "mask = sf.create_mask_active(\n",
    "    elv_min=-5, elv_max=10, fill_area=10, drop_area=10, gdf_include=gdf_include, reset_mask=True\n",
    ")\n",
    "mask.plot.imshow()"
   ]
  },
  {
   "cell_type": "code",
   "execution_count": null,
   "metadata": {},
   "outputs": [],
   "source": [
    "#update mask; NOTE reset_mask=False by default\n",
    "# mask = sf.create_mask_active(gdf_exclude=gdf_exclude)\n",
    "# mask.plot.imshow()"
   ]
  },
  {
   "attachments": {},
   "cell_type": "markdown",
   "metadata": {},
   "source": [
    "Mask boundaries"
   ]
  },
  {
   "cell_type": "code",
   "execution_count": null,
   "metadata": {},
   "outputs": [],
   "source": [
    "file_name = \"sfincs_coastal\\\\bnd_wl.pol\"\n",
    "gdf_wl = utils.polygon2gdf(feats=utils.read_geoms(fn=file_name), crs=sf.crs)\n",
    "\n",
    "file_name = \"sfincs_coastal\\\\bnd_out.pol\"\n",
    "gdf_outflow = utils.polygon2gdf(feats=utils.read_geoms(fn=file_name), crs=sf.crs)"
   ]
  },
  {
   "cell_type": "code",
   "execution_count": null,
   "metadata": {},
   "outputs": [],
   "source": [
    "sf.create_mask_bounds(btype=\"waterlevel\", gdf_include=gdf_wl, elv_max=-2)\n",
    "sf.create_mask_bounds(btype=\"outflow\", gdf_include=gdf_outflow, elv_min=2)\n",
    "\n",
    "sf.mask.plot.imshow()"
   ]
  },
  {
   "cell_type": "code",
   "execution_count": null,
   "metadata": {},
   "outputs": [],
   "source": [
    "#reset outflow bounds\n",
    "sf.create_mask_bounds(btype=\"outflow\", reset_bounds=True)\n",
    "sf.mask.plot.imshow()"
   ]
  },
  {
   "attachments": {},
   "cell_type": "markdown",
   "metadata": {},
   "source": [
    "#### subgrid"
   ]
  },
  {
   "cell_type": "code",
   "execution_count": null,
   "metadata": {},
   "outputs": [],
   "source": [
    "sf.create_subgrid(da_dep_lst=da_dep_lst)"
   ]
  },
  {
   "cell_type": "code",
   "execution_count": null,
   "metadata": {},
   "outputs": [],
   "source": [
    "sf.subgrid[\"z_zmin\"].plot.imshow(vmin=-5,vmax=5)"
   ]
  },
  {
   "attachments": {},
   "cell_type": "markdown",
   "metadata": {},
   "source": [
    "### write"
   ]
  },
  {
   "cell_type": "code",
   "execution_count": null,
   "metadata": {},
   "outputs": [],
   "source": [
    "sf.set_root(\"tmp_example\")\n",
    "\n",
    "sf.write_grid(data_vars=[\"dep\"])  # write single grid map\n",
    "sf.write_grid()  # write all"
   ]
  },
  {
   "cell_type": "code",
   "execution_count": null,
   "metadata": {},
   "outputs": [],
   "source": [
    "sf.write()"
   ]
  }
 ],
 "metadata": {
  "kernelspec": {
   "display_name": "hydromt-dev",
   "language": "python",
   "name": "python3"
  },
  "language_info": {
   "codemirror_mode": {
    "name": "ipython",
    "version": 3
   },
   "file_extension": ".py",
   "mimetype": "text/x-python",
   "name": "python",
   "nbconvert_exporter": "python",
   "pygments_lexer": "ipython3",
   "version": "3.10.6"
  },
  "orig_nbformat": 4,
  "vscode": {
   "interpreter": {
    "hash": "1a1c0d40e2688e13ef4c1e0a0bd8d32101069a8b3879fd20a3f04202f98b0ae3"
   }
  }
 },
 "nbformat": 4,
 "nbformat_minor": 2
}
