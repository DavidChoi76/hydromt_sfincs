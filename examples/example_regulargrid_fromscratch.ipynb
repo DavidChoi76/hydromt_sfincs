{
 "cells": [
  {
   "cell_type": "code",
   "execution_count": null,
   "metadata": {},
   "outputs": [],
   "source": [
    "import os\n",
    "import sys\n",
    "from hydromt_sfincs.sfincs import Sfincs"
   ]
  },
  {
   "attachments": {},
   "cell_type": "markdown",
   "metadata": {},
   "source": [
    "Create grid from scratch"
   ]
  },
  {
   "cell_type": "code",
   "execution_count": null,
   "metadata": {},
   "outputs": [],
   "source": [
    "sf = Sfincs()"
   ]
  },
  {
   "cell_type": "code",
   "execution_count": null,
   "metadata": {},
   "outputs": [],
   "source": [
    "inp_dict = {\n",
    "    \"x0\": 268650,\n",
    "    \"y0\": 5018550,\n",
    "    \"dx\": 150.0,\n",
    "    \"dy\": 150.0,\n",
    "    \"nmax\": 272,\n",
    "    \"mmax\": 425,\n",
    "    \"rotation\": 0,\n",
    "    \"crs\": 32633,\n",
    "}\n",
    "# update input file based on dictionary\n",
    "sf.update_input_file(inp_dict=inp_dict)\n",
    "# create grid\n",
    "sf.create_grid(grid_type=\"regular\")"
   ]
  },
  {
   "attachments": {},
   "cell_type": "markdown",
   "metadata": {},
   "source": [
    "Create mask purely based on include- and exclude polygons"
   ]
  },
  {
   "cell_type": "code",
   "execution_count": null,
   "metadata": {},
   "outputs": [],
   "source": [
    "from hydromt_sfincs import utils\n",
    "\n",
    "file_name = \"sfincs_coastal//include.pol\"\n",
    "\n",
    "struct = utils.read_geoms(fn=file_name)\n",
    "gdf_include = utils.polygon2gdf(feats=struct, crs=sf.grid.crs)"
   ]
  },
  {
   "cell_type": "code",
   "execution_count": null,
   "metadata": {},
   "outputs": [],
   "source": [
    "file_name = \"sfincs_coastal//exclude.pol\"\n",
    "gdf_exclude = utils.polygon2gdf(feats=utils.read_geoms(fn=file_name), crs=sf.grid.crs)"
   ]
  },
  {
   "cell_type": "code",
   "execution_count": null,
   "metadata": {},
   "outputs": [],
   "source": [
    "gdf_exclude"
   ]
  },
  {
   "cell_type": "code",
   "execution_count": null,
   "metadata": {},
   "outputs": [],
   "source": [
    "mask = sf.grid.create_mask_active(gdf_include=gdf_include, gdf_exclude=gdf_exclude)\n",
    "mask.plot.imshow()"
   ]
  },
  {
   "attachments": {},
   "cell_type": "markdown",
   "metadata": {},
   "source": [
    "Also take into account topobathy information"
   ]
  },
  {
   "cell_type": "code",
   "execution_count": null,
   "metadata": {},
   "outputs": [],
   "source": [
    "data_catalog = DataCatalog(\"deltares_data\")  # north Italy\n",
    "da_dep1 = data_catalog.get_rasterdataset(\n",
    "    \"gebco\",\n",
    "    variables=[\"elevtn\"],  # geom=region, buffer=5\n",
    ")\n",
    "da_dep1"
   ]
  },
  {
   "cell_type": "code",
   "execution_count": null,
   "metadata": {},
   "outputs": [],
   "source": [
    "from hydromt import DataCatalog\n",
    "from hydromt_sfincs import workflows\n",
    "\n",
    "data_catalog = DataCatalog(\"deltares_data\")  # north Italy\n",
    "\n",
    "# sf.grid.data.raster.set_crs(sf.grid.crs)\n",
    "region = sf.grid.mask.raster.box\n",
    "da_dep1 = data_catalog.get_rasterdataset(\n",
    "    \"gebco\", variables=[\"elevtn\"], geom=region, buffer=5\n",
    ")\n",
    "\n",
    "da_dep2 = data_catalog.get_rasterdataset(\n",
    "    \"merit_hydro\", variables=[\"elevtn\"], geom=region, buffer=5\n",
    ")\n",
    "\n",
    "# List[xr.DataArray]\n",
    "da_dep = [da_dep1, da_dep2]"
   ]
  },
  {
   "cell_type": "code",
   "execution_count": null,
   "metadata": {},
   "outputs": [],
   "source": [
    "# Add depth information to modelgrid\n",
    "sf.create_dep(bathymetry_sets=da_dep)\n",
    "sf.update_input_file(inp_dict={\"depfile\": \"sfincs.dep\"})"
   ]
  },
  {
   "cell_type": "code",
   "execution_count": null,
   "metadata": {},
   "outputs": [],
   "source": [
    "# play around with include, drop_area and fill_area\n",
    "mask = sf.grid.create_mask_active(\n",
    "    elv_min=-5, elv_max=10, fill_area=10, drop_area=10, gdf_include=gdf_include\n",
    ")\n",
    "mask.plot.imshow()"
   ]
  },
  {
   "attachments": {},
   "cell_type": "markdown",
   "metadata": {},
   "source": [
    "Mask boundaries"
   ]
  },
  {
   "cell_type": "code",
   "execution_count": null,
   "metadata": {},
   "outputs": [],
   "source": [
    "file_name = \"sfincs_coastal\\\\bnd_wl.pol\"\n",
    "gdf_wl = utils.polygon2gdf(feats=utils.read_geoms(fn=file_name), crs=sf.grid.crs)\n",
    "\n",
    "file_name = \"sfincs_coastal\\\\bnd_out.pol\"\n",
    "gdf_outflow = utils.polygon2gdf(feats=utils.read_geoms(fn=file_name), crs=sf.grid.crs)"
   ]
  },
  {
   "cell_type": "code",
   "execution_count": null,
   "metadata": {},
   "outputs": [],
   "source": [
    "sf.grid.create_mask_bounds(btype=\"waterlevel\", gdf_include=gdf_wl, elv_max=-2)\n",
    "sf.grid.create_mask_bounds(btype=\"outflow\", gdf_include=gdf_outflow, elv_min=2)\n",
    "\n",
    "sf.update_input_file(inp_dict={\"indexfile\": \"sfincs.ind\"})\n",
    "sf.update_input_file(inp_dict={\"mskfile\": \"sfincs.msk\"})\n",
    "\n",
    "sf.grid.mask.plot.imshow()"
   ]
  },
  {
   "cell_type": "code",
   "execution_count": null,
   "metadata": {},
   "outputs": [],
   "source": [
    "sf.root = \"tmp_example\"\n",
    "sf.write()"
   ]
  }
 ],
 "metadata": {
  "kernelspec": {
   "display_name": "hydromt-dev",
   "language": "python",
   "name": "python3"
  },
  "language_info": {
   "codemirror_mode": {
    "name": "ipython",
    "version": 3
   },
   "file_extension": ".py",
   "mimetype": "text/x-python",
   "name": "python",
   "nbconvert_exporter": "python",
   "pygments_lexer": "ipython3",
   "version": "3.10.6"
  },
  "orig_nbformat": 4,
  "vscode": {
   "interpreter": {
    "hash": "1a1c0d40e2688e13ef4c1e0a0bd8d32101069a8b3879fd20a3f04202f98b0ae3"
   }
  }
 },
 "nbformat": 4,
 "nbformat_minor": 2
}
