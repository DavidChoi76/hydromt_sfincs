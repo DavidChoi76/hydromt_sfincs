{
 "cells": [
  {
   "cell_type": "code",
   "execution_count": null,
   "metadata": {},
   "outputs": [],
   "source": [
    "import os\n",
    "import sys\n",
    "from hydromt_sfincs.sfincs import Sfincs"
   ]
  },
  {
   "attachments": {},
   "cell_type": "markdown",
   "metadata": {},
   "source": [
    "Create grid from scratch"
   ]
  },
  {
   "cell_type": "code",
   "execution_count": null,
   "metadata": {},
   "outputs": [],
   "source": [
    "sf = Sfincs()"
   ]
  },
  {
   "cell_type": "code",
   "execution_count": null,
   "metadata": {},
   "outputs": [],
   "source": [
    "sf.inp.x0 = 268650\n",
    "sf.inp.y0 = 5018550\n",
    "sf.inp.dx = 150\n",
    "sf.inp.dy = 150\n",
    "sf.inp.nmax = 272  \n",
    "sf.inp.mmax = 425 \n",
    "sf.inp.rotation = 0\n",
    "sf.inp.crs = 32633\n",
    "\n",
    "sf.create_grid(grid_type=\"regular\")"
   ]
  },
  {
   "attachments": {},
   "cell_type": "markdown",
   "metadata": {},
   "source": [
    "Create mask purely based on include- and exclude polygons"
   ]
  },
  {
   "cell_type": "code",
   "execution_count": null,
   "metadata": {},
   "outputs": [],
   "source": [
    "from misc import tekal as tek #should we move/copy the misc towards hydromt-sfincs?\n",
    "import numpy as np\n",
    "from shapely.geometry import MultiPolygon, Polygon\n",
    "import geopandas as gpd\n",
    "\n",
    "def tekal_to_gdf(file_name, crs, zmin=None, zmax=None) -> gpd.GeoDataFrame:\n",
    "    polygons = []\n",
    "\n",
    "    D = tek.tekal(file_name)\n",
    "    D.info()\n",
    "    for j in range(len(D.blocks)):\n",
    "        m=D.read(j)\n",
    "        x = m[0,:,0]\n",
    "        y = m[1,:,0]\n",
    "        data = np.vstack([x,y])\n",
    "        polygons.append(Polygon(data.T))\n",
    "\n",
    "    gdf = gpd.GeoDataFrame(crs=crs, geometry=polygons)\n",
    "    #TODO: add functionality to scripts if wanted\n",
    "    gdf[\"zmin\"] = zmin \n",
    "    gdf[\"zmax\"] = zmax \n",
    "\n",
    "    return gdf"
   ]
  },
  {
   "cell_type": "code",
   "execution_count": null,
   "metadata": {},
   "outputs": [],
   "source": [
    "file_name = \"sfincs_coastal//include.pol\"\n",
    "gdf_include = tekal_to_gdf(file_name=file_name, crs='epsg:'+str(sf.inp.crs))\n"
   ]
  },
  {
   "cell_type": "code",
   "execution_count": null,
   "metadata": {},
   "outputs": [],
   "source": [
    "file_name = \"sfincs_coastal//exclude.pol\"\n",
    "gdf_exclude = tekal_to_gdf(file_name=file_name, crs='epsg:'+str(sf.inp.crs))"
   ]
  },
  {
   "cell_type": "code",
   "execution_count": null,
   "metadata": {},
   "outputs": [],
   "source": [
    "# multipolygon_geom = MultiPolygon(polygons)\n",
    "# gdf2 = gpd.GeoDataFrame(crs='epsg:'+str(sf.inp.crs), geometry=[multipolygon_geom])"
   ]
  },
  {
   "cell_type": "code",
   "execution_count": null,
   "metadata": {},
   "outputs": [],
   "source": [
    "mask = sf.grid.create_mask_active(gdf_include=gdf_include, gdf_exclude=gdf_exclude)\n",
    "mask.plot.imshow()\n",
    "# sf.grid.mask.plot.imshow()"
   ]
  },
  {
   "attachments": {},
   "cell_type": "markdown",
   "metadata": {},
   "source": [
    "Also take into account depth"
   ]
  },
  {
   "cell_type": "code",
   "execution_count": null,
   "metadata": {},
   "outputs": [],
   "source": [
    "from hydromt import DataCatalog\n",
    "from hydromt_sfincs import workflows\n",
    "data_catalog = DataCatalog() # north Italy\n",
    "\n",
    "# sf.grid.data.raster.set_crs(sf.grid.crs)\n",
    "region = sf.grid.mask.raster.box\n",
    "da_dep= data_catalog.get_rasterdataset(\n",
    "    'gebco', variables=['elevtn'], geom=region, buffer=5\n",
    ")\n",
    "\n",
    "# reproject to destination CRS\n",
    "check_crs = sf.grid.crs is not None and da_dep.raster.crs != sf.grid.crs\n",
    "check_res = abs(da_dep.raster.res[0]) != sf.grid.dx\n",
    "if check_crs or check_res:\n",
    "    da_dep = da_dep.raster.reproject(\n",
    "        dst_res=sf.grid.dx, dst_crs=sf.grid.crs, align=True, method=\"bilinear\"\n",
    "    )\n",
    "# clip & mask\n",
    "da_dep = (\n",
    "    da_dep.raster.clip_geom(geom=region, mask=True)\n",
    "    .raster.mask_nodata() #set nodata to nan\n",
    "    .fillna(-9999)  # force nodata value to be -9999\n",
    "    .round(2)  # cm precision\n",
    ")\n",
    "da_dep.raster.set_nodata(-9999)\n",
    "\n",
    "# eventually merge datasets\n",
    "# da_dep2= data_catalog.get_rasterdataset(\n",
    "#     'merit_hydro', variables=['elevtn'], geom=region, buffer=5\n",
    "# )\n",
    "# da_dep_merged = workflows.merge_topobathy(\n",
    "#     da_dep,\n",
    "#     da_dep2,\n",
    "# )\n",
    "\n",
    "# da_dep_merged.raster.mask_nodata().plot.imshow()\n"
   ]
  },
  {
   "cell_type": "code",
   "execution_count": null,
   "metadata": {},
   "outputs": [],
   "source": [
    "# assign to SFINCS model\n",
    "da_dep.name = \"dep\"\n",
    "\n",
    "# NOTE: mask cannot be named mask since mask is in coordinates of xarray -> changed into msk\n",
    "\n",
    "sf.grid.data.update(da_dep.to_dataset())"
   ]
  },
  {
   "cell_type": "code",
   "execution_count": null,
   "metadata": {},
   "outputs": [],
   "source": [
    "#play around with include, drop_area and fill_area\n",
    "mask = sf.grid.create_mask_active(elv_min=-5, elv_max=10, fill_area = 10, drop_area = 10, gdf_include=gdf_include)\n",
    "mask.plot.imshow()"
   ]
  },
  {
   "attachments": {},
   "cell_type": "markdown",
   "metadata": {},
   "source": [
    "Mask boundaries"
   ]
  },
  {
   "cell_type": "code",
   "execution_count": null,
   "metadata": {},
   "outputs": [],
   "source": [
    "file_name = \"sfincs_coastal\\\\bnd_wl.pol\"\n",
    "gdf_wl = tekal_to_gdf(file_name=file_name, crs='epsg:'+str(sf.inp.crs))\n",
    "\n",
    "file_name = \"sfincs_coastal\\\\bnd_out.pol\"\n",
    "gdf_outflow = tekal_to_gdf(file_name=file_name, crs='epsg:'+str(sf.inp.crs))"
   ]
  },
  {
   "cell_type": "code",
   "execution_count": null,
   "metadata": {},
   "outputs": [],
   "source": [
    "sf.grid.create_mask_bounds(btype=\"waterlevel\",gdf_include=gdf_wl, elv_max = -2)\n",
    "sf.grid.create_mask_bounds(btype=\"outflow\",gdf_include=gdf_outflow, elv_min = 2)\n",
    "\n",
    "sf.grid.mask.plot.imshow()"
   ]
  }
 ],
 "metadata": {
  "kernelspec": {
   "display_name": "hydromt-dev",
   "language": "python",
   "name": "python3"
  },
  "language_info": {
   "codemirror_mode": {
    "name": "ipython",
    "version": 3
   },
   "file_extension": ".py",
   "mimetype": "text/x-python",
   "name": "python",
   "nbconvert_exporter": "python",
   "pygments_lexer": "ipython3",
   "version": "3.10.6"
  },
  "orig_nbformat": 4,
  "vscode": {
   "interpreter": {
    "hash": "1a1c0d40e2688e13ef4c1e0a0bd8d32101069a8b3879fd20a3f04202f98b0ae3"
   }
  }
 },
 "nbformat": 4,
 "nbformat_minor": 2
}
