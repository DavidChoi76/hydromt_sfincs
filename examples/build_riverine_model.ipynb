{
 "cells": [
  {
   "cell_type": "markdown",
   "id": "9a73590b",
   "metadata": {},
   "source": [
    "## Build a riverine SFINCS model from scratch"
   ]
  },
  {
   "cell_type": "markdown",
   "id": "ee510c6e",
   "metadata": {},
   "source": [
    "This notebook demonstrates how to prepare **SFINCS** model from scratch using the command line interace (CLI)."
   ]
  },
  {
   "cell_type": "markdown",
   "id": "6b96aa15",
   "metadata": {},
   "source": [
    "All lines in this notebook which start with `!` are executed from the command line. Within the notebook environment the logging messages are shown after completion. You can also copy these lines and paste these in your shell to get more direct feedback."
   ]
  },
  {
   "cell_type": "markdown",
   "id": "451c8168",
   "metadata": {},
   "source": [
    "### hydroMT CLI build interface"
   ]
  },
  {
   "cell_type": "markdown",
   "id": "2c70853e",
   "metadata": {},
   "source": [
    "Lets first check if the SFINCS model is recognized by hydromt"
   ]
  },
  {
   "cell_type": "code",
   "execution_count": null,
   "id": "40470302",
   "metadata": {},
   "outputs": [],
   "source": [
    "# this should return \"sfincs\"\n",
    "!hydromt --models"
   ]
  },
  {
   "cell_type": "markdown",
   "id": "7d9b5a20",
   "metadata": {},
   "source": [
    "Using the **hydromt build** API we can setup a complete model from scratch. Let's get an overview of all the available options:"
   ]
  },
  {
   "cell_type": "code",
   "execution_count": null,
   "id": "1d39e4a1",
   "metadata": {},
   "outputs": [],
   "source": [
    "!hydromt build --help"
   ]
  },
  {
   "cell_type": "markdown",
   "id": "f286fccb",
   "metadata": {},
   "source": [
    "### setup SFINCS model base layers "
   ]
  },
  {
   "cell_type": "code",
   "execution_count": null,
   "id": "66d994e2",
   "metadata": {},
   "outputs": [],
   "source": [
    "# NOTE: copy this line (without !) to your shell for more direct feedback\n",
    "!hydromt build sfincs \"./sfincs_test_base\" \"{'bbox': [11.975098,45.786918,12.271385,45.938019]}\" -r 100 -vv"
   ]
  },
  {
   "cell_type": "markdown",
   "id": "cb9d0032",
   "metadata": {},
   "source": [
    "The example above means the following: run **hydromt build** with:\n",
    "\n",
    "* `sfincs` : i.e. build a sfincs model\n",
    "* `./sfincs_test_base` : output model folder\n",
    "* `\"{'bbox': [11.975098,45.786918,12.271385,45.938019]}\"` : make a model that is active for the full given bounding box. All *REGION* options are described in the [docs](https://deltares.github.io/hydromt/latest/user_guide/cli.html#region-options)\n",
    "* `-r 100` : build the model at a 100 meter resolution\n",
    "* `-vv` : give some extra verbosity (2 * v) to display feedback on screen. Now debug messages are provided.\n",
    "\n",
    "NOTE: As we did not specify a model configuration, only the base maps (topography) have been setup using default parameters. To build a complete model we need the use a configuraton ini-file."
   ]
  },
  {
   "cell_type": "markdown",
   "id": "ebd31242",
   "metadata": {},
   "source": [
    "### Model setup configuration"
   ]
  },
  {
   "cell_type": "markdown",
   "id": "fb8282c9",
   "metadata": {},
   "source": [
    "The ini-file contains the model setup configuration and determines which components are build and in which order and optionally sets non-default arguments for each component. This configuration is passed to hydromt using `-i <path_to_ini_file>`. We have prepared several example ini-files which are available in the model repository [examples folder](https://github.com/Deltares/hydromt_sfincs/tree/main/examples) and from the [docs(build_configuration)](https://deltares.github.io/hydromt_sfincs/latest/user_guide/sfincs/build_configuration.html). \n",
    "\n",
    "Each header as shown between `[...]` (e.g. `[setup_basemaps]`) corresponds to a model component. All model components are explained in the [docs(model_components)](https://deltares.github.io/hydromt_sfincs/latest/user_guide/sfincs/components.html). "
   ]
  },
  {
   "cell_type": "markdown",
   "id": "cc3fd44d",
   "metadata": {},
   "source": [
    "We will load the default SFINCS build ini file for inspection:"
   ]
  },
  {
   "cell_type": "code",
   "execution_count": null,
   "id": "e88d4aed",
   "metadata": {},
   "outputs": [],
   "source": [
    "fn_ini = 'sfincs_riverine.ini'\n",
    "with open(fn_ini, 'r') as f:\n",
    "    txt = f.read()\n",
    "print(txt)"
   ]
  },
  {
   "cell_type": "markdown",
   "id": "7584dcae",
   "metadata": {},
   "source": [
    "### Data for model setup"
   ]
  },
  {
   "cell_type": "markdown",
   "id": "dad35651",
   "metadata": {},
   "source": [
    "The `<...>_fn` arguments correspond to a data source from the `DataCatalog` which is based on a yml-file with references to the data paths/urls and how the data should be read. This file can be provided to hydromt using `-d <path_to_yml_file>`. \n",
    "\n",
    "By default some example data for the Piave basin will be downloaded to `~/.hydromt_data/` which is also used for this example. An overview of the available example data is provided [here](https://deltares.github.io/hydromt/latest/user_guide/data.html#available-global-datasets)\n",
    "This example data is a based on the data which available from the Deltares p-drive. \n",
    "If you have acces to this drive, a pre-configured catalog file can be loaded using the `--dd` flag. \n",
    "\n",
    "More background how to write a data catalog yml file can be found in the [hydromt core docs](https://deltares.github.io/hydromt/latest/user_guide/data.html) "
   ]
  },
  {
   "cell_type": "markdown",
   "id": "12860ed2",
   "metadata": {},
   "source": [
    "### Setup complete SFINCS model "
   ]
  },
  {
   "cell_type": "code",
   "execution_count": null,
   "id": "hundred-trailer",
   "metadata": {
    "scrolled": true
   },
   "outputs": [],
   "source": [
    "# NOTE: copy this line (without !) to your shell for more direct feedback\n",
    "!hydromt build sfincs \"./sfincs_test_full\" \"{'bbox': [11.975098,45.786918,12.271385,45.938019]}\" -r 50 -i sfincs_riverine.ini -vv"
   ]
  },
  {
   "cell_type": "markdown",
   "id": "b31e92d2",
   "metadata": {},
   "source": [
    "With this example we build a complete SFINCS model including forcing. Compared to the previous **hydromt build** we have added:\n",
    "* `-i sfincs_riverine.ini` : setup configuration file including all components to build and their arguments"
   ]
  },
  {
   "cell_type": "markdown",
   "id": "2eed76e4",
   "metadata": {},
   "source": [
    "Next we check which files have been created. The model root should contain two netcdf (.nc) files, one for the staticmaps and one for the forcing data, a SFINCS configuration (sfincs.inp) file. These files are sufficient to run the SFINCS model. In addition several geometry (.geojson) files are saved in the *staticgeoms* folder.  Finally, the setup process is logged in the hydromt.log file. "
   ]
  },
  {
   "cell_type": "code",
   "execution_count": null,
   "id": "wireless-style",
   "metadata": {},
   "outputs": [],
   "source": [
    "import os\n",
    "root = 'sfincs_test_full'\n",
    "for path, _, files in os.walk(root):\n",
    "    print(path)\n",
    "    for name in files:\n",
    "        if name.endswith('.xml'):\n",
    "            continue\n",
    "        print(f' - {name}')"
   ]
  },
  {
   "cell_type": "markdown",
   "id": "adef7fa1",
   "metadata": {},
   "source": [
    "### Visualize and/or inspect model schematization"
   ]
  },
  {
   "cell_type": "markdown",
   "id": "288cd3ff",
   "metadata": {},
   "source": [
    "### Inspecting the model\n",
    "Let's have a closer look at the model. To interact with a model within a notebook or python script, we need to load a number of modules."
   ]
  },
  {
   "cell_type": "code",
   "execution_count": null,
   "id": "ea59fd26",
   "metadata": {},
   "outputs": [],
   "source": [
    "%matplotlib inline\n",
    "import hydromt\n",
    "import os\n"
   ]
  },
  {
   "cell_type": "markdown",
   "id": "9fafa5d9",
   "metadata": {},
   "source": [
    "Now we can load the model in memory and inspect it.\n",
    "Shown is the elevation in the SFINCS model as map, the main rivers as blue lines that determine the inflow locations, the minor rivers in red lines that determine the outflow locations and discharge input points as numbered triangles."
   ]
  },
  {
   "cell_type": "code",
   "execution_count": null,
   "id": "f500dc42",
   "metadata": {},
   "outputs": [],
   "source": [
    "# define the model's configuration file\n",
    "root = r'./sfincs_test_full'\n",
    "config_fn = os.path.abspath(os.path.join(root, 'sfincs.inp'))\n",
    "print(config_fn)\n",
    "# read the model with hydromt sfincs methods\n",
    "mod = hydromt.SfincsModel(root=root, config_fn=config_fn, mode=\"r\")\n",
    "mod.read()\n",
    "mod.plot_basemap(figsize=(12, 10))\n",
    "\n",
    "mod.plot_forcing()"
   ]
  },
  {
   "cell_type": "markdown",
   "id": "20ce9df3",
   "metadata": {},
   "source": [
    "* The **SFINCS plot riverine** example notebook contains scripts to visualize your model\n"
   ]
  }
 ],
 "metadata": {
  "kernelspec": {
   "display_name": "Python 3",
   "language": "python",
   "name": "python3"
  },
  "language_info": {
   "codemirror_mode": {
    "name": "ipython",
    "version": 3
   },
   "file_extension": ".py",
   "mimetype": "text/x-python",
   "name": "python",
   "nbconvert_exporter": "python",
   "pygments_lexer": "ipython3",
   "version": "3.9.2"
  }
 },
 "nbformat": 4,
 "nbformat_minor": 5
}
