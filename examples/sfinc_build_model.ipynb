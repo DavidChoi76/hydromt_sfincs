{
 "cells": [
  {
   "cell_type": "markdown",
   "metadata": {},
   "source": [
    "# Make a coastal sfincs model from scratch using hydromt"
   ]
  },
  {
   "cell_type": "markdown",
   "metadata": {},
   "source": [
    "This notebook demonstrates how to prepare and inspect a SFINCS model from scratch. The notebook does not contain the SFINCS code or executables to run the model with. \n",
    "\n",
    "We will make a schematization with the following features:\n",
    "* we only simulate coastal flooding, we do not consider any interactions with riverine flooding\n",
    "* we use the MERIT Hydro dataset as elevation\n",
    "* we include boundary conditions from the Global Tide and Surge Model by imposing a number of boundary points    where forcing is expected\n",
    "\n"
   ]
  },
  {
   "cell_type": "markdown",
   "metadata": {},
   "source": [
    "### HydroMT CLI build interface\n",
    "First let us see what hydromt provides us with."
   ]
  },
  {
   "cell_type": "code",
   "execution_count": null,
   "metadata": {},
   "outputs": [],
   "source": [
    "!hydromt --help"
   ]
  },
  {
   "cell_type": "markdown",
   "metadata": {},
   "source": [
    "It looks like we have several commands that we can consider. We want to `build` a model. How does that work? We can also call `--help` on the available hydromt commands as follows."
   ]
  },
  {
   "cell_type": "code",
   "execution_count": null,
   "metadata": {},
   "outputs": [],
   "source": [
    "!hydromt build --help"
   ]
  },
  {
   "cell_type": "markdown",
   "metadata": {},
   "source": [
    "### Building a first model (and getting an error when data is missing)\n",
    "Let's try to build an entire schematisation, just from the command line (Awesome!!!). In the `--help` section, there is an example for making a model from a bounding box, which is very intuitive. Let's try exactly that. We store the model on the local path `./texel_sfincs`"
   ]
  },
  {
   "cell_type": "code",
   "execution_count": null,
   "metadata": {},
   "outputs": [],
   "source": [
    "!hydromt build sfincs ./texel_sfincs \"{'bbox': [4.6891,52.9750,4.9576,53.1994]}\""
   ]
  },
  {
   "cell_type": "markdown",
   "metadata": {},
   "source": [
    "The above might have taken a few seconds, but then should have miserably crashed! What happened:\n",
    "* HydroMT was looking for a data catalog to use. \n",
    "* It did not find any and therefore, it automatically downloaded a sample data catalog which you can now find on your home folder under .hydromt_data\n",
    "* It tried to build a model in the Texel bounding box, but...alas, the sample dataset does not cover Texel at all!\n"
   ]
  },
  {
   "cell_type": "markdown",
   "metadata": {},
   "source": [
    "### Building a first model (and getting it right)\n",
    "Let's adapt the bounding box to an area that fits within the sample dataset. The dataset covers the Piave basin and its surroundings in Italy. A good place to get a CSV formatted bounding box is https://boundingbox.klokantech.com/\n",
    "\n",
    "We also add `-vv` for extra verbosity"
   ]
  },
  {
   "cell_type": "code",
   "execution_count": null,
   "metadata": {},
   "outputs": [],
   "source": [
    "!hydromt build sfincs ./venice_sfincs \"{'bbox': [12.047909,45.15809,12.833432,45.646944]}\" -vv"
   ]
  },
  {
   "cell_type": "markdown",
   "metadata": {},
   "source": [
    "This should work without any errors. \n",
    "\n",
    "The example above means the following: run **hydromt build** with:\n",
    "\n",
    "* `sfincs` : i.e. build a sfincs model\n",
    "* `./venice_sfincs` : output model folder\n",
    "* `\"{'bbox': [12.047909,45.15809,12.833432,45.646944]}\"` : make a model that is active for the full given bounding box. All *REGION* options are described in the [docs](https://deltares.github.io/hydromt/latest/user_guide/cli.html#region-options)\n",
    "* `-vv` : give some extra verbosity (2 * v) to display feedback on screen. Now debug messages are provided.\n",
    "\n",
    "NOTE: As we did not specify a model configuration, only the base maps (topography) have been setup using default parameters. To build a complete model we need the use a configuraton ini-file.\n",
    "\n",
    "We can now inspect the newly created folder `./venice_sfincs`"
   ]
  },
  {
   "cell_type": "code",
   "execution_count": null,
   "metadata": {},
   "outputs": [],
   "source": [
    "ls ./venice_sfincs"
   ]
  },
  {
   "cell_type": "markdown",
   "metadata": {},
   "source": [
    "The .log file contains the same messages as shown in the verbose messages during the building of the model. The files are standard sfincs formats and contain the following\n",
    "* .inp file : holds the model's configuration\n",
    "* .dep file : holds the bathymetry in the typical format of sfincs\n",
    "* .msk file : mask file (0, inactive cells, 1, active cells, 2, boundary cells)\n",
    "\n",
    "Let us have a closer look at the model's configuration"
   ]
  },
  {
   "cell_type": "code",
   "execution_count": null,
   "metadata": {},
   "outputs": [],
   "source": [
    "fn_inp = './venice_sfincs/sfincs.inp'\n",
    "with open(fn_inp, 'r') as f:\n",
    "    txt = f.read()\n",
    "\n",
    "print(txt)"
   ]
  },
  {
   "cell_type": "markdown",
   "metadata": {},
   "source": [
    "We see that quite standard settings are used. The coordinate reference system (see `epsg`) is automatically chosen to the nearest UTM zone. We have not even considered the resolution. It is now 100 meters (see `dx` and `dy`). Let's assume we want a 50 meter model and rebuild it. The `--help` section showed that the `-r` option has to be used to change this. Building will take longer."
   ]
  },
  {
   "cell_type": "code",
   "execution_count": null,
   "metadata": {},
   "outputs": [],
   "source": [
    "!hydromt build sfincs ./venice_sfincs \"{'bbox': [12.047909,45.15809,12.833432,45.646944]}\" -r 50 -vv\n",
    "fn_inp = './venice_sfincs/sfincs.inp'\n",
    "with open(fn_inp, 'r') as f:\n",
    "    txt = f.read()\n",
    "\n",
    "print(txt)"
   ]
  },
  {
   "cell_type": "markdown",
   "metadata": {},
   "source": [
    "It is clear that the `dx` and `dy` settings are changed."
   ]
  },
  {
   "cell_type": "markdown",
   "metadata": {},
   "source": [
    "### Inspecting the model\n",
    "Let's have a closer look at the model. To interact with a model within a notebook or python script, we need to load a number of modules."
   ]
  },
  {
   "cell_type": "code",
   "execution_count": null,
   "metadata": {},
   "outputs": [],
   "source": [
    "%matplotlib inline\n",
    "import hydromt\n",
    "import os\n"
   ]
  },
  {
   "cell_type": "markdown",
   "metadata": {},
   "source": [
    "Now we can load the model in memory and inspect it."
   ]
  },
  {
   "cell_type": "code",
   "execution_count": null,
   "metadata": {},
   "outputs": [],
   "source": [
    "# define the model's configuration file\n",
    "root = r'./venice_sfincs'\n",
    "config_fn = os.path.abspath(os.path.join(root, 'sfincs.inp'))\n",
    "print(config_fn)\n",
    "# read the model with hydromt sfincs methods\n",
    "mod = hydromt.SfincsModel(root=root, config_fn=config_fn, mode=\"r\")\n",
    "mod.read()\n",
    "mod.plot_basemap(figsize=(12, 10))"
   ]
  },
  {
   "cell_type": "markdown",
   "metadata": {},
   "source": [
    "### Next steps\n",
    "You can update an existing model, e.g. to replace parameterisations or add forcing. this is descibed in a follow-up notebook `sfincs_update_model.ipynb`"
   ]
  },
  {
   "cell_type": "code",
   "execution_count": null,
   "metadata": {},
   "outputs": [],
   "source": []
  }
 ],
 "metadata": {
  "kernelspec": {
   "display_name": "Python 3",
   "language": "python",
   "name": "python3"
  },
  "language_info": {
   "codemirror_mode": {
    "name": "ipython",
    "version": 3
   },
   "file_extension": ".py",
   "mimetype": "text/x-python",
   "name": "python",
   "nbconvert_exporter": "python",
   "pygments_lexer": "ipython3",
   "version": "3.9.2"
  }
 },
 "nbformat": 4,
 "nbformat_minor": 4
}
