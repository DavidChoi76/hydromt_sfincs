{
 "cells": [
  {
   "cell_type": "markdown",
   "metadata": {},
   "source": [
    "## Sfincs results: maximum water depth"
   ]
  },
  {
   "attachments": {},
   "cell_type": "markdown",
   "metadata": {},
   "source": [
    "The example used in this notebook is based on a regular SFINCS model, i.e. no subgrid tables are used. In the absence of the subgrid tables, SFINCS computes the water depth by simply substracting the bed levels from the water levels. The (maximum) water depth **h(max)** is stored in the NetCDF output (*sfincs_map.nc*). \n",
    "\n",
    "How to derive maximum water depths for a model including subgrid tables is explained [later](#determine-maximum-water-depth-for-a-subgrid-model) in this notebook."
   ]
  },
  {
   "cell_type": "code",
   "execution_count": null,
   "metadata": {},
   "outputs": [],
   "source": [
    "from os.path import join\n",
    "import matplotlib.pyplot as plt\n",
    "from hydromt_sfincs import SfincsModel, utils"
   ]
  },
  {
   "cell_type": "markdown",
   "metadata": {},
   "source": [
    "### Read model results"
   ]
  },
  {
   "cell_type": "markdown",
   "metadata": {},
   "source": [
    "The model results in sfincs_map.nc are saved as in a staggered grid format, see [SGRID convention](https://publicwiki.deltares.nl/display/NETCDF/Deltares+proposal+for+Staggered+Grid+data+model+(SGRID)). Here we show how to retrieve the face values and translate the dimensions from node indices (m, n) to (x, y) coordinates in order to plot the results on a map."
   ]
  },
  {
   "cell_type": "code",
   "execution_count": null,
   "metadata": {},
   "outputs": [],
   "source": [
    "sfincs_root = \"sfincs_compound\"  # (relative) path to sfincs root\n",
    "mod = SfincsModel(sfincs_root, mode=\"r\")"
   ]
  },
  {
   "cell_type": "code",
   "execution_count": null,
   "metadata": {},
   "outputs": [],
   "source": [
    "# we can simply read the model results (sfincs_map.nc and sfincs_his.nc) using the read_results method\n",
    "mod.read_results()\n",
    "# the following variables have been found\n",
    "list(mod.results.keys())"
   ]
  },
  {
   "cell_type": "code",
   "execution_count": null,
   "metadata": {},
   "outputs": [],
   "source": [
    "# plot the model layout\n",
    "fig, ax = mod.plot_basemap(fn_out=None, bmap=\"sat\", figsize=(11, 7))"
   ]
  },
  {
   "cell_type": "markdown",
   "metadata": {},
   "source": [
    "### Write maximum waterdepth to geotiff file"
   ]
  },
  {
   "cell_type": "code",
   "execution_count": null,
   "metadata": {},
   "outputs": [],
   "source": [
    "# write hmax to <mod.root>/gis/hmax.tif\n",
    "mod.write_raster(\"results.hmax\", compress=\"LZW\")\n",
    "\n",
    "# this is identical to the following:\n",
    "# hmax = mod.results['hmax']\n",
    "# hmax = hmax.reindex(y=list(reversed(hmax['y'].values))) # change orientation to N -> S\n",
    "# hmax.raster.to_raster(join(mod.root, 'gis', 'hmax.tif'), compress='LZW')"
   ]
  },
  {
   "cell_type": "markdown",
   "metadata": {},
   "source": [
    "### Plot maximum water depth with surface water mask "
   ]
  },
  {
   "cell_type": "markdown",
   "metadata": {},
   "source": [
    "First we mask the water depth based on a map of permanent water to get the flood extent. \n",
    "The mask is calculated from the Global Surface Water Occurence (GSWO) dataset. "
   ]
  },
  {
   "cell_type": "code",
   "execution_count": null,
   "metadata": {},
   "outputs": [],
   "source": [
    "# read global surface water occurance (GSWO) data to mask permanent water\n",
    "mod.data_catalog.from_artifacts()\n",
    "print(mod.data_catalog[\"gswo\"])\n",
    "gswo = mod.data_catalog.get_rasterdataset(\"gswo\", geom=mod.region, buffer=10)\n",
    "\n",
    "# NOTE to read data for a different region than Northen Italy add this data to the data catalog:\n",
    "# mod.data_catalog.from_yml('/path/to/data_catalog.yml')\n",
    "\n",
    "# permanent water where water occurence > 5%\n",
    "gswo_mask = gswo.raster.reproject_like(mod.grid, method=\"max\") <= 5"
   ]
  },
  {
   "cell_type": "code",
   "execution_count": null,
   "metadata": {},
   "outputs": [],
   "source": [
    "hmin = 0.05  # minimum flood depth [m] to plot\n",
    "\n",
    "# hmax is computed by SFINCS and read-in from the sfincs_map.nc file\n",
    "da_hmax = mod.results[\"hmax\"]  \n",
    "\n",
    "# get overland flood depth with GSWO and set minimum flood depth\n",
    "da_hmax_fld = da_hmax.where(gswo_mask).where(da_hmax > hmin)\n",
    "\n",
    "# update attributes for colorbar label later\n",
    "da_hmax.attrs.update(long_name=\"flood depth\", unit=\"m\")"
   ]
  },
  {
   "attachments": {},
   "cell_type": "markdown",
   "metadata": {},
   "source": [
    "Here we plot the maximum water depth on top of the `plot_basemap` method to also include the locations of discharge source points and observation gauge locations."
   ]
  },
  {
   "cell_type": "code",
   "execution_count": null,
   "metadata": {},
   "outputs": [],
   "source": [
    "# create hmax plot and save to mod.root/figs/hmax.png\n",
    "fig, ax = mod.plot_basemap(\n",
    "    fn_out=None,\n",
    "    variable=\"\", # no variable to plot, only basemap\n",
    "    plot_bounds=False, \n",
    "    bmap=\"sat\",\n",
    "    zoomlevel=12,\n",
    "    figsize=(11, 7),\n",
    ")\n",
    "# plot overland flooding based on gswo mask and minimum flood depth\n",
    "cbar_kwargs = {\"shrink\": 0.6, \"anchor\": (0, 0)}\n",
    "cax_fld = da_hmax_fld.plot(\n",
    "    x=\"xc\", y=\"yc\",\n",
    "    ax=ax,\n",
    "    vmin=0, vmax=3.0,\n",
    "    cmap=plt.cm.viridis,\n",
    "    cbar_kwargs=cbar_kwargs\n",
    ")\n",
    "\n",
    "ax.set_title(f\"SFINCS maximum water depth\")\n",
    "# plt.savefig(join(mod.root, 'figs', 'hmax.png'), dpi=225, bbox_inches=\"tight\")"
   ]
  },
  {
   "attachments": {},
   "cell_type": "markdown",
   "metadata": {},
   "source": [
    "### Determine maximum water depth for a subgrid model"
   ]
  },
  {
   "attachments": {},
   "cell_type": "markdown",
   "metadata": {},
   "source": [
    "When subgrid tables are used, these are based on elevation data of a resolution higher than the resolution of the computational grid. The bed levels stored in the NetCDF output (*zb* in *sfincs_map.nc*) are the minimum bed levels from the subgrid tables of each computational cell. Therefore, to properly derive water depths, the higher resolution elevation data should be used instead of simply using the bed levels from the model output (this would result in an overestimation of flood extents). The process of interpolating the water levels onto the higher-resolution elevation data is called downscaling.\n",
    "\n",
    "The downscaling of the floodmap roughly includees the following steps:\n",
    "\n",
    "1. Select your high-resolution elevation dataset\n",
    "2. Retrieve the maximum water levels from your model\n",
    "3. Determine if and how you want to mask your floodmap\n",
    "4. Write a geotiff of your downscaled floodmap\n",
    "5. Plot your downscaled floodmap here, or in QGIS"
   ]
  },
  {
   "cell_type": "code",
   "execution_count": null,
   "metadata": {},
   "outputs": [],
   "source": [
    "# select the example model\n",
    "sfincs_root = \"sfincs_compound\"  # (relative) path to sfincs root\n",
    "mod = SfincsModel(sfincs_root, mode=\"r\")"
   ]
  },
  {
   "attachments": {},
   "cell_type": "markdown",
   "metadata": {},
   "source": [
    "In the example, we used *GEBCO* (~450m resolution) and *MERIT Hydro* (~90m resolution) to create a model on 50 meters resolution. In this case, including subgrid tables didnt't add much information to the model. To still illustrate the process of downscaling, we will use the *dep.tif* (in the gis folder) which has 50m resolution. \n",
    "\n",
    "When creating a subgrid with `setup_subgrid`, you can easily create a geotiff on the subgrid resolution with the argument `write_dep_tif."
   ]
  },
  {
   "cell_type": "code",
   "execution_count": null,
   "metadata": {},
   "outputs": [],
   "source": [
    "# first we are going to select our highest-resolution elevation dataset\n",
    "depfile = join(sfincs_root, \"gis\", \"dep.tif\")\n",
    "\n",
    "# with the depfile on subgrid resolution this would be:\n",
    "# depfile = join(sfincs_root, \"subgrid\", \"dep_subgrid.tif\")\n",
    "\n",
    "dep = mod.data_catalog.get_rasterdataset(depfile)"
   ]
  },
  {
   "cell_type": "code",
   "execution_count": null,
   "metadata": {},
   "outputs": [],
   "source": [
    "# secondly we are reading in the model results\n",
    "mod.read_results()\n",
    "\n",
    "# now assuming we have a subgrid model, we don't have hmax available, so we are using zsmax (maximum water levels)\n",
    "zsmax = mod.results[\"zsmax\"]\n",
    "\n",
    "# compute the maximum over all time steps\n",
    "zsmax = zsmax.max(dim='timemax')"
   ]
  },
  {
   "cell_type": "code",
   "execution_count": null,
   "metadata": {},
   "outputs": [],
   "source": [
    "# Thirdly, we determine the masking of the floodmap\n",
    "\n",
    "# we could use the GSWO dataset to mask permanent water in a similar way as above\n",
    "# NOTE: this is masking the water levels on the computational grid resolution\n",
    "\n",
    "# alternatively we could use a geodataframe (e.g. OpenStreetMap landareas) to mask water bodies\n",
    "# NOTE: small rivers are not masked with this geodataframe\n",
    "gdf_osm = mod.data_catalog.get_geodataframe(\"osm_landareas\")\n",
    "\n",
    "# and again, we can use a threshold to mask minimum flood depth\n",
    "hmin = 0.05"
   ]
  },
  {
   "cell_type": "code",
   "execution_count": null,
   "metadata": {},
   "outputs": [],
   "source": [
    "# Fourthly, we downscale the floodmap and save to <mod.root>/floodmap.tif\n",
    "floodmap_fn = join(sfincs_root, \"floodmap.tif\")\n",
    "hmax = utils.downscale_floodmap(zsmax=zsmax, dep=dep, hmin=hmin, gdf_mask=gdf_osm, floodmap_fn=floodmap_fn)"
   ]
  },
  {
   "cell_type": "code",
   "execution_count": null,
   "metadata": {},
   "outputs": [],
   "source": [
    "# Lastly, we create a basemap plot with hmax on top\n",
    "fig, ax = mod.plot_basemap(\n",
    "    fn_out=None,\n",
    "    variable=\"\", # no variable to plot, only basemap\n",
    "    plot_bounds=False, \n",
    "    bmap=\"sat\",\n",
    "    zoomlevel=12,\n",
    "    figsize=(11, 7),\n",
    ")\n",
    "\n",
    "cbar_kwargs = {\"shrink\": 0.6, \"anchor\": (0, 0)}\n",
    "cax_fld = hmax.plot(\n",
    "    x=\"xc\", y=\"yc\",\n",
    "    ax=ax,\n",
    "    vmin=0, vmax=3.0,\n",
    "    cmap=plt.cm.viridis,\n",
    "    cbar_kwargs=cbar_kwargs,\n",
    ")\n",
    "\n",
    "ax.set_title(f\"SFINCS maximum water depth\")\n",
    "# plt.savefig(join(mod.root, 'figs', 'hmax.png'), dpi=225, bbox_inches=\"tight\")"
   ]
  }
 ],
 "metadata": {
  "kernelspec": {
   "display_name": "Python 3 (ipykernel)",
   "language": "python",
   "name": "python3"
  },
  "language_info": {
   "codemirror_mode": {
    "name": "ipython",
    "version": 3
   },
   "file_extension": ".py",
   "mimetype": "text/x-python",
   "name": "python",
   "nbconvert_exporter": "python",
   "pygments_lexer": "ipython3",
   "version": "3.10.9"
  }
 },
 "nbformat": 4,
 "nbformat_minor": 4
}
