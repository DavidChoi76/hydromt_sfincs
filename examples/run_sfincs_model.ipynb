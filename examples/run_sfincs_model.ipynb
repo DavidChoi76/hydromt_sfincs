{
 "cells": [
  {
   "cell_type": "markdown",
   "metadata": {},
   "source": [
    "# Run a SFINCS model"
   ]
  },
  {
   "cell_type": "markdown",
   "metadata": {},
   "source": [
    "This notebook demonstrates how to run and inspect a SFINCS model from scratch. The notebook does not contain the SFINCS code or executables to run the model with. "
   ]
  },
  {
   "cell_type": "markdown",
   "metadata": {},
   "source": [
    "All lines in this notebook which start with `!` are executed from the command line. Within jupyter (except for jupyter lab) the logging messages are shown after completion."
   ]
  },
  {
   "cell_type": "markdown",
   "metadata": {},
   "source": [
    "### Inspecting the batch-file to run SFINCS"
   ]
  },
  {
   "cell_type": "markdown",
   "metadata": {},
   "source": [
    "On Windows, you can run SFINCS by executing a batch-file.\n",
    "We have already prepared this for an example model called 'sfincs_riverine_rerun'.\n",
    "Let's now inspect this batch-file."
   ]
  },
  {
   "cell_type": "code",
   "execution_count": 8,
   "metadata": {},
   "outputs": [
    {
     "name": "stdout",
     "output_type": "stream",
     "text": [
      "call \"c:\\change_path_of_folder\\sfincs.exe\">sfincs_log.txt\n",
      "\n"
     ]
    }
   ],
   "source": [
    "fn_ini = \"./sfincs_compound/run.bat\"\n",
    "with open(fn_ini, \"r\") as f:\n",
    "    txt = f.read()\n",
    "print(txt)"
   ]
  },
  {
   "attachments": {},
   "cell_type": "markdown",
   "metadata": {},
   "source": [
    "* 'call' means here that an executable has to be run.\n",
    "* ..\\sfincs_exe\\ is the folder where the executable 'sfincs.exe' is located\n",
    "* The '>sfincs_log.txt' means that the output should be written to a log-file called 'sfincs_log.txt'"
   ]
  },
  {
   "attachments": {},
   "cell_type": "markdown",
   "metadata": {},
   "source": [
    "If you don't have SFINCS yet, download SFINCS from here: https://download.deltares.nl/en/download/sfincs/\n",
    "\n",
    "Then open the file 'run.bat' in any text editor, and add the folder of where you have saved the executable 'sfincs.exe'.\n",
    "\n",
    "e.g. to \"c:\\Users\\Leijnse\\SFINCS_download\\sfincs.exe\""
   ]
  },
  {
   "cell_type": "markdown",
   "metadata": {},
   "source": [
    "###  Open log file\n",
    "\n",
    "Let's see whether this log-file with information of SFINCS output information is already available"
   ]
  },
  {
   "cell_type": "code",
   "execution_count": 3,
   "metadata": {},
   "outputs": [
    {
     "name": "stdout",
     "output_type": "stream",
     "text": [
      "\n",
      " ----------- Welcome to SFINCS -----------\n",
      "\n",
      "  @@@@@  @@@@@@@ @@ @@  @@   @@@@   @@@@@ \n",
      " @@@ @@@ @@@@@@@ @@ @@@ @@ @@@@@@@ @@@ @@@\n",
      " @@@     @@      @@ @@@ @@ @@   @@ @@@    \n",
      "  @@@@@  @@@@@@  @@ @@@@@@ @@       @@@@@ \n",
      "     @@@ @@      @@ @@ @@@ @@   @@     @@@\n",
      " @@@ @@@ @@      @@ @@  @@  @@@@@@ @@@ @@@\n",
      "  @@@@@  @@      @@ @@   @   @@@@   @@@@@ \n",
      "\n",
      "              ..............              \n",
      "          ......:@@@@@@@@:......          \n",
      "       ..::::..@@........@@.:::::..       \n",
      "     ..:::::..@@..::..::..@@.::::::..     \n",
      "    .::::::..@@............@@.:::::::.    \n",
      "   .::::::..@@..............@@.:::::::.   \n",
      "  .::::::::..@@............@@..::::::::.  \n",
      " .:::::::::...@@.@..@@..@.@@..::::::::::. \n",
      " .:::::::::...:@@@..@@..@@@:..:::::::::.. \n",
      " ............@@.@@..@@..@@.@@............ \n",
      " ^^^~~^^~~^^@@..............@@^^^~^^^~~^^ \n",
      " .::::::::::@@..............@@.:::::::::. \n",
      "  .......:.@@.....@.....@....@@.:.......  \n",
      "   .::....@@......@.@@@.@....@@.....::.   \n",
      "    .:::~@@.:...:.@@...@@.:.:.@@~::::.    \n",
      "     .::~@@@@@@@@@@.....@@@@@@@@@~::.     \n",
      "       ..:~~~~~~~:.......:~~~~~~~:..      \n",
      "          ......................          \n",
      "              ..............              \n",
      "\n",
      " -----------------------------------------\n",
      "\n",
      " Build-Revision: $Rev: v2.0.1-beta$\n",
      " Build-Date:     $Date: 2023-03-10$\n",
      "\n",
      " Reading input file ...\n",
      " Info : Running SFINCS in regular mode ...\n",
      " Turning on process: Viscosity, with nuvisc=   0.5000000    \n",
      " Reading meteo data ...\n",
      " Info : Preparing SFINCS grid on regular mesh ...\n",
      " Reading sfincs.ind ...\n",
      " Reading sfincs.msk ...\n",
      " Number of active z points    :        20359\n",
      " Number of active u/v points  :        40364\n",
      " Reading sfincs.dep\n",
      " Reading water level boundaries ...\n",
      " Reading observation points ...\n",
      " Reading discharges ...\n",
      " Initializing output ...\n",
      "\n",
      " ---------- Starting simulation ----------\n",
      "\n",
      "   0% complete,       - s remaining ...\n",
      "   5% complete,     5.4 s remaining ...\n",
      "  10% complete,     4.6 s remaining ...\n",
      "  15% complete,     4.1 s remaining ...\n",
      "  20% complete,     3.8 s remaining ...\n",
      "  25% complete,     3.7 s remaining ...\n",
      "  30% complete,     3.5 s remaining ...\n",
      "  35% complete,     3.4 s remaining ...\n",
      "  40% complete,     3.3 s remaining ...\n",
      "  45% complete,     3.1 s remaining ...\n",
      "  50% complete,     2.8 s remaining ...\n",
      "  55% complete,     2.5 s remaining ...\n",
      "  60% complete,     2.3 s remaining ...\n",
      "  65% complete,     2.0 s remaining ...\n",
      "  70% complete,     1.7 s remaining ...\n",
      "  75% complete,     1.4 s remaining ...\n",
      "  80% complete,     1.1 s remaining ...\n",
      "  85% complete,     0.8 s remaining ...\n",
      "  90% complete,     0.6 s remaining ...\n",
      "  95% complete,     0.3 s remaining ...\n",
      " 100% complete,     0.0 s remaining ...\n",
      "\n",
      " Info : Write maximum values of final timestep since t=dtmaxout was not reached \n",
      " yet...\n",
      "\n",
      " ---------- Simulation finished ----------\n",
      "\n",
      " Total time             :      5.639\n",
      " Total simulation time  :      5.614\n",
      " Time in input          :      0.025\n",
      " Time in boundaries     :      0.345 (  6.1%)\n",
      " Time in discharges     :      0.008 (  0.1%)\n",
      " Time in momentum       :      4.176 ( 74.4%)\n",
      " Time in continuity     :      1.024 ( 18.2%)\n",
      " Time in output         :      0.039 (  0.7%)\n",
      "\n",
      " Average time step (s)  :      3.134\n",
      "\n",
      " ---------- Closing off SFINCS -----------\n",
      "\n"
     ]
    }
   ],
   "source": [
    "fn_ini = \"./sfincs_compound/sfincs_log.txt\"\n",
    "with open(fn_ini, \"r\") as f:\n",
    "    txt = f.read()\n",
    "print(txt)"
   ]
  },
  {
   "cell_type": "markdown",
   "metadata": {},
   "source": [
    "In case you get an error message, this means that the log-file is not available, and SFINCS has not run yet.\n",
    "\n",
    "Let's now do this..."
   ]
  },
  {
   "cell_type": "markdown",
   "metadata": {},
   "source": [
    "### Now let's try to run this batch-file"
   ]
  },
  {
   "cell_type": "code",
   "execution_count": 11,
   "metadata": {},
   "outputs": [],
   "source": [
    "import os\n",
    "\n",
    "run_path = \"./sfincs_compound\"\n",
    "\n",
    "cur_dir = os.getcwd()\n",
    "\n",
    "os.chdir(run_path)\n",
    "os.system('run.bat')\n",
    "os.chdir(cur_dir)"
   ]
  },
  {
   "attachments": {},
   "cell_type": "markdown",
   "metadata": {},
   "source": [
    "* It should now take less than a minute or so for the SFINCS simulation to finish (might take longer in Binder than when running locally using Jupyter Notebook)\n",
    "* We can now have a look at the log-file"
   ]
  },
  {
   "cell_type": "markdown",
   "metadata": {},
   "source": [
    "### Created log-file"
   ]
  },
  {
   "cell_type": "code",
   "execution_count": 12,
   "metadata": {},
   "outputs": [
    {
     "name": "stdout",
     "output_type": "stream",
     "text": [
      "\n",
      " ----------- Welcome to SFINCS -----------\n",
      "\n",
      "  @@@@@  @@@@@@@ @@ @@  @@   @@@@   @@@@@ \n",
      " @@@ @@@ @@@@@@@ @@ @@@ @@ @@@@@@@ @@@ @@@\n",
      " @@@     @@      @@ @@@ @@ @@   @@ @@@    \n",
      "  @@@@@  @@@@@@  @@ @@@@@@ @@       @@@@@ \n",
      "     @@@ @@      @@ @@ @@@ @@   @@     @@@\n",
      " @@@ @@@ @@      @@ @@  @@  @@@@@@ @@@ @@@\n",
      "  @@@@@  @@      @@ @@   @   @@@@   @@@@@ \n",
      "\n",
      "              ..............              \n",
      "          ......:@@@@@@@@:......          \n",
      "       ..::::..@@........@@.:::::..       \n",
      "     ..:::::..@@..::..::..@@.::::::..     \n",
      "    .::::::..@@............@@.:::::::.    \n",
      "   .::::::..@@..............@@.:::::::.   \n",
      "  .::::::::..@@............@@..::::::::.  \n",
      " .:::::::::...@@.@..@@..@.@@..::::::::::. \n",
      " .:::::::::...:@@@..@@..@@@:..:::::::::.. \n",
      " ............@@.@@..@@..@@.@@............ \n",
      " ^^^~~^^~~^^@@..............@@^^^~^^^~~^^ \n",
      " .::::::::::@@..............@@.:::::::::. \n",
      "  .......:.@@.....@.....@....@@.:.......  \n",
      "   .::....@@......@.@@@.@....@@.....::.   \n",
      "    .:::~@@.:...:.@@...@@.:.:.@@~::::.    \n",
      "     .::~@@@@@@@@@@.....@@@@@@@@@~::.     \n",
      "       ..:~~~~~~~:.......:~~~~~~~:..      \n",
      "          ......................          \n",
      "              ..............              \n",
      "\n",
      " -----------------------------------------\n",
      "\n",
      " Build-Revision: $Rev: v2.0.1-beta$\n",
      " Build-Date:     $Date: 2023-02-24$\n",
      "\n",
      " Reading input file ...\n",
      " Info : Running SFINCS in regular mode ...\n",
      " Turning on process: Viscosity, with nuvisc=   0.5000000    \n",
      " Reading meteo data ...\n",
      " Info : Preparing SFINCS grid on regular mesh ...\n",
      " Reading sfincs.ind ...\n",
      " Reading sfincs.msk ...\n",
      " Number of active z points    :        20359\n",
      " Number of active u/v points  :        40364\n",
      " Reading sfincs.dep\n",
      " Reading water level boundaries ...\n",
      " Reading observation points ...\n",
      " Reading discharges ...\n",
      " Initializing output ...\n",
      "\n",
      " ---------- Starting simulation ----------\n",
      "\n",
      "   0% complete,       - s remaining ...\n",
      "   5% complete,     5.1 s remaining ...\n",
      "  10% complete,     5.0 s remaining ...\n",
      "  15% complete,     5.0 s remaining ...\n",
      "  20% complete,     4.9 s remaining ...\n",
      "  25% complete,     4.7 s remaining ...\n",
      "  30% complete,     4.5 s remaining ...\n",
      "  35% complete,     4.2 s remaining ...\n",
      "  40% complete,     3.8 s remaining ...\n",
      "  45% complete,     3.4 s remaining ...\n",
      "  50% complete,     3.2 s remaining ...\n",
      "  55% complete,     2.9 s remaining ...\n",
      "  60% complete,     2.5 s remaining ...\n",
      "  65% complete,     2.2 s remaining ...\n",
      "  70% complete,     1.9 s remaining ...\n",
      "  75% complete,     1.7 s remaining ...\n",
      "  80% complete,     1.3 s remaining ...\n",
      "  85% complete,     1.0 s remaining ...\n",
      "  90% complete,     0.7 s remaining ...\n",
      "  95% complete,     0.3 s remaining ...\n",
      " 100% complete,     0.0 s remaining ...\n",
      "\n",
      " Info : Write maximum values of final timestep since t=dtmaxout was not reached \n",
      " yet...\n",
      "\n",
      " ---------- Simulation finished ----------\n",
      "\n",
      " Total time             :      6.534\n",
      " Total simulation time  :      6.518\n",
      " Time in input          :      0.016\n",
      " Time in boundaries     :      0.307 (  4.7%)\n",
      " Time in discharges     :      0.009 (  0.1%)\n",
      " Time in momentum       :      4.787 ( 73.4%)\n",
      " Time in continuity     :      1.184 ( 18.2%)\n",
      " Time in output         :      0.204 (  3.1%)\n",
      "\n",
      " Average time step (s)  :      3.134\n",
      "\n",
      " ---------- Closing off SFINCS -----------\n",
      "\n"
     ]
    }
   ],
   "source": [
    "fn_ini = \"./sfincs_compound/sfincs_log.txt\"\n",
    "with open(fn_ini, \"r\") as f:\n",
    "    txt = f.read()\n",
    "print(txt)"
   ]
  },
  {
   "cell_type": "markdown",
   "metadata": {},
   "source": [
    "Now we actually should have output!\n",
    "\n",
    "You have run your first SFINCS model."
   ]
  },
  {
   "cell_type": "markdown",
   "metadata": {},
   "source": [
    "### Created netcdf output files"
   ]
  },
  {
   "cell_type": "markdown",
   "metadata": {},
   "source": [
    "Let's now inspect what files there are situated in the folder of the model setup:"
   ]
  },
  {
   "cell_type": "code",
   "execution_count": 13,
   "metadata": {},
   "outputs": [
    {
     "name": "stdout",
     "output_type": "stream",
     "text": [
      "['figs', 'gis', 'hydromt.log', 'hydromt_data.yml', 'run.bat', 'sfincs.bnd', 'sfincs.bzs', 'sfincs.dep', 'sfincs.dis', 'sfincs.ind', 'sfincs.inp', 'sfincs.msk', 'sfincs.obs', 'sfincs.src', 'sfincs_his.nc', 'sfincs_log.txt', 'sfincs_map.nc']\n"
     ]
    }
   ],
   "source": [
    "path = './sfincs_compound'\n",
    "\n",
    "dir_list = os.listdir(path)\n",
    "\n",
    "# prints all files\n",
    "print(dir_list)"
   ]
  },
  {
   "attachments": {},
   "cell_type": "markdown",
   "metadata": {},
   "source": [
    "We see here the earlier inspected log-file 'sfincs_log.txt'\n",
    "\n",
    "Do you additionally see the files 'sfincs_map.nc' and 'sfincs_his.nc' ?\n",
    "\n",
    "These are output files of SFINCS, containing the model results in the common Netcdf format."
   ]
  },
  {
   "attachments": {},
   "cell_type": "markdown",
   "metadata": {},
   "source": [
    "### Continue"
   ]
  },
  {
   "attachments": {},
   "cell_type": "markdown",
   "metadata": {},
   "source": [
    "--> You can now continue to the notebook: analyse_sfincs_output.ipynb \n",
    "\n",
    "or in case of running a subgrid model: analyse_sfincs_subgrid_model.ipynb"
   ]
  }
 ],
 "metadata": {
  "kernelspec": {
   "display_name": "Python 3 (ipykernel)",
   "language": "python",
   "name": "python3"
  },
  "language_info": {
   "codemirror_mode": {
    "name": "ipython",
    "version": 3
   },
   "file_extension": ".py",
   "mimetype": "text/x-python",
   "name": "python",
   "nbconvert_exporter": "python",
   "pygments_lexer": "ipython3",
   "version": "3.10.9"
  },
  "vscode": {
   "interpreter": {
    "hash": "279caf9d0aef916ca877f8986f7dcbece9b492e90eb95f7626b621f6217a2bb3"
   }
  }
 },
 "nbformat": 4,
 "nbformat_minor": 4
}
