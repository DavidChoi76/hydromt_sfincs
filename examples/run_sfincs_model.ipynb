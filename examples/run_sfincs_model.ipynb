{
 "cells": [
  {
   "cell_type": "markdown",
   "metadata": {},
   "source": [
    "# Run a SFINCS model"
   ]
  },
  {
   "cell_type": "markdown",
   "metadata": {},
   "source": [
    "This notebook demonstrates how to run and inspect a SFINCS model from scratch. The notebook does not contain the SFINCS code or executables to run the model with. "
   ]
  },
  {
   "cell_type": "markdown",
   "metadata": {},
   "source": [
    "All lines in this notebook which start with `!` are executed from the command line. Within jupyter (except for jupyter lab) the logging messages are shown after completion."
   ]
  },
  {
   "cell_type": "markdown",
   "metadata": {},
   "source": [
    "### Inspecting the batch-file to run SFINCS"
   ]
  },
  {
   "cell_type": "markdown",
   "metadata": {},
   "source": [
    "On Windows, you can run SFINCS by executing a batch-file.\n",
    "We have already prepared this for an example model called 'Charleston_subgrid_example_basicforcing'.\n",
    "Let's now inspect this batch-file."
   ]
  },
  {
   "cell_type": "code",
   "execution_count": 1,
   "metadata": {},
   "outputs": [
    {
     "name": "stdout",
     "output_type": "stream",
     "text": [
      "call \"..\\sfincs_exe\\sfincs.exe\">sfincs_log.txt \n",
      "echo \"Simulation done\"\n"
     ]
    }
   ],
   "source": [
    "fn_ini = \"./course/Charleston_subgrid_example_basicforcing/run.bat\"\n",
    "with open(fn_ini, \"r\") as f:\n",
    "    txt = f.read()\n",
    "print(txt)"
   ]
  },
  {
   "cell_type": "markdown",
   "metadata": {},
   "source": [
    "* 'call' means here that an executable has to be run.\n",
    "* ..\\sfincs_exe\\ is the folder where the executable 'sfincs.exe' is located\n",
    "* The '>sfincs_log.txt' means that the output should be written to a log-file called 'sfincs_log.txt'"
   ]
  },
  {
   "cell_type": "markdown",
   "metadata": {},
   "source": [
    "###  Open log file\n",
    "\n",
    "Let's see whether this log-file with information of SFINCS output information is already available"
   ]
  },
  {
   "cell_type": "code",
   "execution_count": 2,
   "metadata": {},
   "outputs": [
    {
     "name": "stdout",
     "output_type": "stream",
     "text": [
      "\n",
      " ----------- Welcome to SFINCS -----------\n",
      "\n",
      "  @@@@@  @@@@@@@ @@ @@  @@   @@@@   @@@@@ \n",
      " @@@ @@@ @@@@@@@ @@ @@@ @@ @@@@@@@ @@@ @@@\n",
      " @@@     @@      @@ @@@ @@ @@   @@ @@@    \n",
      "  @@@@@  @@@@@@  @@ @@@@@@ @@       @@@@@ \n",
      "     @@@ @@      @@ @@ @@@ @@   @@     @@@\n",
      " @@@ @@@ @@      @@ @@  @@  @@@@@@ @@@ @@@\n",
      "  @@@@@  @@      @@ @@   @   @@@@   @@@@@ \n",
      "\n",
      " -----------------------------------------\n",
      "\n",
      " Build-Revision: $Rev: v2.0.0$\n",
      " Build-Date:     $Date: 2022-11-16\n",
      "\n",
      " Reading input file ...\n",
      " Info : Running SFINCS in subgrid mode ...\n",
      " Reading meteo data ...\n",
      " Info : Preparing SFINCS grid on regular mesh ...\n",
      " Reading sfincs.ind ...\n",
      " Reading sfincs.msk ...\n",
      " Number of active z points    :       119864\n",
      " Number of active u/v points  :       238715\n",
      " Reading sfincs.sbg ...\n",
      " Reading water level boundaries ...\n",
      " Reading observation points ...\n",
      " Initializing output ...\n",
      "\n",
      " ---------- Starting simulation ----------\n",
      "\n",
      "   0% complete,       - s remaining ...\n",
      "   5% complete,    26.1 s remaining ...\n",
      "  10% complete,    24.9 s remaining ...\n",
      "  15% complete,    23.9 s remaining ...\n",
      "  20% complete,    22.0 s remaining ...\n",
      "  25% complete,    20.7 s remaining ...\n",
      "  30% complete,    18.9 s remaining ...\n",
      "  35% complete,    17.2 s remaining ...\n",
      "  40% complete,    16.0 s remaining ...\n",
      "  45% complete,    14.9 s remaining ...\n",
      "  50% complete,    13.5 s remaining ...\n",
      "  55% complete,    12.3 s remaining ...\n",
      "  60% complete,    11.0 s remaining ...\n",
      "  65% complete,     9.6 s remaining ...\n",
      "  70% complete,     8.3 s remaining ...\n",
      "  75% complete,     6.9 s remaining ...\n",
      "  80% complete,     5.5 s remaining ...\n",
      "  85% complete,     4.2 s remaining ...\n",
      "  90% complete,     2.8 s remaining ...\n",
      "  95% complete,     1.4 s remaining ...\n",
      " 100% complete,     0.0 s remaining ...\n",
      "\n",
      " ---------- Simulation finished ----------\n",
      "              ..............              \n",
      "          ......:@@@@@@@@:......          \n",
      "       ..::::..@@........@@.:::::..       \n",
      "     ..:::::..@@..::..::..@@.::::::..     \n",
      "    .::::::..@@............@@.:::::::.    \n",
      "   .::::::..@@..............@@.:::::::.   \n",
      "  .::::::::..@@............@@..::::::::.  \n",
      " .:::::::::...@@.@..@@..@.@@..::::::::::. \n",
      " .:::::::::...:@@@..@@..@@@:..:::::::::.. \n",
      " ............@@.@@..@@..@@.@@............ \n",
      " ^^^~~^^~~^^@@..............@@^^^~^^^~~^^ \n",
      " .::::::::::@@..............@@.:::::::::. \n",
      "  .......:.@@.....@.....@....@@.:.......  \n",
      "   .::....@@......@.@@@.@....@@.....::.   \n",
      "    .:::~@@.:...:.@@...@@.:.:.@@~::::.    \n",
      "     .::~@@@@@@@@@@.....@@@@@@@@@~::.     \n",
      "       ..:~~~~~~~:.......:~~~~~~~:..      \n",
      "          ......................          \n",
      "              ..............              \n",
      " -----------------------------------------\n",
      "\n",
      " Total time             :     27.567\n",
      " Total simulation time  :     27.489\n",
      " Time in input          :      0.078\n",
      " Time in boundaries     :      2.392 (  8.7%)\n",
      " Time in momentum       :     18.084 ( 65.8%)\n",
      " Time in continuity     :      6.531 ( 23.8%)\n",
      " Time in output         :      0.432 (  1.6%)\n",
      "\n",
      " Average time step (s)  :      6.875\n",
      "\n",
      " ---------- Closing off SFINCS -----------\n",
      "\n"
     ]
    }
   ],
   "source": [
    "fn_ini = \"./course/Charleston_subgrid_example_basicforcing/sfincs_log.txt\"\n",
    "with open(fn_ini, \"r\") as f:\n",
    "    txt = f.read()\n",
    "print(txt)"
   ]
  },
  {
   "cell_type": "markdown",
   "metadata": {},
   "source": [
    "In case you get an error message, this means that the log-file is not available, and SFINCS has not run yet.\n",
    "\n",
    "Let's now do this..."
   ]
  },
  {
   "cell_type": "markdown",
   "metadata": {},
   "source": [
    "### Now let's try to run this batch-file"
   ]
  },
  {
   "cell_type": "code",
   "execution_count": 3,
   "metadata": {},
   "outputs": [],
   "source": [
    "import os\n",
    "\n",
    "run_path = \"./course/Charleston_subgrid_example_basicforcing\"\n",
    "\n",
    "cur_dir = os.getcwd()\n",
    "\n",
    "os.chdir(run_path)\n",
    "os.system('run.bat')\n",
    "os.chdir(cur_dir)\n"
   ]
  },
  {
   "cell_type": "markdown",
   "metadata": {},
   "source": [
    "* It should now take a minute or so for the SFINCS simulation to finish (might take longer in Binder than when running locally using Jupyter Notebook)\n",
    "* We can now have a look at the log-file"
   ]
  },
  {
   "cell_type": "markdown",
   "metadata": {},
   "source": [
    "### Created log-file"
   ]
  },
  {
   "cell_type": "code",
   "execution_count": 4,
   "metadata": {},
   "outputs": [
    {
     "name": "stdout",
     "output_type": "stream",
     "text": [
      "\n",
      " ----------- Welcome to SFINCS -----------\n",
      "\n",
      "  @@@@@  @@@@@@@ @@ @@  @@   @@@@   @@@@@ \n",
      " @@@ @@@ @@@@@@@ @@ @@@ @@ @@@@@@@ @@@ @@@\n",
      " @@@     @@      @@ @@@ @@ @@   @@ @@@    \n",
      "  @@@@@  @@@@@@  @@ @@@@@@ @@       @@@@@ \n",
      "     @@@ @@      @@ @@ @@@ @@   @@     @@@\n",
      " @@@ @@@ @@      @@ @@  @@  @@@@@@ @@@ @@@\n",
      "  @@@@@  @@      @@ @@   @   @@@@   @@@@@ \n",
      "\n",
      " -----------------------------------------\n",
      "\n",
      " Build-Revision: $Rev: v2.0.0$\n",
      " Build-Date:     $Date: 2022-11-16\n",
      "\n",
      " Reading input file ...\n",
      " Info : Running SFINCS in subgrid mode ...\n",
      " Reading meteo data ...\n",
      " Info : Preparing SFINCS grid on regular mesh ...\n",
      " Reading sfincs.ind ...\n",
      " Reading sfincs.msk ...\n",
      " Number of active z points    :       119864\n",
      " Number of active u/v points  :       238715\n",
      " Reading sfincs.sbg ...\n",
      " Reading water level boundaries ...\n",
      " Reading observation points ...\n",
      " Initializing output ...\n",
      "\n",
      " ---------- Starting simulation ----------\n",
      "\n",
      "   0% complete,       - s remaining ...\n",
      "   5% complete,    22.4 s remaining ...\n",
      "  10% complete,    21.4 s remaining ...\n",
      "  15% complete,    20.6 s remaining ...\n",
      "  20% complete,    20.2 s remaining ...\n",
      "  25% complete,    19.5 s remaining ...\n",
      "  30% complete,    18.4 s remaining ...\n",
      "  35% complete,    17.2 s remaining ...\n",
      "  40% complete,    15.9 s remaining ...\n",
      "  45% complete,    14.5 s remaining ...\n",
      "  50% complete,    13.2 s remaining ...\n",
      "  55% complete,    12.2 s remaining ...\n",
      "  60% complete,    10.8 s remaining ...\n",
      "  65% complete,     9.5 s remaining ...\n",
      "  70% complete,     8.1 s remaining ...\n",
      "  75% complete,     6.7 s remaining ...\n",
      "  80% complete,     5.5 s remaining ...\n",
      "  85% complete,     4.1 s remaining ...\n",
      "  90% complete,     2.8 s remaining ...\n",
      "  95% complete,     1.4 s remaining ...\n",
      " 100% complete,     0.0 s remaining ...\n",
      "\n",
      " ---------- Simulation finished ----------\n",
      "              ..............              \n",
      "          ......:@@@@@@@@:......          \n",
      "       ..::::..@@........@@.:::::..       \n",
      "     ..:::::..@@..::..::..@@.::::::..     \n",
      "    .::::::..@@............@@.:::::::.    \n",
      "   .::::::..@@..............@@.:::::::.   \n",
      "  .::::::::..@@............@@..::::::::.  \n",
      " .:::::::::...@@.@..@@..@.@@..::::::::::. \n",
      " .:::::::::...:@@@..@@..@@@:..:::::::::.. \n",
      " ............@@.@@..@@..@@.@@............ \n",
      " ^^^~~^^~~^^@@..............@@^^^~^^^~~^^ \n",
      " .::::::::::@@..............@@.:::::::::. \n",
      "  .......:.@@.....@.....@....@@.:.......  \n",
      "   .::....@@......@.@@@.@....@@.....::.   \n",
      "    .:::~@@.:...:.@@...@@.:.:.@@~::::.    \n",
      "     .::~@@@@@@@@@@.....@@@@@@@@@~::.     \n",
      "       ..:~~~~~~~:.......:~~~~~~~:..      \n",
      "          ......................          \n",
      "              ..............              \n",
      " -----------------------------------------\n",
      "\n",
      " Total time             :     28.316\n",
      " Total simulation time  :     28.239\n",
      " Time in input          :      0.077\n",
      " Time in boundaries     :      2.402 (  8.5%)\n",
      " Time in momentum       :     18.602 ( 65.9%)\n",
      " Time in continuity     :      6.809 ( 24.1%)\n",
      " Time in output         :      0.379 (  1.3%)\n",
      "\n",
      " Average time step (s)  :      6.875\n",
      "\n",
      " ---------- Closing off SFINCS -----------\n",
      "\n"
     ]
    }
   ],
   "source": [
    "fn_ini = \"./course/Charleston_subgrid_example_basicforcing/sfincs_log.txt\"\n",
    "with open(fn_ini, \"r\") as f:\n",
    "    txt = f.read()\n",
    "print(txt)"
   ]
  },
  {
   "cell_type": "markdown",
   "metadata": {},
   "source": [
    "Now we actually should have output!\n",
    "\n",
    "You have run your first SFINCS model."
   ]
  },
  {
   "cell_type": "markdown",
   "metadata": {},
   "source": [
    "### Created netcdf output files"
   ]
  },
  {
   "cell_type": "markdown",
   "metadata": {},
   "source": [
    "Let's now inspect what files there are situated in the folder of the model setup:"
   ]
  },
  {
   "cell_type": "code",
   "execution_count": 8,
   "metadata": {},
   "outputs": [
    {
     "name": "stdout",
     "output_type": "stream",
     "text": [
      "['pre-run_output', 'run.bat', 'sfincs.bnd', 'sfincs.bzs', 'sfincs.dep', 'sfincs.dis', 'sfincs.ind', 'sfincs.inp', 'sfincs.msk', 'sfincs.obs', 'sfincs.sbg', 'sfincs.src', 'sfincs.weir', 'sfincs_his.nc', 'sfincs_log.txt', 'sfincs_map.nc']\n"
     ]
    }
   ],
   "source": [
    "path = './course/Charleston_subgrid_example_basicforcing'\n",
    "\n",
    "dir_list = os.listdir(path)\n",
    "\n",
    "# prints all files\n",
    "print(dir_list)"
   ]
  },
  {
   "cell_type": "markdown",
   "metadata": {},
   "source": [
    "We see here the earlier inspected log-file 'sfincs_log.txt'\n",
    "\n",
    "Do you additionally see the files 'sfincs_map.nc' and 'sfincs_his.nc' ?\n",
    "\n",
    "These are output files of SFINCS, containing the model results in the common Netcdf format."
   ]
  }
 ],
 "metadata": {
  "kernelspec": {
   "display_name": "Python 3 (ipykernel)",
   "language": "python",
   "name": "python3"
  },
  "language_info": {
   "codemirror_mode": {
    "name": "ipython",
    "version": 3
   },
   "file_extension": ".py",
   "mimetype": "text/x-python",
   "name": "python",
   "nbconvert_exporter": "python",
   "pygments_lexer": "ipython3",
   "version": "3.10.8"
  },
  "vscode": {
   "interpreter": {
    "hash": "279caf9d0aef916ca877f8986f7dcbece9b492e90eb95f7626b621f6217a2bb3"
   }
  }
 },
 "nbformat": 4,
 "nbformat_minor": 4
}
