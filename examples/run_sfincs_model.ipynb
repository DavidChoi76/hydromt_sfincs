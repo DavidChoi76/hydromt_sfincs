{
 "cells": [
  {
   "cell_type": "markdown",
   "metadata": {},
   "source": [
    "# Run a SFINCS model"
   ]
  },
  {
   "cell_type": "markdown",
   "metadata": {},
   "source": [
    "This notebook demonstrates how to run and inspect a SFINCS model from scratch. The notebook does not contain the SFINCS code or executables to run the model with. "
   ]
  },
  {
   "cell_type": "markdown",
   "metadata": {},
   "source": [
    "All lines in this notebook which start with `!` are executed from the command line. Within jupyter (except for jupyter lab) the logging messages are shown after completion."
   ]
  },
  {
   "cell_type": "markdown",
   "metadata": {},
   "source": [
    "### Inspecting the batch-file to run SFINCS"
   ]
  },
  {
   "cell_type": "markdown",
   "metadata": {},
   "source": [
    "On Windows, you can run SFINCS by executing a batch-file.\n",
    "We have already prepared this for an example model called 'sfincs_riverine_rerun'.\n",
    "Let's now inspect this batch-file."
   ]
  },
  {
   "cell_type": "code",
   "execution_count": null,
   "metadata": {},
   "outputs": [],
   "source": [
    "fn_ini = \"./sfincs_compound/run.bat\"\n",
    "with open(fn_ini, \"r\") as f:\n",
    "    txt = f.read()\n",
    "print(txt)"
   ]
  },
  {
   "attachments": {},
   "cell_type": "markdown",
   "metadata": {},
   "source": [
    "* 'call' means here that an executable has to be run.\n",
    "* ..\\sfincs_exe\\ is the folder where the executable 'sfincs.exe' is located\n",
    "* The '>sfincs_log.txt' means that the output should be written to a log-file called 'sfincs_log.txt'"
   ]
  },
  {
   "attachments": {},
   "cell_type": "markdown",
   "metadata": {},
   "source": [
    "If you don't have SFINCS yet, download SFINCS from here: https://download.deltares.nl/en/download/sfincs/\n",
    "\n",
    "Then open the file 'run.bat' in any text editor, and add the folder of where you have saved the executable 'sfincs.exe'.\n",
    "\n",
    "e.g. to \"c:\\Users\\Leijnse\\SFINCS_download\\sfincs.exe\""
   ]
  },
  {
   "cell_type": "markdown",
   "metadata": {},
   "source": [
    "###  Open log file\n",
    "\n",
    "Let's see whether this log-file with information of SFINCS output information is already available"
   ]
  },
  {
   "cell_type": "code",
   "execution_count": null,
   "metadata": {},
   "outputs": [],
   "source": [
    "fn_ini = \"./sfincs_compound/sfincs_log.txt\"\n",
    "with open(fn_ini, \"r\") as f:\n",
    "    txt = f.read()\n",
    "print(txt)"
   ]
  },
  {
   "cell_type": "markdown",
   "metadata": {},
   "source": [
    "In case you get an error message, this means that the log-file is not available, and SFINCS has not run yet.\n",
    "\n",
    "Let's now do this..."
   ]
  },
  {
   "cell_type": "markdown",
   "metadata": {},
   "source": [
    "### Now let's try to run this batch-file"
   ]
  },
  {
   "cell_type": "code",
   "execution_count": null,
   "metadata": {},
   "outputs": [],
   "source": [
    "import os\n",
    "\n",
    "run_path = \"./sfincs_compound\"\n",
    "\n",
    "cur_dir = os.getcwd()\n",
    "\n",
    "os.chdir(run_path)\n",
    "os.system(\"run.bat\")\n",
    "os.chdir(cur_dir)"
   ]
  },
  {
   "attachments": {},
   "cell_type": "markdown",
   "metadata": {},
   "source": [
    "* It should now take less than a minute or so for the SFINCS simulation to finish (might take longer in Binder than when running locally using Jupyter Notebook)\n",
    "* We can now have a look at the log-file"
   ]
  },
  {
   "cell_type": "markdown",
   "metadata": {},
   "source": [
    "### Created log-file"
   ]
  },
  {
   "cell_type": "code",
   "execution_count": null,
   "metadata": {},
   "outputs": [],
   "source": [
    "fn_ini = \"./sfincs_compound/sfincs_log.txt\"\n",
    "with open(fn_ini, \"r\") as f:\n",
    "    txt = f.read()\n",
    "print(txt)"
   ]
  },
  {
   "cell_type": "markdown",
   "metadata": {},
   "source": [
    "Now we actually should have output!\n",
    "\n",
    "You have run your first SFINCS model."
   ]
  },
  {
   "cell_type": "markdown",
   "metadata": {},
   "source": [
    "### Created netcdf output files"
   ]
  },
  {
   "cell_type": "markdown",
   "metadata": {},
   "source": [
    "Let's now inspect what files there are situated in the folder of the model setup:"
   ]
  },
  {
   "cell_type": "code",
   "execution_count": null,
   "metadata": {},
   "outputs": [],
   "source": [
    "path = \"./sfincs_compound\"\n",
    "\n",
    "dir_list = os.listdir(path)\n",
    "\n",
    "# prints all files\n",
    "print(dir_list)"
   ]
  },
  {
   "attachments": {},
   "cell_type": "markdown",
   "metadata": {},
   "source": [
    "We see here the earlier inspected log-file 'sfincs_log.txt'\n",
    "\n",
    "Do you additionally see the files 'sfincs_map.nc' and 'sfincs_his.nc' ?\n",
    "\n",
    "These are output files of SFINCS, containing the model results in the common Netcdf format."
   ]
  },
  {
   "attachments": {},
   "cell_type": "markdown",
   "metadata": {},
   "source": [
    "### Continue"
   ]
  },
  {
   "attachments": {},
   "cell_type": "markdown",
   "metadata": {},
   "source": [
    "--> You can now continue to the notebook: analyse_sfincs_output.ipynb \n",
    "\n",
    "or in case of running a subgrid model: analyse_sfincs_subgrid_model.ipynb"
   ]
  }
 ],
 "metadata": {
  "kernelspec": {
   "display_name": "Python 3 (ipykernel)",
   "language": "python",
   "name": "python3"
  },
  "language_info": {
   "codemirror_mode": {
    "name": "ipython",
    "version": 3
   },
   "file_extension": ".py",
   "mimetype": "text/x-python",
   "name": "python",
   "nbconvert_exporter": "python",
   "pygments_lexer": "ipython3",
   "version": "3.10.9"
  },
  "vscode": {
   "interpreter": {
    "hash": "279caf9d0aef916ca877f8986f7dcbece9b492e90eb95f7626b621f6217a2bb3"
   }
  }
 },
 "nbformat": 4,
 "nbformat_minor": 4
}
