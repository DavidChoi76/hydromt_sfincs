{
 "cells": [
  {
   "cell_type": "markdown",
   "metadata": {},
   "source": [
    "# Run a SFINCS model"
   ]
  },
  {
   "cell_type": "markdown",
   "metadata": {},
   "source": [
    "This notebook demonstrates how to run and inspect a SFINCS model from scratch. The notebook does not contain the SFINCS code or executables to run the model with. "
   ]
  },
  {
   "cell_type": "markdown",
   "metadata": {},
   "source": [
    "All lines in this notebook which start with `!` are executed from the command line. Within jupyter (except for jupyter lab) the logging messages are shown after completion."
   ]
  },
  {
   "cell_type": "markdown",
   "metadata": {},
   "source": [
    "### Inspecting the batch-file to run SFINCS"
   ]
  },
  {
   "cell_type": "markdown",
   "metadata": {},
   "source": [
    "On Windows, you can run SFINCS by executing a batch-file.\n",
    "We have already prepared this for an example model called 'sfincs_riverine_rerun'.\n",
    "Let's now inspect this batch-file."
   ]
  },
  {
   "cell_type": "code",
   "execution_count": 1,
   "metadata": {},
   "outputs": [
    {
     "name": "stdout",
     "output_type": "stream",
     "text": [
      "call \"d:\\repos\\SFINCS\\source\\sfincs\\x64\\Release\\sfincs.exe\">sfincs_log.txt \n"
     ]
    }
   ],
   "source": [
    "fn_ini = \"./sfincs_riverine_rerun/run.bat\"\n",
    "with open(fn_ini, \"r\") as f:\n",
    "    txt = f.read()\n",
    "print(txt)"
   ]
  },
  {
   "cell_type": "markdown",
   "metadata": {},
   "source": [
    "* 'call' means here that an executable has to be run.\n",
    "* ..\\sfincs_exe\\ is the folder where the executable 'sfincs.exe' is located\n",
    "* The '>sfincs_log.txt' means that the output should be written to a log-file called 'sfincs_log.txt'"
   ]
  },
  {
   "cell_type": "markdown",
   "metadata": {},
   "source": [
    "###  Open log file\n",
    "\n",
    "Let's see whether this log-file with information of SFINCS output information is already available"
   ]
  },
  {
   "cell_type": "code",
   "execution_count": 2,
   "metadata": {},
   "outputs": [
    {
     "ename": "FileNotFoundError",
     "evalue": "[Errno 2] No such file or directory: './sfincs_riverine_rerun/sfincs_log.txt'",
     "output_type": "error",
     "traceback": [
      "\u001b[1;31m---------------------------------------------------------------------------\u001b[0m",
      "\u001b[1;31mFileNotFoundError\u001b[0m                         Traceback (most recent call last)",
      "Cell \u001b[1;32mIn [2], line 2\u001b[0m\n\u001b[0;32m      1\u001b[0m fn_ini \u001b[38;5;241m=\u001b[39m \u001b[38;5;124m\"\u001b[39m\u001b[38;5;124m./sfincs_riverine_rerun/sfincs_log.txt\u001b[39m\u001b[38;5;124m\"\u001b[39m\n\u001b[1;32m----> 2\u001b[0m \u001b[38;5;28;01mwith\u001b[39;00m \u001b[38;5;28;43mopen\u001b[39;49m\u001b[43m(\u001b[49m\u001b[43mfn_ini\u001b[49m\u001b[43m,\u001b[49m\u001b[43m \u001b[49m\u001b[38;5;124;43m\"\u001b[39;49m\u001b[38;5;124;43mr\u001b[39;49m\u001b[38;5;124;43m\"\u001b[39;49m\u001b[43m)\u001b[49m \u001b[38;5;28;01mas\u001b[39;00m f:\n\u001b[0;32m      3\u001b[0m     txt \u001b[38;5;241m=\u001b[39m f\u001b[38;5;241m.\u001b[39mread()\n\u001b[0;32m      4\u001b[0m \u001b[38;5;28mprint\u001b[39m(txt)\n",
      "File \u001b[1;32m~\\Miniconda3\\envs\\hydromt-sfincs-binder\\lib\\site-packages\\IPython\\core\\interactiveshell.py:282\u001b[0m, in \u001b[0;36m_modified_open\u001b[1;34m(file, *args, **kwargs)\u001b[0m\n\u001b[0;32m    275\u001b[0m \u001b[38;5;28;01mif\u001b[39;00m file \u001b[38;5;129;01min\u001b[39;00m {\u001b[38;5;241m0\u001b[39m, \u001b[38;5;241m1\u001b[39m, \u001b[38;5;241m2\u001b[39m}:\n\u001b[0;32m    276\u001b[0m     \u001b[38;5;28;01mraise\u001b[39;00m \u001b[38;5;167;01mValueError\u001b[39;00m(\n\u001b[0;32m    277\u001b[0m         \u001b[38;5;124mf\u001b[39m\u001b[38;5;124m\"\u001b[39m\u001b[38;5;124mIPython won\u001b[39m\u001b[38;5;124m'\u001b[39m\u001b[38;5;124mt let you open fd=\u001b[39m\u001b[38;5;132;01m{\u001b[39;00mfile\u001b[38;5;132;01m}\u001b[39;00m\u001b[38;5;124m by default \u001b[39m\u001b[38;5;124m\"\u001b[39m\n\u001b[0;32m    278\u001b[0m         \u001b[38;5;124m\"\u001b[39m\u001b[38;5;124mas it is likely to crash IPython. If you know what you are doing, \u001b[39m\u001b[38;5;124m\"\u001b[39m\n\u001b[0;32m    279\u001b[0m         \u001b[38;5;124m\"\u001b[39m\u001b[38;5;124myou can use builtins\u001b[39m\u001b[38;5;124m'\u001b[39m\u001b[38;5;124m open.\u001b[39m\u001b[38;5;124m\"\u001b[39m\n\u001b[0;32m    280\u001b[0m     )\n\u001b[1;32m--> 282\u001b[0m \u001b[38;5;28;01mreturn\u001b[39;00m io_open(file, \u001b[38;5;241m*\u001b[39margs, \u001b[38;5;241m*\u001b[39m\u001b[38;5;241m*\u001b[39mkwargs)\n",
      "\u001b[1;31mFileNotFoundError\u001b[0m: [Errno 2] No such file or directory: './sfincs_riverine_rerun/sfincs_log.txt'"
     ]
    }
   ],
   "source": [
    "fn_ini = \"./sfincs_riverine_rerun/sfincs_log.txt\"\n",
    "with open(fn_ini, \"r\") as f:\n",
    "    txt = f.read()\n",
    "print(txt)"
   ]
  },
  {
   "cell_type": "markdown",
   "metadata": {},
   "source": [
    "In case you get an error message, this means that the log-file is not available, and SFINCS has not run yet.\n",
    "\n",
    "Let's now do this..."
   ]
  },
  {
   "cell_type": "markdown",
   "metadata": {},
   "source": [
    "### Now let's try to run this batch-file"
   ]
  },
  {
   "cell_type": "code",
   "execution_count": 3,
   "metadata": {},
   "outputs": [],
   "source": [
    "import os\n",
    "\n",
    "run_path = \"./sfincs_riverine_rerun\"\n",
    "\n",
    "cur_dir = os.getcwd()\n",
    "\n",
    "os.chdir(run_path)\n",
    "os.system('run.bat')\n",
    "os.chdir(cur_dir)\n"
   ]
  },
  {
   "cell_type": "markdown",
   "metadata": {},
   "source": [
    "* It should now take a minute or so for the SFINCS simulation to finish (might take longer in Binder than when running locally using Jupyter Notebook)\n",
    "* We can now have a look at the log-file"
   ]
  },
  {
   "cell_type": "markdown",
   "metadata": {},
   "source": [
    "### Created log-file"
   ]
  },
  {
   "cell_type": "code",
   "execution_count": 4,
   "metadata": {},
   "outputs": [
    {
     "name": "stdout",
     "output_type": "stream",
     "text": [
      "\n",
      " ----------- Welcome to SFINCS -----------\n",
      "\n",
      "  @@@@@  @@@@@@@ @@ @@  @@   @@@@   @@@@@ \n",
      " @@@ @@@ @@@@@@@ @@ @@@ @@ @@@@@@@ @@@ @@@\n",
      " @@@     @@      @@ @@@ @@ @@   @@ @@@    \n",
      "  @@@@@  @@@@@@  @@ @@@@@@ @@       @@@@@ \n",
      "     @@@ @@      @@ @@ @@@ @@   @@     @@@\n",
      " @@@ @@@ @@      @@ @@  @@  @@@@@@ @@@ @@@\n",
      "  @@@@@  @@      @@ @@   @   @@@@   @@@@@ \n",
      "\n",
      " -----------------------------------------\n",
      "\n",
      " Build-Revision: $Rev: v2.0.0 Alpe d'Huez$\n",
      " Build-Date:     $Date: 2022-11-16\n",
      "\n",
      " Reading input file ...\n",
      " Info : Running SFINCS in regular mode ...\n",
      " Reading meteo data ...\n",
      " Info : Preparing SFINCS grid on regular mesh ...\n",
      " Reading sfincs.ind ...\n",
      " Reading sfincs.msk ...\n",
      " Number of active z points    :       184262\n",
      " Number of active u/v points  :       367657\n",
      " Reading sfincs.dep\n",
      " Reading sfincs.man\n",
      " Warning : Boundary points found in mask, without boundary conditions. Using wat\n",
      " er level of 0.0 m at these points\n",
      " Reading observation points ...\n",
      " Reading discharges ...\n",
      " Initializing output ...\n",
      "\n",
      " ---------- Starting simulation ----------\n",
      "\n",
      "   0% complete,       - s remaining ...\n",
      "   5% complete,    17.4 s remaining ...\n",
      "  10% complete,    18.3 s remaining ...\n",
      "  15% complete,    18.1 s remaining ...\n",
      "  20% complete,    19.7 s remaining ...\n",
      "  25% complete,    18.6 s remaining ...\n",
      "  30% complete,    17.7 s remaining ...\n",
      "  35% complete,    16.7 s remaining ...\n",
      "  40% complete,    15.8 s remaining ...\n",
      "  45% complete,    14.8 s remaining ...\n",
      "  50% complete,    14.0 s remaining ...\n",
      "  55% complete,    12.9 s remaining ...\n",
      "  60% complete,    11.7 s remaining ...\n",
      "  65% complete,    10.3 s remaining ...\n",
      "  70% complete,     8.9 s remaining ...\n",
      "  75% complete,     7.5 s remaining ...\n",
      "  80% complete,     6.0 s remaining ...\n",
      "  85% complete,     4.5 s remaining ...\n",
      "  90% complete,     3.0 s remaining ...\n",
      "  95% complete,     1.5 s remaining ...\n",
      " 100% complete,     0.0 s remaining ...\n",
      "\n",
      " ---------- Simulation finished ----------\n",
      "              ..............              \n",
      "          ......:@@@@@@@@:......          \n",
      "       ..::::..@@........@@.:::::..       \n",
      "     ..:::::..@@..::..::..@@.::::::..     \n",
      "    .::::::..@@............@@.:::::::.    \n",
      "   .::::::..@@..............@@.:::::::.   \n",
      "  .::::::::..@@............@@..::::::::.  \n",
      " .:::::::::...@@.@..@@..@.@@..::::::::::. \n",
      " .:::::::::...:@@@..@@..@@@:..:::::::::.. \n",
      " ............@@.@@..@@..@@.@@............ \n",
      " ^^^~~^^~~^^@@..............@@^^^~^^^~~^^ \n",
      " .::::::::::@@..............@@.:::::::::. \n",
      "  .......:.@@.....@.....@....@@.:.......  \n",
      "   .::....@@......@.@@@.@....@@.....::.   \n",
      "    .:::~@@.:...:.@@...@@.:.:.@@~::::.    \n",
      "     .::~@@@@@@@@@@.....@@@@@@@@@~::.     \n",
      "       ..:~~~~~~~:.......:~~~~~~~:..      \n",
      "          ......................          \n",
      "              ..............              \n",
      " -----------------------------------------\n",
      "\n",
      " Total time             :     29.425\n",
      " Total simulation time  :     29.365\n",
      " Time in input          :      0.060\n",
      " Time in boundaries     :      0.335 (  1.1%)\n",
      " Time in discharges     :      0.016 (  0.1%)\n",
      " Time in momentum       :     19.661 ( 67.0%)\n",
      " Time in continuity     :      9.096 ( 31.0%)\n",
      " Time in output         :      0.202 (  0.7%)\n",
      "\n",
      " Average time step (s)  :      3.825\n",
      "\n",
      " ---------- Closing off SFINCS -----------\n",
      "\n"
     ]
    }
   ],
   "source": [
    "fn_ini = \"./sfincs_riverine_rerun/sfincs_log.txt\"\n",
    "with open(fn_ini, \"r\") as f:\n",
    "    txt = f.read()\n",
    "print(txt)"
   ]
  },
  {
   "cell_type": "markdown",
   "metadata": {},
   "source": [
    "Now we actually should have output!\n",
    "\n",
    "You have run your first SFINCS model."
   ]
  },
  {
   "cell_type": "markdown",
   "metadata": {},
   "source": [
    "### Question:\n",
    "How long did the simulation take?"
   ]
  },
  {
   "cell_type": "markdown",
   "metadata": {},
   "source": [
    "### Question:\n",
    "How many active grid cells (active z points) are there?"
   ]
  },
  {
   "cell_type": "markdown",
   "metadata": {},
   "source": [
    "### Created netcdf output files"
   ]
  },
  {
   "cell_type": "markdown",
   "metadata": {},
   "source": [
    "Let's now inspect what files there are situated in the folder of the model setup:"
   ]
  },
  {
   "cell_type": "code",
   "execution_count": 5,
   "metadata": {},
   "outputs": [
    {
     "name": "stdout",
     "output_type": "stream",
     "text": [
      "['gis', 'run.bat', 'sfincs.dep', 'sfincs.dis', 'sfincs.ind', 'sfincs.inp', 'sfincs.man', 'sfincs.msk', 'sfincs.obs', 'sfincs.restart', 'sfincs.scs', 'sfincs.src', 'sfincs.thd', 'sfincs.weir', 'sfincs_his.nc', 'sfincs_log.txt', 'sfincs_map.nc']\n"
     ]
    }
   ],
   "source": [
    "path = './sfincs_riverine_rerun'\n",
    "\n",
    "dir_list = os.listdir(path)\n",
    "\n",
    "# prints all files\n",
    "print(dir_list)"
   ]
  },
  {
   "cell_type": "markdown",
   "metadata": {},
   "source": [
    "We see here the earlier inspected log-file 'sfincs_log.txt'\n",
    "\n",
    "Do you additionally see the files 'sfincs_map.nc' and 'sfincs_his.nc' ?\n",
    "\n",
    "These are output files of SFINCS, containing the model results in the common Netcdf format."
   ]
  }
 ],
 "metadata": {
  "kernelspec": {
   "display_name": "Python 3 (ipykernel)",
   "language": "python",
   "name": "python3"
  },
  "language_info": {
   "codemirror_mode": {
    "name": "ipython",
    "version": 3
   },
   "file_extension": ".py",
   "mimetype": "text/x-python",
   "name": "python",
   "nbconvert_exporter": "python",
   "pygments_lexer": "ipython3",
   "version": "3.10.8"
  },
  "vscode": {
   "interpreter": {
    "hash": "279caf9d0aef916ca877f8986f7dcbece9b492e90eb95f7626b621f6217a2bb3"
   }
  }
 },
 "nbformat": 4,
 "nbformat_minor": 4
}
