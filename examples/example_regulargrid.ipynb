{
 "cells": [
  {
   "attachments": {},
   "cell_type": "markdown",
   "metadata": {},
   "source": [
    "### This example shows how to use read/write functions for <ul>\n",
    "<li>Input </li>\n",
    "<li>Grid </li>\n",
    "<li>Mask </li>\n",
    "<li>Dep </li>\n",
    "<li>Forcing </li>\n",
    "</ul>"
   ]
  },
  {
   "cell_type": "code",
   "execution_count": null,
   "metadata": {},
   "outputs": [],
   "source": [
    "#for first run install package\n",
    "#pip install -e .."
   ]
  },
  {
   "cell_type": "code",
   "execution_count": null,
   "metadata": {},
   "outputs": [],
   "source": [
    "import os\n",
    "import sys\n",
    "from hydromt_sfincs.sfincs import Sfincs\n",
    "\n",
    "model = \"sfincs_coastal\""
   ]
  },
  {
   "attachments": {},
   "cell_type": "markdown",
   "metadata": {},
   "source": [
    "### Input"
   ]
  },
  {
   "cell_type": "code",
   "execution_count": null,
   "metadata": {},
   "outputs": [],
   "source": [
    "#read\n",
    "sf = Sfincs()\n",
    "sf.read_input_file(os.path.join(model, \"sfincs.inp\"))\n",
    "inp = sf.inp"
   ]
  },
  {
   "cell_type": "code",
   "execution_count": null,
   "metadata": {},
   "outputs": [],
   "source": [
    "# eventually change input and write again\n",
    "# sf.inp.dx= 10\n",
    "# sf.write_input_file(os.path.join(model,\"sfincs_v2.inp\"))"
   ]
  },
  {
   "attachments": {},
   "cell_type": "markdown",
   "metadata": {},
   "source": [
    "### Grid"
   ]
  },
  {
   "cell_type": "code",
   "execution_count": null,
   "metadata": {},
   "outputs": [],
   "source": [
    "#grid is automatically read in from sfincs.inp\n",
    "grid = sf.grid"
   ]
  },
  {
   "attachments": {},
   "cell_type": "markdown",
   "metadata": {},
   "source": [
    "Compare different defenitions of grid"
   ]
  },
  {
   "cell_type": "code",
   "execution_count": null,
   "metadata": {},
   "outputs": [],
   "source": [
    "# #Compare with previous definition of grid\n",
    "# import math\n",
    "# import numpy as np\n",
    "\n",
    "# #old defenitions\n",
    "# cosrot = math.cos(inp.rotation * math.pi / 180)\n",
    "# sinrot = math.sin(inp.rotation * math.pi / 180)\n",
    "\n",
    "# xx = np.linspace(\n",
    "#     0.5 * inp.dx, inp.mmax * inp.dx - 0.5 * inp.dx, num=inp.mmax\n",
    "# )\n",
    "# yy = np.linspace(\n",
    "#     0.5 * inp.dy, inp.nmax * inp.dy - 0.5 * inp.dy, num=inp.nmax\n",
    "# )\n",
    "\n",
    "# xg0, yg0 = np.meshgrid(xx, yy)\n",
    "# xg = inp.x0 + xg0 * cosrot - yg0 * sinrot\n",
    "# yg = inp.y0 + xg0 * sinrot + yg0 * cosrot\n",
    "\n",
    "# #new defenitions\n",
    "# x = grid.coordinates[\"x\"]\n",
    "# y = grid.coordinates[\"y\"]\n",
    "\n",
    "# xn,yn = np.meshgrid(x,y)\n",
    "\n",
    "# #differences\n",
    "# print(sum(sum(xg-xn)))\n",
    "# print(sum(sum(yg-yn)))"
   ]
  },
  {
   "attachments": {},
   "cell_type": "markdown",
   "metadata": {},
   "source": [
    "### Mask"
   ]
  },
  {
   "cell_type": "code",
   "execution_count": null,
   "metadata": {},
   "outputs": [],
   "source": [
    "#read mask\n",
    "sf.read_mask()\n",
    "sf.grid.mask.plot.imshow()"
   ]
  },
  {
   "cell_type": "code",
   "execution_count": null,
   "metadata": {},
   "outputs": [],
   "source": [
    "#write\n",
    "sf.write_mask(\"sfincs_v2.msk\", \"sfincs_v2.ind\")"
   ]
  },
  {
   "attachments": {},
   "cell_type": "markdown",
   "metadata": {},
   "source": [
    "### Dep and Manning"
   ]
  },
  {
   "cell_type": "code",
   "execution_count": null,
   "metadata": {},
   "outputs": [],
   "source": [
    "dep = sf.read_map(\"dep\")\n",
    "sf.grid.data[\"dep\"].raster.mask_nodata().plot.imshow()"
   ]
  },
  {
   "cell_type": "code",
   "execution_count": null,
   "metadata": {},
   "outputs": [],
   "source": [
    "#change depth and write away\n",
    "sf.grid.data[\"dep\"] = sf.grid.data[\"dep\"] + 10\n",
    "sf.write_map(\"dep\", \"sfincs_v2.dep\")"
   ]
  },
  {
   "cell_type": "code",
   "execution_count": null,
   "metadata": {},
   "outputs": [],
   "source": [
    "#read again and plot\n",
    "sf.read_map(\"dep\")\n",
    "sf.grid.data[\"dep\"].raster.mask_nodata().plot.imshow()"
   ]
  },
  {
   "cell_type": "code",
   "execution_count": null,
   "metadata": {},
   "outputs": [],
   "source": [
    "man = sf.read_map(\"manning\")\n",
    "sf.grid.data[\"manning\"].raster.mask_nodata().plot.imshow()"
   ]
  },
  {
   "attachments": {},
   "cell_type": "markdown",
   "metadata": {},
   "source": [
    "### Forcing"
   ]
  },
  {
   "cell_type": "code",
   "execution_count": null,
   "metadata": {},
   "outputs": [],
   "source": [
    "sf.read_forcing_1d('waterlevel')"
   ]
  },
  {
   "cell_type": "code",
   "execution_count": null,
   "metadata": {},
   "outputs": [],
   "source": [
    "#boundary points\n",
    "sf.forcing['bnd']"
   ]
  },
  {
   "cell_type": "code",
   "execution_count": null,
   "metadata": {},
   "outputs": [],
   "source": [
    "#boundary timeseries\n",
    "sf.forcing['bzs']"
   ]
  },
  {
   "cell_type": "code",
   "execution_count": null,
   "metadata": {},
   "outputs": [],
   "source": [
    "#add 0.5m to all boundary water levels and write again\n",
    "sf.forcing['bzs'] = sf.forcing['bzs'] + 0.5\n",
    "sf.write_forcing_1d('waterlevel', \"sfincs_v2.bzs\", \"sfincs_v2.bnd\")"
   ]
  },
  {
   "cell_type": "code",
   "execution_count": null,
   "metadata": {},
   "outputs": [],
   "source": [
    "sf.write_input_file(\"sfincs_v2.inp\")"
   ]
  }
 ],
 "metadata": {
  "kernelspec": {
   "display_name": "hydromt-dev",
   "language": "python",
   "name": "python3"
  },
  "language_info": {
   "codemirror_mode": {
    "name": "ipython",
    "version": 3
   },
   "file_extension": ".py",
   "mimetype": "text/x-python",
   "name": "python",
   "nbconvert_exporter": "python",
   "pygments_lexer": "ipython3",
   "version": "3.10.6"
  },
  "orig_nbformat": 4,
  "vscode": {
   "interpreter": {
    "hash": "1a1c0d40e2688e13ef4c1e0a0bd8d32101069a8b3879fd20a3f04202f98b0ae3"
   }
  }
 },
 "nbformat": 4,
 "nbformat_minor": 2
}
