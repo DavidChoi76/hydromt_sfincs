{
 "cells": [
  {
   "attachments": {},
   "cell_type": "markdown",
   "metadata": {},
   "source": [
    "### This example shows how to use read/write functions for <ul>\n",
    "<li>Input </li>\n",
    "<li>Grid </li>\n",
    "<li>Mask </li>\n",
    "<li>Dep </li>\n",
    "<li>Forcing </li>\n",
    "</ul>"
   ]
  },
  {
   "cell_type": "code",
   "execution_count": null,
   "metadata": {},
   "outputs": [],
   "source": [
    "# for first run install package\n",
    "# pip install -e .."
   ]
  },
  {
   "cell_type": "code",
   "execution_count": null,
   "metadata": {},
   "outputs": [],
   "source": [
    "import os\n",
    "import sys\n",
    "from hydromt_sfincs import SfincsModel"
   ]
  },
  {
   "attachments": {},
   "cell_type": "markdown",
   "metadata": {},
   "source": [
    "### Input"
   ]
  },
  {
   "cell_type": "code",
   "execution_count": null,
   "metadata": {},
   "outputs": [],
   "source": [
    "# initialize\n",
    "model_root = \"sfincs_coastal\"\n",
    "sf = SfincsModel(root=model_root, mode=\"r+\")  # append mode\n",
    "\n",
    "# read inp\n",
    "sf.read_config()\n",
    "sf.config"
   ]
  },
  {
   "cell_type": "code",
   "execution_count": null,
   "metadata": {},
   "outputs": [],
   "source": [
    "# eventually change input and write again\n",
    "sf.set_config(\"zsini\", 0.0)\n",
    "sf.write_config(\"sfincs_v2.inp\")"
   ]
  },
  {
   "attachments": {},
   "cell_type": "markdown",
   "metadata": {},
   "source": [
    "### Grid"
   ]
  },
  {
   "cell_type": "code",
   "execution_count": null,
   "metadata": {},
   "outputs": [],
   "source": [
    "# grid is automatically read in from sfincs.inp\n",
    "reggrid = sf.reggrid\n",
    "reggrid.__dict__"
   ]
  },
  {
   "attachments": {},
   "cell_type": "markdown",
   "metadata": {},
   "source": [
    "Compare different defenitions of grid"
   ]
  },
  {
   "cell_type": "code",
   "execution_count": null,
   "metadata": {},
   "outputs": [],
   "source": [
    "# #Compare with previous definition of grid\n",
    "# import math\n",
    "# import numpy as np\n",
    "\n",
    "# #old defenitions\n",
    "# cosrot = math.cos(inp.rotation * math.pi / 180)\n",
    "# sinrot = math.sin(inp.rotation * math.pi / 180)\n",
    "\n",
    "# xx = np.linspace(\n",
    "#     0.5 * inp.dx, inp.mmax * inp.dx - 0.5 * inp.dx, num=inp.mmax\n",
    "# )\n",
    "# yy = np.linspace(\n",
    "#     0.5 * inp.dy, inp.nmax * inp.dy - 0.5 * inp.dy, num=inp.nmax\n",
    "# )\n",
    "\n",
    "# xg0, yg0 = np.meshgrid(xx, yy)\n",
    "# xg = inp.x0 + xg0 * cosrot - yg0 * sinrot\n",
    "# yg = inp.y0 + xg0 * sinrot + yg0 * cosrot\n",
    "\n",
    "# #new defenitions\n",
    "# x = grid.coordinates[\"x\"]\n",
    "# y = grid.coordinates[\"y\"]\n",
    "\n",
    "# xn,yn = np.meshgrid(x,y)\n",
    "\n",
    "# #differences\n",
    "# print(sum(sum(xg-xn)))\n",
    "# print(sum(sum(yg-yn)))"
   ]
  },
  {
   "attachments": {},
   "cell_type": "markdown",
   "metadata": {},
   "source": [
    "### Mask"
   ]
  },
  {
   "cell_type": "code",
   "execution_count": null,
   "metadata": {},
   "outputs": [],
   "source": [
    "# read maska\n",
    "\n",
    "sf.read_grid(data_vars=[\"msk\"])\n",
    "# sf.read_grid()  #read all maps\n",
    "sf.mask.plot.imshow()"
   ]
  },
  {
   "cell_type": "code",
   "execution_count": null,
   "metadata": {},
   "outputs": [],
   "source": [
    "# write\n",
    "sf.config.update(indexfile=\"sfincs_v2.ind\", mskfile=\"sfincs_v2.msk\")\n",
    "sf.write_grid(data_vars=[\"msk\"])  # index file is always written\n",
    "# sf.write_grid()  # write all maps in sf.grid dataset\n",
    "os.path.isfile(os.path.join(model_root, \"sfincs_v2.msk\"))"
   ]
  },
  {
   "attachments": {},
   "cell_type": "markdown",
   "metadata": {},
   "source": [
    "### Dep and Manning"
   ]
  },
  {
   "cell_type": "code",
   "execution_count": null,
   "metadata": {},
   "outputs": [],
   "source": [
    "sf.read_grid([\"dep\"])\n",
    "sf.grid[\"dep\"].raster.mask_nodata().plot.imshow()"
   ]
  },
  {
   "cell_type": "code",
   "execution_count": null,
   "metadata": {},
   "outputs": [],
   "source": [
    "# change depth and write away\n",
    "import xarray as xr\n",
    "\n",
    "sf.grid[\"dep\"] = xr.where(\n",
    "    sf.grid[\"dep\"] != sf.grid[\"dep\"].raster.nodata, sf.grid[\"dep\"] + 10, -9999\n",
    ")\n",
    "sf.grid[\"dep\"].raster.set_nodata(-9999)\n",
    "sf.config.update(\n",
    "    depfile=\"sfincs_v2.dep\",\n",
    ")\n",
    "sf.write_grid([\"dep\"])"
   ]
  },
  {
   "cell_type": "code",
   "execution_count": null,
   "metadata": {},
   "outputs": [],
   "source": [
    "# read again and plot\n",
    "# NOTE now we read sfincs_v2.dep\n",
    "sf.read_grid(\"dep\")\n",
    "sf.grid[\"dep\"].raster.mask_nodata().plot.imshow()"
   ]
  },
  {
   "cell_type": "code",
   "execution_count": null,
   "metadata": {},
   "outputs": [],
   "source": [
    "# FIXME file is called sfincs.manning\n",
    "# man = sf.read_grid(\"manning\")\n",
    "# sf.grid[\"manning\"].raster.mask_nodata().plot.imshow()"
   ]
  },
  {
   "attachments": {},
   "cell_type": "markdown",
   "metadata": {},
   "source": [
    "### Forcing"
   ]
  },
  {
   "cell_type": "code",
   "execution_count": null,
   "metadata": {},
   "outputs": [],
   "source": [
    "# TODO continue from here\n",
    "sf.read_forcing([\"waterlevel\"])"
   ]
  },
  {
   "cell_type": "code",
   "execution_count": null,
   "metadata": {},
   "outputs": [],
   "source": [
    "# boundary points and time_series combined\n",
    "sf.forcing[\"bzs\"]"
   ]
  },
  {
   "cell_type": "code",
   "execution_count": null,
   "metadata": {},
   "outputs": [],
   "source": [
    "# boundary timeseries\n",
    "sf.plot_forcing()"
   ]
  }
 ],
 "metadata": {
  "kernelspec": {
   "display_name": "hydromt-dev",
   "language": "python",
   "name": "python3"
  },
  "language_info": {
   "codemirror_mode": {
    "name": "ipython",
    "version": 3
   },
   "file_extension": ".py",
   "mimetype": "text/x-python",
   "name": "python",
   "nbconvert_exporter": "python",
   "pygments_lexer": "ipython3",
   "version": "3.10.6"
  },
  "orig_nbformat": 4,
  "vscode": {
   "interpreter": {
    "hash": "1a1c0d40e2688e13ef4c1e0a0bd8d32101069a8b3879fd20a3f04202f98b0ae3"
   }
  }
 },
 "nbformat": 4,
 "nbformat_minor": 2
}
