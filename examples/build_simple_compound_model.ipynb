{
 "cells": [
  {
   "attachments": {},
   "cell_type": "markdown",
   "metadata": {},
   "source": [
    "In this example a simple SFINCS compound flood model will be made, using Hydromt's inifile input for fast model building\n",
    "\n",
    "The model is situated in Northern Italy, where a small selection of topography and bathymetry data has already been made available for you to try the examples."
   ]
  },
  {
   "cell_type": "code",
   "execution_count": null,
   "metadata": {},
   "outputs": [],
   "source": [
    "!hydromt --version"
   ]
  },
  {
   "attachments": {},
   "cell_type": "markdown",
   "metadata": {},
   "source": [
    "This example shows how to build a simple SFINCS model on a regular grid, containing an elevation dep-file, offshore water level forcing and an upstream discharge input forcing.\n",
    "For making a more advanced model including e.g. spatially varying infiltration and roughness, see the example notebook: build_advanced_subgrid_compound_model_from_script.ipynb\n",
    "\n",
    "In case you want to adjust this example to build a SFINCS model anywhere else in the world, you will have to add your own datasets to HydroMT's data catalog. For more info on that, see the example notebook: example_datasources.ipynb"
   ]
  },
  {
   "attachments": {},
   "cell_type": "markdown",
   "metadata": {},
   "source": [
    "Steps followed in this notebook to build your SFINCS model:\n",
    "<ul> \n",
    "<li> 1. Build your first SFINCS model </li>\n",
    "<li> 2. Check what files have been created </li>\n",
    "<li> 3. Information about created files </li>\n",
    "<li> 4. Plot current base model </li>\n",
    "<li> 5. Explanation of HydroMT's .ini-file </li>\n",
    "<li> 6. Make new model including forcing </li>\n",
    "<li> 7. Plot model including forcing </li>\n",
    "<li> 8. Check what additional files have been created </li>\n",
    "</ul> "
   ]
  },
  {
   "attachments": {},
   "cell_type": "markdown",
   "metadata": {},
   "source": [
    "Let's get started!"
   ]
  },
  {
   "attachments": {},
   "cell_type": "markdown",
   "metadata": {},
   "source": [
    "### 1. Build your first SFINCS model:"
   ]
  },
  {
   "cell_type": "code",
   "execution_count": null,
   "metadata": {},
   "outputs": [],
   "source": [
    "!hydromt build sfincs ./sfincs_simple_compound_base --region \"{'geom': 'data/region.geojson'}\" -i sfincs_simple_compound_base.ini --force-overwrite"
   ]
  },
  {
   "attachments": {},
   "cell_type": "markdown",
   "metadata": {},
   "source": [
    "Explanation of what is provided:\n",
    "\n",
    "* `!hydromt build sfincs` : we want HydroMT to build a SFINCS model, the '!' is added so you can run the command line command in this python notebook\n",
    "* `./sfincs_simple_compound_base` : we want HydroMT to build this model in a folder called \"sfincs_simple_compound_base\"\n",
    "* `--region \"{'geom': 'data/region.geojson'}\"` : we want to define the region to build a model for based on a geometry, which is already defined for you in the file \"data/region.geojson\"\n",
    "* `-i sfincs_simple_compound_base.ini` : the conditions of how to build the model are prescribed in the file \"-i \"sfincs_simple_compound.ini\", we'll take a look at that one soon\n",
    "* `--force-overwrite` : means that even if there's already an existing folder with the same name and SFINCS input files, HydroMT will overwrite it"
   ]
  },
  {
   "cell_type": "code",
   "execution_count": null,
   "metadata": {},
   "outputs": [],
   "source": [
    "# NOTE: instead of '--region', you can also type '-r'\n",
    "# NOTE: instead of '--force-overwrite', you can also type '--fo'\n",
    "# NOTE: for extra output information of HydroMT's logfile command, add '-v'"
   ]
  },
  {
   "cell_type": "code",
   "execution_count": null,
   "metadata": {},
   "outputs": [],
   "source": [
    "# For more information on command line available options, type:\n",
    "!hydromt build --help"
   ]
  },
  {
   "attachments": {},
   "cell_type": "markdown",
   "metadata": {},
   "source": [
    "**IMPORTANT NOTE on \".ini-file\" for existing SFINCS users!**\n",
    "\n",
    "Note that the naming \".ini-file\" of HydroMT has NOTHING to do with SFINCS input file called inifile for spatially varying initial water level input!\n",
    "(for SFINCS' inifile explanation, see also: https://sfincs.readthedocs.io/en/latest/input.html#initial-water-level)"
   ]
  },
  {
   "attachments": {},
   "cell_type": "markdown",
   "metadata": {},
   "source": [
    "### 2. Check what files have been created:"
   ]
  },
  {
   "cell_type": "code",
   "execution_count": null,
   "metadata": {},
   "outputs": [],
   "source": [
    "# !ls ./sfincs_simple_compound #TL: 'ls' is not recognized as an internal or external command, operable program or batch file.\n",
    "import os\n",
    "\n",
    "dir_list = os.listdir('./sfincs_simple_compound_base')\n",
    "print(dir_list)"
   ]
  },
  {
   "attachments": {},
   "cell_type": "markdown",
   "metadata": {},
   "source": [
    "### 3. Information about created files:"
   ]
  },
  {
   "attachments": {},
   "cell_type": "markdown",
   "metadata": {},
   "source": [
    "**SFINCS native input files:**\n",
    "\n",
    "* `sfincs.inp`: https://sfincs.readthedocs.io/en/latest/input.html#overview\n",
    "    - which includes the grid: https://sfincs.readthedocs.io/en/latest/input.html#grid-characteristics\n",
    "* `depfile: sfincs.dep` : https://sfincs.readthedocs.io/en/latest/input.html#depth-file\n",
    "* `mskfile: sfincs.msk` : https://sfincs.readthedocs.io/en/latest/input.html#mask-file\n",
    "* `indfile: sfincs.ind` : https://sfincs.readthedocs.io/en/latest/input.html#index-file\n",
    "\n",
    "Go through the links in case you want to have more information about what each file means!\n",
    "\n",
    "**HydroMT output:**\n",
    "* `folder 'gis'` : contains tiff- and geojson-files of the input files of SFINCS, for you to easily check in your favourite GIS application\n",
    "* `hydromt.log` : log-file with feedback of HydroMT during building your model\n",
    "* `hydromt_data.yml` : summary of the datasets used in building your model, in one handy overview yaml-file"
   ]
  },
  {
   "attachments": {},
   "cell_type": "markdown",
   "metadata": {},
   "source": [
    "### 4. Plot current base model"
   ]
  },
  {
   "cell_type": "code",
   "execution_count": null,
   "metadata": {},
   "outputs": [],
   "source": [
    "from hydromt_sfincs import SfincsModel\n",
    "root = r'./sfincs_simple_compound_base'\n",
    "\n",
    "# read the model with hydromt methods\n",
    "sf = SfincsModel(root=root, mode=\"r\")\n",
    "sf.read()\n",
    "sf.plot_basemap(figsize=(13, 7), shaded=False)"
   ]
  },
  {
   "cell_type": "code",
   "execution_count": null,
   "metadata": {},
   "outputs": [],
   "source": [
    "# Here in the plot you see the following:\n",
    "# - Background geoimage of the region\n",
    "# - Spatial colourplot of the elevation (dep)\n",
    "# - In the red line of 'waterlevel bnd' the boundary cells along which SFINCS will later force input water levels\n",
    "\n",
    "# NOTE - While you see a rotated-looking-grid, the actual rotation in 'sfincs.inp' is still set to 0\n",
    "# This is totally fine for a simple example case. \n",
    "# In case you're making a more advanced model including forced waves, it is better to make an actual rotated grid, so that waves are forced perpendicular to the shoreline"
   ]
  },
  {
   "attachments": {},
   "cell_type": "markdown",
   "metadata": {},
   "source": [
    "### 5. Explanation of HydroMT's .ini-file:"
   ]
  },
  {
   "attachments": {},
   "cell_type": "markdown",
   "metadata": {},
   "source": [
    "This model was made using HydroMT's inifile, in this case 'sfincs_simple_compound_temp.ini, that contains:"
   ]
  },
  {
   "cell_type": "code",
   "execution_count": null,
   "metadata": {},
   "outputs": [],
   "source": [
    "fn_ini = \"sfincs_simple_compound_base.ini\"\n",
    "with open(fn_ini, \"r\") as f:\n",
    "    txt = f.read()\n",
    "print(txt)"
   ]
  },
  {
   "attachments": {},
   "cell_type": "markdown",
   "metadata": {},
   "source": [
    "You can see the following sections:\n",
    "\n",
    "* `[setup_config]`: arguments which are forwarded to the SFINCS model configuration file sfincs.inp, in this case the reference time 'tref', model start time 'tstart' and end time 'tstop'\n",
    "* `[setup_grid_from_region]`: arguments used to create a model grid from the region you provided; in this case grid resolution of 50 meters (res = 50) and the request of the models Coordinate Reference System (CRS) in a UTM zone (crs = utm). The exact UTM zone is automatically found by HydroMT\n",
    "* `[setup_dep]`: Here you may add the elevation and bathymetry data to the model domain. If using local data sources, these then have to be supplied in the `data_catalog.yml`. At least one dataset is required. Additional data sources for bathymetry data are merged with the first elevation dataset using merge argements if provided.\n",
    "* `[setup_mask_active]`: set valid model cells based on an input region file (more options available).\n",
    "* `[setup_make_bounds]`: set cells at the model domain edge and up to an elevation of -5 meters (elv_max = -5) to waterlevel boundary cells."
   ]
  },
  {
   "attachments": {},
   "cell_type": "markdown",
   "metadata": {},
   "source": [
    "From here on, we're going to extend the model with some forcing of water level and river discharge, so that actually something interesting will happen when you run the created SFINCS model later. Also, we're adding some observations points so we can inspect this. We do this with the additional inifile **sfincs_simple_compound_update.ini** containing what we want to add:"
   ]
  },
  {
   "attachments": {},
   "cell_type": "markdown",
   "metadata": {},
   "source": [
    "### 6. Make new model including forcing:"
   ]
  },
  {
   "cell_type": "code",
   "execution_count": null,
   "metadata": {},
   "outputs": [],
   "source": [
    "!hydromt update sfincs ./sfincs_simple_compound_base -o ./sfincs_simple_compound_forcing -i sfincs_simple_compound_update.ini "
   ]
  },
  {
   "attachments": {},
   "cell_type": "markdown",
   "metadata": {},
   "source": [
    "The example above means the following: run **hydromt** with:\n",
    "\n",
    "- `update sfincs`: i.e. update a sfincs model\n",
    "- `./sfincs_simple_compound_base`: original model folder\n",
    "- `-o ./sfincs_simple_compound_forcing`: output updated model folder\n",
    "- `-i sfincs_simple_compound_update.ini`: setup configuration file containing the components to update and their different options"
   ]
  },
  {
   "cell_type": "code",
   "execution_count": null,
   "metadata": {},
   "outputs": [],
   "source": [
    "# Let's see what is in the inifile:\n",
    "\n",
    "fn_ini = \"sfincs_simple_compound_update.ini\"\n",
    "with open(fn_ini, \"r\") as f:\n",
    "    txt = f.read()\n",
    "print(txt)"
   ]
  },
  {
   "attachments": {},
   "cell_type": "markdown",
   "metadata": {},
   "source": [
    "You can see the following sections:\n",
    "\n",
    "* `[setup_observation_points]`: arguments used to add 3 observation points, based on the locations as given in the shapefile \"data//compound_example_observation_points.shp\"\n",
    "* `[setup_waterlevel_forcing]`: arguments used to add water level forcing, in this case water levels from a GTSM run, with 4 observation points found in the SFINCS model domain, and clipped automatically to the earlier provided wanted start and stop time of the SFINCS model (in setup_config)\n",
    "* `[setup_discharge_forcing]`: arguments used to add a upstream river discharge input point, in this case from two csv files"
   ]
  },
  {
   "attachments": {},
   "cell_type": "markdown",
   "metadata": {},
   "source": [
    "### 7. Plot model including forcing:"
   ]
  },
  {
   "cell_type": "code",
   "execution_count": null,
   "metadata": {},
   "outputs": [],
   "source": [
    "root = r'./sfincs_simple_compound_forcing'\n",
    "# read the model with hydromt methods\n",
    "sf = SfincsModel(root=root, mode=\"r\")\n",
    "sf.read()\n",
    "\n",
    "# Plot time-series:\n",
    "sf.plot_forcing()\n",
    "\n",
    "sf.plot_basemap(figsize=(13, 7), shaded=False)\n"
   ]
  },
  {
   "cell_type": "code",
   "execution_count": null,
   "metadata": {},
   "outputs": [],
   "source": [
    "# Here in the 1st plot you see the following:\n",
    "# - Water level time-series from GTSM input, for the model period, for the 4 found stations in the SFINCS domain region\n",
    "#   these time-series are forced along the 'waterlevel bnd' boundary cells, see plot below\n",
    "\n",
    "# Here in the 2nd plot you see the following:\n",
    "# - Background geoimage of the region\n",
    "# - Spatial colourplot of the elevation (dep)\n",
    "# - In the red line of 'waterlevel bnd' the boundary cells along which SFINCS will later force input water levels\n",
    "# - Specified observation points 'obs' in red diamond to get a 'sfincs_his.nc' output file"
   ]
  },
  {
   "attachments": {},
   "cell_type": "markdown",
   "metadata": {},
   "source": [
    "### 8. Check what additional files have been created:"
   ]
  },
  {
   "cell_type": "code",
   "execution_count": null,
   "metadata": {},
   "outputs": [],
   "source": [
    "dir_list = os.listdir('./sfincs_simple_compound_forcing')\n",
    "print(dir_list)"
   ]
  },
  {
   "attachments": {},
   "cell_type": "markdown",
   "metadata": {},
   "source": [
    "**SFINCS native input files:**\n",
    "* `obsfile: sfincs.obs`: : https://sfincs.readthedocs.io/en/latest/input.html#observation-points\n",
    "* `bndfile: sfincs.bnd` : https://sfincs.readthedocs.io/en/latest/input_forcing.html#water-level-points\n",
    "* `bzsfile: sfincs.bzs` : https://sfincs.readthedocs.io/en/latest/input_forcing.html#water-level-time-series\n",
    "* `srcfile: sfincs.src`: https://sfincs.readthedocs.io/en/latest/input_forcing.html#discharge-points\n",
    "* `disfile: sfincs.dis`: https://sfincs.readthedocs.io/en/latest/input_forcing.html#discharge-time-series\n",
    "\n",
    "Go through the links in case you want to have more information about what each file means!"
   ]
  },
  {
   "attachments": {},
   "cell_type": "markdown",
   "metadata": {},
   "source": [
    "In case you want to add other types of forcing, see the example notebook example_forcing.ipynb for other types.\n",
    "\n",
    "Or have a look at: https://sfincs.readthedocs.io/en/latest/input_forcing.html"
   ]
  },
  {
   "attachments": {},
   "cell_type": "markdown",
   "metadata": {},
   "source": [
    "Overview of all available options in Hydromt-SFINCS: https://deltares.github.io/hydromt_sfincs/latest/user_guide/sfincs.html"
   ]
  },
  {
   "cell_type": "code",
   "execution_count": null,
   "metadata": {},
   "outputs": [],
   "source": [
    "# NOTE - HydroMT can build even more models for you, like the Hydrological model Wflow, \n",
    "# to provide for instance upstream boundary conditions for your SFINCS model!\n",
    "# See e.g: https://deltares.github.io/hydromt/latest/plugins.html"
   ]
  },
  {
   "attachments": {},
   "cell_type": "markdown",
   "metadata": {},
   "source": [
    "Now you have made a model, you can progress to the notebook: run_sfincs_model.ipynb"
   ]
  }
 ],
 "metadata": {
  "kernelspec": {
   "display_name": "hydromt-sfincs",
   "language": "python",
   "name": "python3"
  },
  "language_info": {
   "codemirror_mode": {
    "name": "ipython",
    "version": 3
   },
   "file_extension": ".py",
   "mimetype": "text/x-python",
   "name": "python",
   "nbconvert_exporter": "python",
   "pygments_lexer": "ipython3",
   "version": "3.10.9"
  },
  "orig_nbformat": 4,
  "vscode": {
   "interpreter": {
    "hash": "9ec3d1fca30a97858614ef59a1f03e9bb27fcbb0a81645b22c597c198da89e77"
   }
  }
 },
 "nbformat": 4,
 "nbformat_minor": 2
}
