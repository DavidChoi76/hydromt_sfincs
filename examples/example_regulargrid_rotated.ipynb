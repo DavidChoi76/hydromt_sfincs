{
 "cells": [
  {
   "cell_type": "code",
   "execution_count": null,
   "metadata": {},
   "outputs": [],
   "source": [
    "import os\n",
    "import sys\n",
    "from hydromt_sfincs import SfincsModel\n",
    "import matplotlib.pyplot as plt\n",
    "\n",
    "!hydromt --version"
   ]
  },
  {
   "attachments": {},
   "cell_type": "markdown",
   "metadata": {},
   "source": [
    "Create grid from scratch"
   ]
  },
  {
   "cell_type": "code",
   "execution_count": null,
   "metadata": {},
   "outputs": [],
   "source": [
    "# Initialize SfincsModel with the artifact data catalog which contains data for North Italy\n",
    "sf = SfincsModel(data_libs=[\"deltares_data\"])"
   ]
  },
  {
   "cell_type": "code",
   "execution_count": null,
   "metadata": {},
   "outputs": [],
   "source": [
    "# set output location\n",
    "sf.set_root(\"tmp_example\", mode=\"w+\")"
   ]
  },
  {
   "cell_type": "code",
   "execution_count": null,
   "metadata": {},
   "outputs": [],
   "source": [
    "# check if your hydromt version has the rotation attribute\n",
    "from hydromt.raster import RasterDataset\n",
    "hasattr(RasterDataset, 'rotation')"
   ]
  },
  {
   "cell_type": "code",
   "execution_count": null,
   "metadata": {},
   "outputs": [],
   "source": [
    "inp_dict = {\n",
    "    \"x0\": 519106,\n",
    "    \"y0\": 5404163,\n",
    "    \"dx\": 100.0,\n",
    "    \"dy\": 100.0,\n",
    "    \"nmax\": 209,\n",
    "    \"mmax\": 183,\n",
    "    \"rotation\": -37.0148,\n",
    "    \"epsg\": 32610,  # crs: \"WGS 84 / UTM zone 10N\"\n",
    "}\n",
    "# create grid\n",
    "sf.create_grid(grid_type=\"regular\", **inp_dict)\n",
    "# the input file is automatically updated\n",
    "sf.region.plot()\n"
   ]
  },
  {
   "attachments": {},
   "cell_type": "markdown",
   "metadata": {},
   "source": [
    "Create mask purely based on include- and exclude polygons"
   ]
  },
  {
   "cell_type": "code",
   "execution_count": null,
   "metadata": {},
   "outputs": [],
   "source": [
    "from hydromt_sfincs import utils"
   ]
  },
  {
   "cell_type": "code",
   "execution_count": null,
   "metadata": {},
   "outputs": [],
   "source": [
    "da_dep = sf.data_catalog.get_rasterdataset(\n",
    "    \"gebco\", variables=[\"elevtn\"], geom=sf.region, buffer=5\n",
    ")\n",
    "\n",
    "# List[dict]\n",
    "# Provide merge arguments together with xr.DataAraay\n",
    "da_dep_lst = [{\"da\":da_dep}]\n",
    "\n",
    "# Add depth information to modelgrid\n",
    "sf.create_dep(da_dep_lst=da_dep_lst)\n",
    "\n",
    "# To plot rotated grids, coordinates must be provided xc and yc\n",
    "sf.grid[\"dep\"].plot(x='xc', y='yc')"
   ]
  },
  {
   "cell_type": "code",
   "execution_count": null,
   "metadata": {},
   "outputs": [],
   "source": [
    "sf.create_mask_active(elv_min=-5, elv_max=500) #gdf_include=gdf_include, gdf_exclude=gdf_exclude)\n",
    "sf.mask.plot(x='xc', y='yc')"
   ]
  },
  {
   "attachments": {},
   "cell_type": "markdown",
   "metadata": {},
   "source": [
    "Also take into account topobathy information"
   ]
  },
  {
   "cell_type": "code",
   "execution_count": null,
   "metadata": {},
   "outputs": [],
   "source": [
    "sf.region.boundary.plot()"
   ]
  },
  {
   "cell_type": "code",
   "execution_count": null,
   "metadata": {},
   "outputs": [],
   "source": [
    "# play around with include, drop_area and fill_area\n",
    "mask = sf.create_mask_active(\n",
    "    elv_min=-5, elv_max=500, fill_area=10, drop_area=10, reset_mask=True\n",
    ")\n",
    "mask.plot(x='xc',y='yc')"
   ]
  },
  {
   "attachments": {},
   "cell_type": "markdown",
   "metadata": {},
   "source": [
    "Mask boundaries"
   ]
  },
  {
   "cell_type": "code",
   "execution_count": null,
   "metadata": {},
   "outputs": [],
   "source": [
    "file_name = \"tmp_example\\\\bnd_wl.pol\"\n",
    "gdf_wl = utils.polygon2gdf(feats=utils.read_geoms(fn=file_name), crs=sf.crs)\n",
    "\n",
    "file_name = \"tmp_example\\\\bnd_out.pol\"\n",
    "gdf_outflow = utils.polygon2gdf(feats=utils.read_geoms(fn=file_name), crs=sf.crs)"
   ]
  },
  {
   "cell_type": "code",
   "execution_count": null,
   "metadata": {},
   "outputs": [],
   "source": [
    "# NOTE that the polygons were created for the non-rotated example\n",
    "# FIXME: add polygons for this example\n",
    "sf.create_mask_bounds(btype=\"waterlevel\", gdf_include=gdf_wl, elv_max=0)\n",
    "sf.create_mask_bounds(btype=\"outflow\", gdf_include=gdf_outflow, elv_min=2)\n",
    "\n",
    "sf.mask.plot(x='xc',y='yc')"
   ]
  },
  {
   "cell_type": "code",
   "execution_count": null,
   "metadata": {},
   "outputs": [],
   "source": [
    "#reset outflow bounds\n",
    "sf.create_mask_bounds(btype=\"outflow\", reset_bounds=True)\n",
    "sf.mask.plot(x='xc',y='yc')"
   ]
  },
  {
   "attachments": {},
   "cell_type": "markdown",
   "metadata": {},
   "source": [
    "#### subgrid"
   ]
  },
  {
   "cell_type": "code",
   "execution_count": null,
   "metadata": {},
   "outputs": [],
   "source": [
    "sf.create_subgrid(da_dep_lst=da_dep_lst, make_dep_tiles = True)\n",
    "#sf.create_subgrid(da_dep_lst=da_dep_lst, highres_dir='tmp_example\\\\tiles')"
   ]
  },
  {
   "cell_type": "code",
   "execution_count": null,
   "metadata": {},
   "outputs": [],
   "source": [
    "sf.subgrid[\"z_zmin\"].plot(x='xc',y='yc')"
   ]
  },
  {
   "cell_type": "code",
   "execution_count": null,
   "metadata": {},
   "outputs": [],
   "source": [
    "sf.subgrid[\"z_zmax\"].plot(x='xc',y='yc')"
   ]
  },
  {
   "attachments": {},
   "cell_type": "markdown",
   "metadata": {},
   "source": [
    "### write"
   ]
  },
  {
   "cell_type": "code",
   "execution_count": null,
   "metadata": {},
   "outputs": [],
   "source": [
    "sf.write() #write all"
   ]
  }
 ],
 "metadata": {
  "kernelspec": {
   "display_name": "hydromt-dev",
   "language": "python",
   "name": "python3"
  },
  "language_info": {
   "codemirror_mode": {
    "name": "ipython",
    "version": 3
   },
   "file_extension": ".py",
   "mimetype": "text/x-python",
   "name": "python",
   "nbconvert_exporter": "python",
   "pygments_lexer": "ipython3",
   "version": "3.10.6"
  },
  "orig_nbformat": 4,
  "vscode": {
   "interpreter": {
    "hash": "1a1c0d40e2688e13ef4c1e0a0bd8d32101069a8b3879fd20a3f04202f98b0ae3"
   }
  }
 },
 "nbformat": 4,
 "nbformat_minor": 2
}
