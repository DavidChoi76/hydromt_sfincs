{
 "cells": [
  {
   "attachments": {},
   "cell_type": "markdown",
   "metadata": {},
   "source": [
    "In this example we will convert the simple SFINCS compound flood model that was made in the notebook 'build_simple_compound_model_from_script.ipynb' to a subgrid type SFINCS model, using the underlying Python functions of HydroMT-SFINCS to build the model.\n",
    "\n",
    "The model is situated in Northern Italy, where a small selection of topography and bathymetry data has already been made available for you to try the examples."
   ]
  },
  {
   "cell_type": "code",
   "execution_count": null,
   "metadata": {},
   "outputs": [],
   "source": [
    "import os\n",
    "import sys\n",
    "import matplotlib.pyplot as plt\n",
    "import xarray as xr\n",
    "import pandas as pd\n",
    "import geopandas as gpd\n",
    "\n",
    "from hydromt_sfincs import SfincsModel\n",
    "from hydromt_sfincs import utils"
   ]
  },
  {
   "attachments": {},
   "cell_type": "markdown",
   "metadata": {},
   "source": [
    "This example shows how to turn a simple SFINCS model on a regular grid, to one with subgrid-derived tables.\n",
    "It also still contains offshore water level forcing and an upstream discharge input forcing.\n",
    "\n",
    "For making a more advanced model including e.g. spatially varying infiltration and roughness, see the example notebook: build_advanced_subgrid_compound_model_from_script.ipynb\n",
    "\n",
    "In case you want to adjust this example to build a SFINCS model anywhere else in the world, you will have to add your own datasets to HydroMT's data catalog. For more info on that, see the example notebook: example_datasources.ipynb"
   ]
  },
  {
   "attachments": {},
   "cell_type": "markdown",
   "metadata": {},
   "source": [
    "Steps followed in this notebook to build your SFINCS model:\n",
    "<ul> \n",
    "<li> 1. Open SfincsModel class, set data library and output folder to read from </li>\n",
    "<li> 2. Load in existing regular SFINCS model </li>\n",
    "<li> 3. Load in wanted elevation datasets </li>\n",
    "<li> 4. Rebuild model with subgrid derived tables </li>\n",
    "<li> 5. Show model</li>\n",
    "<li> 6. Save all files</li>\n",
    "</ul> "
   ]
  },
  {
   "attachments": {},
   "cell_type": "markdown",
   "metadata": {},
   "source": [
    "Let's get started!"
   ]
  },
  {
   "attachments": {},
   "cell_type": "markdown",
   "metadata": {},
   "source": [
    "### 1. Open SfincsModel class, set data library and output folder to read from:"
   ]
  },
  {
   "cell_type": "code",
   "execution_count": null,
   "metadata": {},
   "outputs": [],
   "source": [
    "# Initialize SfincsModel Python class with the artifact data catalog which contains publically available data for North Italy\n",
    "# Also read in the regular grid SFINCS model that was already made in the folder sfincs_compound:\n",
    "sf = SfincsModel(data_libs=[\"artifact_data\"], root=\"sfincs_compound\", mode=\"r+\") \n"
   ]
  },
  {
   "attachments": {},
   "cell_type": "markdown",
   "metadata": {},
   "source": [
    "### 2. Load in existing regular SFINCS model:"
   ]
  },
  {
   "cell_type": "code",
   "execution_count": null,
   "metadata": {},
   "outputs": [],
   "source": [
    "# Reading in the existing model is as easy as this:\n",
    "sf.read()"
   ]
  },
  {
   "cell_type": "code",
   "execution_count": null,
   "metadata": {},
   "outputs": [],
   "source": [
    "# The input file was automatically read in. See what it looks like displayed below:\n",
    "sf.config"
   ]
  },
  {
   "cell_type": "code",
   "execution_count": null,
   "metadata": {},
   "outputs": [],
   "source": [
    "# You can for instance inspect the grid:\n",
    "sf.grid"
   ]
  },
  {
   "cell_type": "code",
   "execution_count": null,
   "metadata": {},
   "outputs": [],
   "source": [
    "# Or the model forcing:\n",
    "sf.forcing"
   ]
  },
  {
   "cell_type": "code",
   "execution_count": null,
   "metadata": {},
   "outputs": [],
   "source": [
    "# Or the spatial attributes (=geoms) of e.g. the region or observation points\n",
    "sf.geoms"
   ]
  },
  {
   "attachments": {},
   "cell_type": "markdown",
   "metadata": {},
   "source": [
    "### 3. Load in wanted elevation datasets:\n",
    "\n",
    "You need to specify again what elevation datasets you want to use to build your subgrid derived tables, these could in principle be different from before, here we keep them the same."
   ]
  },
  {
   "cell_type": "code",
   "execution_count": null,
   "metadata": {},
   "outputs": [],
   "source": [
    "# In this example we want to combine 2 elevation datasets, merit_hydro as elevation and gebco as bathymetry, in that order. \n",
    "\n",
    "# Here these 2 are loaded from the datacatalog and added to one list of elevation datasets (you could add more yourself if wanted, in case made available in your data catalog)\n",
    "da_dep1 = sf.data_catalog.get_rasterdataset(\"merit_hydro\", variables=[\"elevtn\"], geom=sf.region, buffer=5)\n",
    "\n",
    "da_dep2 = sf.data_catalog.get_rasterdataset(\"gebco\", variables=[\"elevtn\"], geom=sf.region, buffer=5)\n",
    "\n",
    "# Provide merge arguments together with xr.DataAraay\n",
    "datasets_dep = [{\"da\":da_dep1}, {\"da\":da_dep2, \"zmax\":0, \"offset\":0}]\n",
    "\n",
    "#NOTE: from the 2nd elevation dataset (gebco) only elevation data below an elevation of 0 meters is used (\"zmax\":0)"
   ]
  },
  {
   "cell_type": "code",
   "execution_count": null,
   "metadata": {},
   "outputs": [],
   "source": [
    "# Again, make a plot of the merged topobathy, here colour limits are set between an elevation of -5 to 5 meters\n",
    "sf.grid.dep.plot(x='xc', y='yc',vmin=-5, vmax=5)"
   ]
  },
  {
   "attachments": {},
   "cell_type": "markdown",
   "metadata": {},
   "source": [
    "### 4. Rebuild model with subgrid derived tables"
   ]
  },
  {
   "cell_type": "code",
   "execution_count": null,
   "metadata": {},
   "outputs": [],
   "source": [
    "# NOTE: in case we don't want to overwrite the SFINCS model in the existing folder, we have to specify a new folder:\n",
    "sf.set_root('sfincs_compound_subgrid')"
   ]
  },
  {
   "attachments": {},
   "cell_type": "markdown",
   "metadata": {},
   "source": [
    "Add some specific settings:"
   ]
  },
  {
   "cell_type": "code",
   "execution_count": null,
   "metadata": {},
   "outputs": [],
   "source": [
    "# You can specify multiple settings abou how the subgrid derived tables should be made\n",
    "\n",
    "# Every single grid cell of the flux grid of the size inp.dx by inp.dy is defined into subgrid pixels (default nr_subgrid_pixels = 20).\n",
    "# For every subgrid pixel the topobathy data is loaded, ideally this consists also of high-resolution DEM datasets that you specify as user.\n",
    "\n",
    "# In this example with dx=dy=50m, having nr_subgrid_pixels = 20 means we are loading data onto a 2.5 m subpixel grid\n",
    "# However, the input data of Gebco and Merit_hydro is way coarser, therefore let's set the ratio to 5 for now: \n",
    "nr_subgrid_pixels = 10\n",
    "\n",
    "# In this example we will just use a manning roughness layer based on elevation using the default settings:\n",
    "manning_sea = 0.02 # at sea, estuaries, rivers we specify a smoother manning's n roughness value of 0.02\n",
    "manning_land = 0.04 # on land we specify a higher manning's n roughness value of 0.04\n",
    "rgh_lev_land = 0.0 # the cuttoff between sea and land is based on elevation, here at 0 meters\n",
    "\n",
    "# NOTE: by specifying manning datasets from your data catalog as list, you can put in multiple spatially varying roughness layers to be used as well > datasets_rgh"
   ]
  },
  {
   "attachments": {},
   "cell_type": "markdown",
   "metadata": {},
   "source": [
    "Now we call the function to make the subgrid derived tables:"
   ]
  },
  {
   "cell_type": "code",
   "execution_count": null,
   "metadata": {},
   "outputs": [],
   "source": [
    "# Every single grid cell of the flux grid of the size inp.dx by inp.dy is defined into subgrid pixels (default is 20, nr_subgrid_pixels = 20).\n",
    "# For every subgrid pixel the topobathy data is loaded, ideally this consists also of high-resolution DEM datasets that you specify as user.\n",
    "\n",
    "# Manning roughness is still based on elevation in this example, above 'rgh_lev_land: 0.0' the valus is 'manning_land: 0.04',  below it is 'manning_sea: 0.02'\n",
    "sf.create_subgrid(datasets_dep=datasets_dep, nr_subgrid_pixels=nr_subgrid_pixels, rgh_lev_land=rgh_lev_land, manning_land=manning_land, manning_sea=manning_sea,\n",
    "                  make_dep_tiles=True, make_manning_tiles=True)\n",
    "\n",
    "# NOTE: we turned on that the merged topobathy and manning tiles of the different (high-res) datasets are written to tiff-files\n",
    "\n",
    "# NOTE: if you have a very large domain with 100,000s to millions of cells, and very high-resolution datasets, this step might take minutes to hours!!!\n",
    "#       But good news; when finished succesfully, you can very quickly run very accurate SFINCS simulations!\n",
    "#       The whole point of the subgrid functionality of SFINCS is that by derived subgrid tables based on high res elevation data, \n",
    "#       you either have more accurate results or run on a coarser grid resolution (= much faster) or both"
   ]
  },
  {
   "attachments": {},
   "cell_type": "markdown",
   "metadata": {},
   "source": [
    "Now we can see what kind of subgrid-derived variables are created:"
   ]
  },
  {
   "cell_type": "code",
   "execution_count": null,
   "metadata": {},
   "outputs": [],
   "source": [
    "sf.subgrid"
   ]
  },
  {
   "attachments": {},
   "cell_type": "markdown",
   "metadata": {},
   "source": [
    "### 5. Show model"
   ]
  },
  {
   "attachments": {},
   "cell_type": "markdown",
   "metadata": {},
   "source": [
    "You can inspect for instance the minimum found bed level per flux grid cell, based on the high-res subgrid pixels, called 'z_zmin':"
   ]
  },
  {
   "cell_type": "code",
   "execution_count": null,
   "metadata": {},
   "outputs": [],
   "source": [
    "sf.subgrid.z_zmin.plot(x='xc', y='yc',vmin=-5, vmax=5)"
   ]
  },
  {
   "attachments": {},
   "cell_type": "markdown",
   "metadata": {},
   "source": [
    "### 6. Save all files"
   ]
  },
  {
   "cell_type": "code",
   "execution_count": null,
   "metadata": {},
   "outputs": [],
   "source": [
    "sf.write() # write all"
   ]
  },
  {
   "cell_type": "code",
   "execution_count": null,
   "metadata": {},
   "outputs": [],
   "source": [
    "# Show created files in folder:\n",
    "dir_list = os.listdir(sf.root)\n",
    "print(dir_list)\n",
    "\n",
    "# NOTE: now there is no sfincs.dep file anymore, but a sfincs.sbg file that contains your subgrid-derived tables"
   ]
  },
  {
   "attachments": {},
   "cell_type": "markdown",
   "metadata": {},
   "source": [
    "Your basemap and forcing figures are saved in the folder 'figs', GIS files (tiff & geojson) of your model setup in 'gis' and intermediate merged subgrid elevation and manning roughness tiles in 'tiles'.\n",
    "\n",
    "Now you have made a model, you can progress to the notebook: run_sfincs_model.ipynb"
   ]
  }
 ],
 "metadata": {
  "kernelspec": {
   "display_name": "hydromt-sfincs",
   "language": "python",
   "name": "python3"
  },
  "language_info": {
   "codemirror_mode": {
    "name": "ipython",
    "version": 3
   },
   "file_extension": ".py",
   "mimetype": "text/x-python",
   "name": "python",
   "nbconvert_exporter": "python",
   "pygments_lexer": "ipython3",
   "version": "3.10.9"
  },
  "orig_nbformat": 4,
  "vscode": {
   "interpreter": {
    "hash": "9ec3d1fca30a97858614ef59a1f03e9bb27fcbb0a81645b22c597c198da89e77"
   }
  }
 },
 "nbformat": 4,
 "nbformat_minor": 2
}
