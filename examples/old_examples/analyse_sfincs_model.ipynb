{
 "cells": [
  {
   "cell_type": "markdown",
   "metadata": {},
   "source": [
    "## Analysing SFINCS results"
   ]
  },
  {
   "cell_type": "code",
   "execution_count": null,
   "metadata": {},
   "outputs": [],
   "source": [
    "# import dependencies\n",
    "import xarray as xr\n",
    "import numpy as np\n",
    "from os.path import join\n",
    "import matplotlib.pyplot as plt\n",
    "import hydromt\n",
    "from hydromt_sfincs import SfincsModel"
   ]
  },
  {
   "cell_type": "markdown",
   "metadata": {},
   "source": [
    "### Read model results"
   ]
  },
  {
   "cell_type": "markdown",
   "metadata": {},
   "source": [
    "The model results of SFINCS in the 2D domain in 'sfincs_map.nc' are saved as in a staggered grid format, see [SGRID convention](https://publicwiki.deltares.nl/display/NETCDF/Deltares+proposal+for+Staggered+Grid+data+model+(SGRID)). \n",
    "\n",
    "Additionally, if observation points are specified, there is also time-series output in the additional netcdf output file 'sfincs_his.nc'.\n",
    "\n",
    "Here we show how to retrieve the values from the netcdf file and translate the dimensions from node indices (m, n) to (x, y) coordinates in order to plot the results on a map.\n",
    "\n",
    "For this we use a pre-run model simulation called 'sfincs_riverine', entailing a riverine SFINCS model in Italy.\n",
    "\n",
    "The model contains upstream river discharges."
   ]
  },
  {
   "cell_type": "code",
   "execution_count": null,
   "metadata": {},
   "outputs": [],
   "source": [
    "run_path = \"./sfincs_riverine\" # (relative) path to sfincs root\n",
    "\n",
    "mod = SfincsModel(run_path, mode=\"r\")"
   ]
  },
  {
   "cell_type": "markdown",
   "metadata": {},
   "source": [
    "We can simply read the model results (sfincs_map.nc and sfincs_his.nc) using the read_results method\n"
   ]
  },
  {
   "cell_type": "code",
   "execution_count": null,
   "metadata": {},
   "outputs": [],
   "source": [
    "mod.read_results()"
   ]
  },
  {
   "cell_type": "markdown",
   "metadata": {},
   "source": [
    "The following variables have been found:\n"
   ]
  },
  {
   "cell_type": "code",
   "execution_count": null,
   "metadata": {},
   "outputs": [],
   "source": [
    "list(mod.results.keys())"
   ]
  },
  {
   "cell_type": "markdown",
   "metadata": {},
   "source": [
    "Do you have an idea what these variables might mean?"
   ]
  },
  {
   "cell_type": "markdown",
   "metadata": {},
   "source": [
    "### Output variables\n",
    "\n",
    "From the spatial layers, 'zb' is for instance the elevation used in the model.\n",
    "\n",
    "Also model output is included, with for instance the water level at certain time steps, called 'zs'."
   ]
  },
  {
   "cell_type": "markdown",
   "metadata": {},
   "source": [
    "### Elevation layer\n",
    "\n",
    "The variable 'zb' contains the general averaged elevation (topography+bathymetry), let's plot this:"
   ]
  },
  {
   "cell_type": "code",
   "execution_count": null,
   "metadata": {},
   "outputs": [],
   "source": [
    "fig, ax = mod.plot_basemap(fn_out=None, bmap=\"sat\", figsize=(11, 7))"
   ]
  },
  {
   "cell_type": "markdown",
   "metadata": {},
   "source": [
    "### Question:\n",
    "\n",
    "Can you identify where in the map output points are requested?\n",
    "\n",
    "And how many?\n",
    "\n",
    "Hint, these are called 'obs'"
   ]
  },
  {
   "cell_type": "markdown",
   "metadata": {},
   "source": [
    "### Time-series output"
   ]
  },
  {
   "cell_type": "markdown",
   "metadata": {},
   "source": [
    "Let's now analyse what the output time-series look like at the output stations:"
   ]
  },
  {
   "cell_type": "code",
   "execution_count": null,
   "metadata": {},
   "outputs": [],
   "source": [
    "# point_h contains the water depths at the sfincs.obs gauge locations\n",
    "# see mod.plot_basemaps (or next figure) for the location of the observation points\n",
    "h_point = mod.results[\"point_h\"].rename({\"stations\": \"station_id\"})\n",
    "h_point[\"station_id\"] = h_point[\"station_id\"].astype(int)\n",
    "_ = h_point.plot.line(\n",
    "    x=\"time\",\n",
    ")"
   ]
  },
  {
   "cell_type": "markdown",
   "metadata": {},
   "source": [
    "### Question:\n",
    "\n",
    "What station has the larged increase in water depth?\n",
    "\n",
    "And how much is the increase during the peak?"
   ]
  },
  {
   "cell_type": "markdown",
   "metadata": {},
   "source": [
    "### Plot instantaneous water depths"
   ]
  },
  {
   "cell_type": "markdown",
   "metadata": {},
   "source": [
    "We can also plot water levels or water levels look like spatially during the simulation:"
   ]
  },
  {
   "cell_type": "code",
   "execution_count": null,
   "metadata": {},
   "outputs": [],
   "source": [
    "# h from sfincs_map contains the water depths for each cell face\n",
    "# here we plot the water level every 4th hour\n",
    "h = mod.results[\"h\"].where(mod.results[\"h\"] > 0)\n",
    "h.attrs.update(long_name=\"water depth\", unit=\"m\")\n",
    "h.sel(time=h[\"time\"].values[4::4]).plot(col=\"time\", col_wrap=3, vmax=4)"
   ]
  },
  {
   "cell_type": "markdown",
   "metadata": {},
   "source": [
    "### Create animation"
   ]
  },
  {
   "cell_type": "markdown",
   "metadata": {},
   "source": [
    "An animation is also simple to make with `matplotlib.animation` method. Here we add the surface water level in blue colors next to the overland flood depth with viridis colormap. "
   ]
  },
  {
   "cell_type": "code",
   "execution_count": null,
   "metadata": {},
   "outputs": [],
   "source": [
    "# mask water depth\n",
    "# rivmsk is a by product of the setup_river_geomerty setup component\n",
    "rivmsk = mod.staticmaps[\"rivmsk\"] == 1\n",
    "hmin = 0.2\n",
    "da_h = (mod.results[\"zs\"] - mod.results[\"zb\"]).where(~rivmsk)\n",
    "da_h = da_h.where(da_h > hmin).drop(\"spatial_ref\")\n",
    "da_h.attrs.update(long_name=\"flood depth\", unit=\"m\")\n",
    "# add water level inside permanent water bodies to plots\n",
    "da_hriv = (mod.results[\"zs\"] - mod.results[\"zb\"]).where(rivmsk).drop(\"spatial_ref\")\n",
    "da_hriv.attrs.update(long_name=\"river water depth\", unit=\"m\")\n",
    "\n",
    "# create hmax plot and save to mod.root/figs/sfincs_h.mp4\n",
    "# requires ffmpeg install with \"conda install ffmpeg -c conda-forge\"\n",
    "from matplotlib import animation\n",
    "\n",
    "step = 1  # one frame every <step> dtout\n",
    "cbar_kwargs = {\"shrink\": 0.6, \"anchor\": (0, 0)}\n",
    "\n",
    "\n",
    "def update_plot(i, da_h, cax_h, da_hriv=None, cax_hriv=None):\n",
    "    da_hi = da_h.isel(time=i)\n",
    "    t = da_hi.time.dt.strftime(\"%d-%B-%Y %H:%M:%S\").item()\n",
    "    ax.set_title(f\"SFINCS water depth {t}\")\n",
    "    cax_h.set_array(da_hi.values.ravel())\n",
    "    if da_hriv is not None and cax_hriv is not None:\n",
    "        da_hrivi = da_hriv.isel(time=i)\n",
    "        cax_hriv.set_array(da_hrivi.values.ravel())\n",
    "\n",
    "\n",
    "fig, ax = mod.plot_basemap(\n",
    "    fn_out=None, variable=None, bmap=\"sat\", plot_bounds=False, figsize=(11, 7)\n",
    ")\n",
    "cax_h = da_h.isel(time=0).plot(\n",
    "    ax=ax, vmin=0, vmax=3, cmap=plt.cm.viridis, cbar_kwargs=cbar_kwargs\n",
    ")\n",
    "# add water level inside permanent water bodies to plots\n",
    "cax_hriv = da_hriv.isel(time=0).plot(\n",
    "    ax=ax, vmin=0, vmax=5, cmap=plt.cm.bone, cbar_kwargs=cbar_kwargs\n",
    ")\n",
    "plt.close()  # to prevent double plot\n",
    "\n",
    "ani = animation.FuncAnimation(\n",
    "    fig,\n",
    "    update_plot,\n",
    "    frames=np.arange(0, da_h.time.size, step),\n",
    "    interval=250,  # ms between frames\n",
    "    fargs=(\n",
    "        da_h,\n",
    "        cax_h,\n",
    "        da_hriv,\n",
    "        cax_hriv,\n",
    "    ),\n",
    ")\n",
    "\n",
    "# to save to mp4\n",
    "# ani.save(join(mod.root, 'figs', 'sfincs_h.mp4'), fps=4, dpi=200)\n",
    "\n",
    "# to show in notebook:\n",
    "from IPython.display import HTML\n",
    "\n",
    "HTML(ani.to_html5_video())"
   ]
  },
  {
   "cell_type": "markdown",
   "metadata": {},
   "source": [
    "### Question:\n",
    "\n",
    "Where do you see the largest flooding?"
   ]
  }
 ],
 "metadata": {
  "kernelspec": {
   "display_name": "Python 3 (ipykernel)",
   "language": "python",
   "name": "python3"
  },
  "language_info": {
   "codemirror_mode": {
    "name": "ipython",
    "version": 3
   },
   "file_extension": ".py",
   "mimetype": "text/x-python",
   "name": "python",
   "nbconvert_exporter": "python",
   "pygments_lexer": "ipython3",
   "version": "3.10.8"
  },
  "vscode": {
   "interpreter": {
    "hash": "279caf9d0aef916ca877f8986f7dcbece9b492e90eb95f7626b621f6217a2bb3"
   }
  }
 },
 "nbformat": 4,
 "nbformat_minor": 4
}
