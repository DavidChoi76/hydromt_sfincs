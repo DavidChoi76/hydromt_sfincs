{
 "cells": [
  {
   "cell_type": "markdown",
   "metadata": {},
   "source": [
    "## Analysing SFINCS results"
   ]
  },
  {
   "cell_type": "code",
   "execution_count": null,
   "metadata": {},
   "outputs": [],
   "source": [
    "# import dependencies\n",
    "import xarray as xr\n",
    "import numpy as np\n",
    "from os.path import join\n",
    "import matplotlib.pyplot as plt\n",
    "import hydromt\n",
    "from hydromt_sfincs import SfincsModel"
   ]
  },
  {
   "cell_type": "markdown",
   "metadata": {},
   "source": [
    "### Read model results"
   ]
  },
  {
   "cell_type": "markdown",
   "metadata": {},
   "source": [
    "Now we will have a look at the model input files of sfincs, controlled through 'sfincs.inp'.\n",
    "\n",
    "For this we use a pre-run model simulation called 'sfincs_riverine', entailing a riverine SFINCS model in Italy.\n",
    "\n",
    "The model contains upstream river discharges."
   ]
  },
  {
   "cell_type": "markdown",
   "metadata": {},
   "source": [
    "### Model input file 'sfincs.inp'\n",
    "\n",
    "Let's load the main input file of SFINCS and have a look:"
   ]
  },
  {
   "cell_type": "code",
   "execution_count": null,
   "metadata": {},
   "outputs": [],
   "source": [
    "fn_ini = \"./sfincs_riverine/sfincs.inp\"\n",
    "with open(fn_ini, \"r\") as f:\n",
    "    txt = f.read()\n",
    "print(txt)"
   ]
  },
  {
   "cell_type": "markdown",
   "metadata": {},
   "source": [
    "The input file of SFINCS is based around 'keyword = argument' pairs.\n",
    "\n",
    "e.g. 'mmax = 494' means that there are 494 grid cell in x-direction.\n",
    "\n",
    "e.g. 'outputformat = net' means that you want the model output as netcdf file.\n",
    "\n",
    "For more descriptions regarding the model files and input arguments, see our online manual:  https://sfincs.readthedocs.io/en/latest/"
   ]
  },
  {
   "cell_type": "markdown",
   "metadata": {},
   "source": [
    "### Question:\n",
    "\n",
    "What is the model resolution?"
   ]
  },
  {
   "cell_type": "markdown",
   "metadata": {},
   "source": [
    "### Time description\n",
    "\n",
    "Also the runtime of the simulation is prescribed here, controlled by the reference time 'tref', start time 'tstart' and end time 'tstop'.\n",
    "\n",
    "These are written as dates, as in YYYYMMDD hhmmss."
   ]
  },
  {
   "cell_type": "markdown",
   "metadata": {},
   "source": [
    "### Question:\n",
    "\n",
    "What year, month and day is the end time of this simulation?\n",
    "\n",
    "And by comparing tstop and tstart, for how long is the simulation being run?"
   ]
  },
  {
   "cell_type": "markdown",
   "metadata": {},
   "source": [
    "### River input \n",
    "\n",
    "In the 'sfincs.inp' file also model forcing is prescribed, with in this case for instance river discharge input.\n",
    "\n",
    "This is controlled through the file 'sfincs.src', where you specify the amount and x&y-locations of the model.\n",
    "\n",
    "Let's see what is inside this model:"
   ]
  },
  {
   "cell_type": "code",
   "execution_count": null,
   "metadata": {},
   "outputs": [],
   "source": [
    "fn_ini = \"./sfincs_riverine/sfincs.src\"\n",
    "with open(fn_ini, \"r\") as f:\n",
    "    txt = f.read()\n",
    "print(txt)"
   ]
  },
  {
   "cell_type": "markdown",
   "metadata": {},
   "source": [
    "### Mask\n",
    "\n",
    "In important aspect of making a SFINCS model, is specifying where you want what cells to be active or inactive, and where you want boundaries.\n",
    "\n",
    "In this case since it's a river model, we want the water to be able to flow out of the domain.\n",
    "\n",
    "Therefore 'msk=3' values (outflow cells) are prescribed at some boundaries, let's plot this:"
   ]
  },
  {
   "cell_type": "code",
   "execution_count": null,
   "metadata": {},
   "outputs": [],
   "source": [
    "run_path = \"./sfincs_riverine\" # (relative) path to sfincs root\n",
    "\n",
    "mod = SfincsModel(run_path, mode=\"r\")\n",
    "\n",
    "fig, ax = mod.plot_basemap(fn_out=None, variable = \"msk\", plot_bounds = False, bmap=\"sat\", figsize=(11, 7))"
   ]
  },
  {
   "cell_type": "markdown",
   "metadata": {},
   "source": [
    "### Question:\n",
    "\n",
    "Can you come up with a reason why there are no outflow boundaries prescribed at the upstream inflow points?"
   ]
  }
 ],
 "metadata": {
  "kernelspec": {
   "display_name": "Python 3 (ipykernel)",
   "language": "python",
   "name": "python3"
  },
  "language_info": {
   "codemirror_mode": {
    "name": "ipython",
    "version": 3
   },
   "file_extension": ".py",
   "mimetype": "text/x-python",
   "name": "python",
   "nbconvert_exporter": "python",
   "pygments_lexer": "ipython3",
   "version": "3.10.8"
  },
  "vscode": {
   "interpreter": {
    "hash": "279caf9d0aef916ca877f8986f7dcbece9b492e90eb95f7626b621f6217a2bb3"
   }
  }
 },
 "nbformat": 4,
 "nbformat_minor": 4
}
