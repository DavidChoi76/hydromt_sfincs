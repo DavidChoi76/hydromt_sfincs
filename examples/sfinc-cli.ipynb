{
 "cells": [
  {
   "cell_type": "markdown",
   "metadata": {},
   "source": [
    "# Make a coastal sfincs model from scratch using hydromt"
   ]
  },
  {
   "cell_type": "markdown",
   "metadata": {},
   "source": [
    "This notebook demonstrates how to prepare and inspect a SFINCS model from scratch. The notebook does not contain the SFINCS code or executables to run the model with. \n",
    "\n",
    "We will make a schematization with the following features:\n",
    "* we only simulate coastal flooding, we do not consider any interactions with riverine flooding\n",
    "* we use the MERIT Hydro dataset as elevation\n",
    "* we include boundary conditions from the Global Tide and Surge Model by imposing a number of boundary points    where forcing is expected\n",
    "\n"
   ]
  },
  {
   "cell_type": "markdown",
   "metadata": {},
   "source": [
    "### HydroMT CLI build interface\n",
    "First let us see what hydromt provides us with."
   ]
  },
  {
   "cell_type": "code",
   "execution_count": null,
   "metadata": {},
   "outputs": [],
   "source": [
    "!hydromt --help"
   ]
  },
  {
   "cell_type": "markdown",
   "metadata": {},
   "source": [
    "It looks like we have several commands that we can consider. We want to `build` a model. How does that work? We can also call `--help` on the available hydromt commands as follows."
   ]
  },
  {
   "cell_type": "code",
   "execution_count": null,
   "metadata": {},
   "outputs": [],
   "source": [
    "!hydromt build --help"
   ]
  },
  {
   "cell_type": "markdown",
   "metadata": {},
   "source": [
    "### Building a first model (and getting an error when data is missing)\n",
    "Let's try to build an entire schematisation, just from the command line (Awesome!!!). In the `--help` section, there is an example for making a model from a bounding box, which is very intuitive. Let's try exactly that. We store the model on the local path `./texel_sfincs`"
   ]
  },
  {
   "cell_type": "code",
   "execution_count": null,
   "metadata": {},
   "outputs": [],
   "source": [
    "!hydromt build sfincs ./texel_sfincs \"{'bbox': [4.6891,52.9750,4.9576,53.1994]}\""
   ]
  },
  {
   "cell_type": "markdown",
   "metadata": {},
   "source": [
    "The above might have taken a few seconds, but then should have miserably crashed! What happened:\n",
    "* HydroMT was looking for a data catalog to use. \n",
    "* It did not find any and therefore, it automatically downloaded a sample data catalog which you can now find on your home folder under .hydromt_data\n",
    "* It tried to build a model in the Texel bounding box, but...alas, the sample dataset does not cover Texel at all!\n"
   ]
  },
  {
   "cell_type": "markdown",
   "metadata": {},
   "source": [
    "### Building a first model (and getting it right)\n",
    "Let's adapt the bounding box to an area that fits within the sample dataset. The dataset covers the Piave basin and its surroundings in Italy. A good place to get a CSV formatted bounding box is https://boundingbox.klokantech.com/\n",
    "\n",
    "We also add `-vv` for extra verbosity"
   ]
  },
  {
   "cell_type": "code",
   "execution_count": null,
   "metadata": {},
   "outputs": [],
   "source": [
    "!hydromt build sfincs ./venice_sfincs \"{'bbox': [12.047909,45.15809,12.833432,45.646944]}\" -vv"
   ]
  },
  {
   "cell_type": "markdown",
   "metadata": {},
   "source": [
    "This should work without any errors. \n",
    "\n",
    "The example above means the following: run **hydromt build** with:\n",
    "\n",
    "* `sfincs` : i.e. build a sfincs model\n",
    "* `./venice_sfincs` : output model folder\n",
    "* `\"{'bbox': [12.047909,45.15809,12.833432,45.646944]}\"` : make a model that is active for the full given bounding box. All *REGION* options are described in the [docs](https://deltares.github.io/hydromt/latest/user_guide/cli.html#region-options)\n",
    "* `-vv` : give some extra verbosity (2 * v) to display feedback on screen. Now debug messages are provided.\n",
    "\n",
    "NOTE: As we did not specify a model configuration, only the base maps (topography) have been setup using default parameters. To build a complete model we need the use a configuraton ini-file.\n",
    "\n",
    "We can now inspect the newly created folder `./venice_sfincs`"
   ]
  },
  {
   "cell_type": "code",
   "execution_count": null,
   "metadata": {},
   "outputs": [],
   "source": [
    "ls ./venice_sfincs"
   ]
  },
  {
   "cell_type": "markdown",
   "metadata": {},
   "source": [
    "The .log file contains the same messages as shown in the verbose messages during the building of the model. The files are standard sfincs formats and contain the following\n",
    "* .inp file : holds the model's configuration\n",
    "* .dep file : holds the bathymetry in the typical format of sfincs\n",
    "* .msk file : mask file (0, inactive cells, 1, active cells, 2, boundary cells)\n",
    "\n",
    "Let us have a closer look at the model's configuration"
   ]
  },
  {
   "cell_type": "code",
   "execution_count": null,
   "metadata": {},
   "outputs": [],
   "source": [
    "fn_inp = './venice_sfincs/sfincs.inp'\n",
    "with open(fn_inp, 'r') as f:\n",
    "    txt = f.read()\n",
    "\n",
    "print(txt)"
   ]
  },
  {
   "cell_type": "markdown",
   "metadata": {},
   "source": [
    "We see that quite standard settings are used. The coordinate reference system (see `epsg`) is automatically chosen to the nearest UTM zone. We have not even considered the resolution. It is now 100 meters (see `dx` and `dy`). Let's assume we want a 50 meter model and rebuild it. The `--help` section showed that the `-r` option has to be used to change this. Building will take longer."
   ]
  },
  {
   "cell_type": "code",
   "execution_count": null,
   "metadata": {},
   "outputs": [],
   "source": [
    "!hydromt build sfincs ./venice_sfincs \"{'bbox': [12.047909,45.15809,12.833432,45.646944]}\" -r 50 -vv\n",
    "fn_inp = './venice_sfincs/sfincs.inp'\n",
    "with open(fn_inp, 'r') as f:\n",
    "    txt = f.read()\n",
    "\n",
    "print(txt)"
   ]
  },
  {
   "cell_type": "markdown",
   "metadata": {},
   "source": [
    "It is clear that the `dx` and `dy` settings are changed."
   ]
  },
  {
   "cell_type": "markdown",
   "metadata": {},
   "source": [
    "### inspecting the model\n",
    "Let's have a closer look at the model. To interact with a model within a notebook or python script, we need to load a number of modules."
   ]
  },
  {
   "cell_type": "code",
   "execution_count": null,
   "metadata": {},
   "outputs": [],
   "source": [
    "%matplotlib inline\n",
    "import hydromt\n",
    "import cartopy\n",
    "from hydromt import SfincsModel\n",
    "import os\n",
    "import matplotlib.pyplot as plt"
   ]
  },
  {
   "cell_type": "markdown",
   "metadata": {},
   "source": [
    "Now we can load the model in memory and inspect it."
   ]
  },
  {
   "cell_type": "code",
   "execution_count": null,
   "metadata": {},
   "outputs": [],
   "source": [
    "# define the model's configuration file\n",
    "root = r'./venice_sfincs'\n",
    "config_fn = os.path.abspath(os.path.join(root, 'sfincs.inp'))\n",
    "print(config_fn)\n",
    "# read the model with hydromt sfincs methods\n",
    "mod = SfincsModel(root=root, config_fn=config_fn, mode=\"r\")\n",
    "mod.read()\n",
    "mod.plot_basemap(figsize=(12, 10))"
   ]
  },
  {
   "cell_type": "markdown",
   "metadata": {},
   "source": [
    "We can provide many more settings in an ini file instead of command line arguments. These settings point to the data catalog in many cases. \n",
    "###################\n",
    "<<DIRK, can I refer to a notebook explaining this in more detail?>>\n",
    "###################\n",
    "\n",
    "If you don't provide an explicit ini file, a default .ini file is used. See below. You can see here the following sections:\n",
    "* `global`: typical global section, usually not needed to change this\n",
    "* `basemaps`: basic information required for the elevation, bathymetry, land mask. These are the typical demanded static layers that any sfincs model needs. Here you may for instance consider altering the elevation and bathymetry data for local data sources. These then have to be supplied in the `data_catalog.yml`.\n",
    "* `rivers`: required to provide locations and directions of streams\n",
    "* `cn_infiltration`: infiltration curve number maps, see https://sfincs.readthedocs.io/en/latest/input.html?highlight=curve#spatially-varying-curve-number for more information\n",
    "* `manning_roughness`: configuration of the Manning roughness values, typically consisting of a land use or land cover map, and a lookup table that relates land use classes to manning roughness values in sec m^(-1/3)\n",
    "* `gauges`: file containing gauge locations. These are used to measure time series of water levels and other variables\n",
    "* `h_forcing`: water level forcing data. This can be provided as a NetCDF file following CF-conventions for point time series data.\n",
    "* `q_forcing`: flow forcing data in upstream points\n",
    "* `p_forcing_gridded`: gridded precipitation data, that can be used to do compound flood simulations. The `cn_infiltration` is then quite essential to include."
   ]
  },
  {
   "cell_type": "code",
   "execution_count": null,
   "metadata": {},
   "outputs": [],
   "source": [
    "fn_ini = '../hydromt_sfincs/data/sfincs/sfincs_build_default.ini'\n",
    "with open(fn_ini, 'r') as f:\n",
    "    txt = f.read()\n",
    "\n",
    "print(txt)"
   ]
  },
  {
   "cell_type": "markdown",
   "metadata": {},
   "source": [
    "### add precipitation forcing to an existing model\n",
    "Rather than rebuilding the entire model, we can add or update components to an existing model. You may want to update several things at the same time. This is possible by preparing a **configuration file** that includes every components and settings that you want to do during your update.\n",
    "\n",
    "The ini-file contains the model setup configuration and determines which components are updated and in which sequence and sets optional arguments for each component. This configuration is passed to hydromt using `-i <path_to_ini_file>`.\n",
    "\n",
    "Each header as shown between `[...]` (e.g. `[setup_precip_forcing]`) corresponds with a model component which are explained in the [docs(model_components)](https://deltares.github.io/hydromt_sfincs/latest/user_guide/sfincs/components.html).\n",
    "\n",
    "Let's open the example configuration file **sfincs_update_precip.ini** from the model repository [examples folder] and have a look at the settings."
   ]
  },
  {
   "cell_type": "code",
   "execution_count": null,
   "metadata": {},
   "outputs": [],
   "source": [
    "fn_ini = 'sfincs_update_precip.ini'\n",
    "with open(fn_ini, 'r') as f:\n",
    "    txt = f.read()\n",
    "print(txt)"
   ]
  },
  {
   "cell_type": "markdown",
   "metadata": {},
   "source": [
    "Two components are to be updated:\n",
    "* **setup_config**: This section directly overwrites parts of the .inp configuration file. You can extend this with any settings of the .inp file. The time settings need to be altered. We have made sure that the time coverage is available in the precipitation sample dataset. \n",
    "* **setup_p_forcing_gridded**: here, we identify which dataset, available in our data catalog is to be used as forcing. The dataset **era5_hourly** has to be represented in the **data_catalog.yml**. Please check your **$HOME/.hydromt_data** folder to see if it is indeed present. If it is, then you can continue below to add the forcing. \n",
    "\n",
    "We need the `update` command of hydromt to update the model with this .ini file. Let's get an overview of the options."
   ]
  },
  {
   "cell_type": "code",
   "execution_count": null,
   "metadata": {},
   "outputs": [],
   "source": [
    "!hydromt update --help"
   ]
  },
  {
   "cell_type": "markdown",
   "metadata": {},
   "source": [
    "### update sfincs precipitation\n",
    "Now we will add the precipitation and write the model to a new folder"
   ]
  },
  {
   "cell_type": "code",
   "execution_count": null,
   "metadata": {},
   "outputs": [],
   "source": [
    "!hydromt update sfincs ./venice_sfincs -o ./venice_sfincs_precip -i sfincs_update_precip.ini -v"
   ]
  },
  {
   "cell_type": "markdown",
   "metadata": {},
   "source": [
    "The example above means the following: run **hydromt** with:\n",
    "\n",
    "- `update sfincs`: i.e. update a sfincs model\n",
    "- `./venice_sfincs`: original model folder\n",
    "- `-o ./venice_sfincs_precip`: output updated model folder\n",
    "- `-i sfincs_update_precip.ini`: setup configuration file containing the components to update and their different options\n",
    "- `v`: give some extra verbosity (2 * v) to display feedback on screen. Now debug messages are provided.\n"
   ]
  },
  {
   "cell_type": "markdown",
   "metadata": {},
   "source": [
    "Let's inspect the new model folder"
   ]
  },
  {
   "cell_type": "code",
   "execution_count": null,
   "metadata": {},
   "outputs": [],
   "source": [
    "ls ./venice_sfincs_precip/"
   ]
  },
  {
   "cell_type": "markdown",
   "metadata": {},
   "source": [
    "We now have a .nc file with the precipitation. The .inp file now also contains a reference to this dataset."
   ]
  },
  {
   "cell_type": "markdown",
   "metadata": {},
   "source": [
    "### inspect forcing data"
   ]
  },
  {
   "cell_type": "markdown",
   "metadata": {},
   "source": [
    "The forcing data will also be available for analysis and plotting within hydromt. The `plot_forcing` method plots the area averaged precipitation. If you are familiar with xarray and matplotlib, it is straighforward to make some other plots as well."
   ]
  },
  {
   "cell_type": "code",
   "execution_count": null,
   "metadata": {},
   "outputs": [],
   "source": [
    "%matplotlib inline\n",
    "import hydromt\n",
    "import matplotlib.pyplot as plt"
   ]
  },
  {
   "cell_type": "markdown",
   "metadata": {},
   "source": [
    "Below, we first plot the area averaged time series"
   ]
  },
  {
   "cell_type": "code",
   "execution_count": null,
   "metadata": {},
   "outputs": [],
   "source": [
    "mod = hydromt.SfincsModel(root=\"venice_sfincs_precip\", mode=\"r\")\n",
    "mod.plot_forcing()"
   ]
  },
  {
   "cell_type": "markdown",
   "metadata": {},
   "source": [
    "We can also manipulate the forcing and make spatial plots with xarray logic. Below we plot the time accumulated rainfall over the entire period."
   ]
  },
  {
   "cell_type": "code",
   "execution_count": null,
   "metadata": {},
   "outputs": [],
   "source": [
    "# precipitation forcing is in the key \"netampr\"\n",
    "precip_sum = mod.forcing[\"netampr\"].sum(dim=\"time\")\n",
    "precip_sum.plot()"
   ]
  },
  {
   "cell_type": "markdown",
   "metadata": {},
   "source": [
    "Important files are:\n",
    "* .inp file : holds the model's configuration\n",
    "* .dep file : holds the bathymetry in the typical format of sfincs\n",
    "* .msk file : mask file (0, inactive cells, 1, active cells, 2, boundary cells)\n",
    "* .obs file : holds the points (x, y) where observation locations are present (taken from geojson file in .ini)\n",
    "* .src file : same as .obs but for discharge inflow locations\n",
    "* .dis file : discharge time series, same number of columns as the discharge locations\n",
    "* .bnd file : same as .obs but for locations with water level boundary conditions\n",
    "* .bzs file : same as .dis but for time series of water level boundary conditions\n",
    "* The .log file holds logging information of hydromt. Inspect it to see if everything went as supposed."
   ]
  },
  {
   "cell_type": "markdown",
   "metadata": {},
   "source": [
    "Now we will use hydromt methods to read the model back in memory and inspect it with typical pythonic methods (xarray, geopandas and so on)"
   ]
  },
  {
   "cell_type": "code",
   "execution_count": null,
   "metadata": {},
   "outputs": [],
   "source": []
  }
 ],
 "metadata": {
  "kernelspec": {
   "display_name": "Python 3",
   "language": "python",
   "name": "python3"
  },
  "language_info": {
   "codemirror_mode": {
    "name": "ipython",
    "version": 3
   },
   "file_extension": ".py",
   "mimetype": "text/x-python",
   "name": "python",
   "nbconvert_exporter": "python",
   "pygments_lexer": "ipython3",
   "version": "3.9.2"
  }
 },
 "nbformat": 4,
 "nbformat_minor": 4
}
