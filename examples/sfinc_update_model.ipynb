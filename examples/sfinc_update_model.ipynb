{
 "cells": [
  {
   "cell_type": "markdown",
   "metadata": {},
   "source": [
    "# Update existing Sfincs model with boundary conditions and forcing"
   ]
  },
  {
   "cell_type": "markdown",
   "metadata": {},
   "source": [
    "This notebook demonstrates how to update an existing SFINCS model with gauges, boundary conditions and forcing such as precipitation. The notebook does not contain the SFINCS code or executables to run the model with. \n",
    "\n",
    "We will perform the following:\n",
    "* append an existing schematization that only contains static schematization layers\n",
    "* introduce gridded precipitation only \n",
    "* introduce gridded precipitation, water level boundaries and observation gauge point locations\n",
    "* write the new models to new model folders\n",
    "\n",
    "This notebook demonstrates the update functionalities on a test model delivered with the hydromt_sfincs plugin."
   ]
  },
  {
   "cell_type": "markdown",
   "metadata": {},
   "source": [
    "### HydroMT plugin availability\n",
    "First let us check if HydroMT has the Sfincs plugin available. The result of the code block below should be\n",
    "`hydroMT model plugins: sfincs (vx.x.x)` where `x.x.x` denotes the current version (e.g. `0.1.0`). If Sfincs seems missing, ensure it is installed by typing `pip install hydromt_sfincs` on a command line."
   ]
  },
  {
   "cell_type": "code",
   "execution_count": null,
   "metadata": {},
   "outputs": [],
   "source": [
    "!hydromt --models"
   ]
  },
  {
   "cell_type": "markdown",
   "metadata": {},
   "source": [
    "### contents of HydroMT Sfincs configuration .ini file\n",
    "We can provide many more settings in an ini file instead of command line arguments. These settings point to the data catalog in many cases. \n",
    "\n",
    "###################\n",
    "DIRK, can I refer to a notebook explaining this in more detail?\n",
    "###################\n",
    "\n",
    "If you don't provide an explicit ini file, a default .ini file is used for the model building process. Let's have a look at this. "
   ]
  },
  {
   "cell_type": "code",
   "execution_count": null,
   "metadata": {},
   "outputs": [],
   "source": [
    "fn_ini = '../hydromt_sfincs/data/sfincs/sfincs_build_default.ini'\n",
    "with open(fn_ini, 'r') as f:\n",
    "    txt = f.read()\n",
    "print(txt)"
   ]
  },
  {
   "cell_type": "markdown",
   "metadata": {},
   "source": [
    "You can see the following sections:\n",
    "* `global`: typical global section, usually not needed to change this\n",
    "* `basemaps`: basic information required for the elevation, bathymetry, land mask. These are the typical demanded static layers that any sfincs model needs. Here you may for instance consider altering the elevation and bathymetry data for local data sources. These then have to be supplied in the `data_catalog.yml`.\n",
    "* `rivers`: required to provide locations and directions of streams\n",
    "* `cn_infiltration`: infiltration curve number maps, see https://sfincs.readthedocs.io/en/latest/input.html?highlight=curve#spatially-varying-curve-number for more information\n",
    "* `manning_roughness`: configuration of the Manning roughness values, typically consisting of a land use or land cover map, and a lookup table that relates land use classes to manning roughness values in sec m^(-1/3)\n",
    "* `gauges`: file containing gauge locations. These are used to measure time series of water levels and other variables\n",
    "* `h_forcing`: water level forcing data. This can be provided as a NetCDF file following CF-conventions for point time series data.\n",
    "* `q_forcing`: flow forcing data in upstream points\n",
    "* `p_forcing_gridded`: gridded precipitation data, that can be used to do compound flood simulations. The `cn_infiltration` is then quite essential to include."
   ]
  },
  {
   "cell_type": "markdown",
   "metadata": {},
   "source": [
    "### Add precipitation forcing to an existing model\n",
    "Rather than rebuilding a model from scratch, we can add or update components to an existing model. You may want to update several things at the same time. This may be useful, for instance when you are considering model intercomparisons, with different parameter sets or underlying static maps, or comparing the impact of different forcing datasets. \n",
    "\n",
    "This is possible by preparing a **configuration file** that includes every components and settings that you want to do during your update.\n",
    "\n",
    "The ini-file contains the model setup configuration and determines which components are updated and in which sequence and sets optional arguments for each component. This configuration is passed to hydromt using `-i <path_to_ini_file>`.\n",
    "\n",
    "Each header as shown between `[...]` (e.g. `[setup_p_forcing_gridded]`) corresponds with a model component which are explained in the [docs(model_components)](https://deltares.github.io/hydromt_sfincs/latest/user_guide/sfincs/components.html).\n",
    "\n",
    "Let's open the example configuration file **sfincs_update_precip.ini** from the model repository [examples folder] and have a look at the settings."
   ]
  },
  {
   "cell_type": "code",
   "execution_count": null,
   "metadata": {},
   "outputs": [],
   "source": [
    "fn_ini = 'sfincs_update_precip.ini'\n",
    "with open(fn_ini, 'r') as f:\n",
    "    txt = f.read()\n",
    "print(txt)"
   ]
  },
  {
   "cell_type": "markdown",
   "metadata": {},
   "source": [
    "Two components are to be updated:\n",
    "* **setup_config**: This section directly overwrites parts of the .inp configuration file. You can extend this with any settings of the .inp file. The time settings need to be altered. We have made sure that the time coverage is available in the precipitation sample dataset. \n",
    "* **setup_p_forcing_gridded**: here, we identify which dataset, available in our data catalog is to be used as forcing. The dataset **era5_hourly** has to be represented in the **data_catalog.yml**. Please check your **$HOME/.hydromt_data** folder to see if it is indeed present. If it is, then you can continue below to add the forcing. \n",
    "\n",
    "We need the `update` command of hydromt to update the model with this .ini file. Let's get an overview of the options."
   ]
  },
  {
   "cell_type": "code",
   "execution_count": null,
   "metadata": {},
   "outputs": [],
   "source": [
    "!hydromt update --help"
   ]
  },
  {
   "cell_type": "markdown",
   "metadata": {},
   "source": [
    "### Update sfincs precipitation\n",
    "Now we will add the precipitation and write the model to a new folder"
   ]
  },
  {
   "cell_type": "code",
   "execution_count": null,
   "metadata": {},
   "outputs": [],
   "source": [
    "!hydromt update sfincs ./venice -o ./venice_sfincs_precip -i sfincs_update_precip.ini -v"
   ]
  },
  {
   "cell_type": "markdown",
   "metadata": {},
   "source": [
    "The example above means the following: run **hydromt** with:\n",
    "\n",
    "- `update sfincs`: i.e. update a sfincs model\n",
    "- `./venice_sfincs`: original model folder\n",
    "- `-o ./venice_sfincs_precip`: output updated model folder\n",
    "- `-i sfincs_update_precip.ini`: setup configuration file containing the components to update and their different options\n",
    "- `v`: give some extra verbosity (2 * v) to display feedback on screen. Now debug messages are provided.\n"
   ]
  },
  {
   "cell_type": "markdown",
   "metadata": {},
   "source": [
    "Let's inspect the new model folder"
   ]
  },
  {
   "cell_type": "code",
   "execution_count": null,
   "metadata": {},
   "outputs": [],
   "source": [
    "ls ./venice_sfincs_precip/"
   ]
  },
  {
   "cell_type": "markdown",
   "metadata": {},
   "source": [
    "We now have a .nc file with the precipitation. The .inp file now also contains a reference to this dataset."
   ]
  },
  {
   "cell_type": "markdown",
   "metadata": {},
   "source": [
    "### Inspect forcing data"
   ]
  },
  {
   "cell_type": "markdown",
   "metadata": {},
   "source": [
    "The forcing data will also be available for analysis and plotting within hydromt. The `plot_forcing` method plots the area averaged precipitation. If you are familiar with xarray and matplotlib, it is straighforward to make some other plots as well."
   ]
  },
  {
   "cell_type": "code",
   "execution_count": null,
   "metadata": {},
   "outputs": [],
   "source": [
    "%matplotlib inline\n",
    "import hydromt\n",
    "import matplotlib.pyplot as plt"
   ]
  },
  {
   "cell_type": "markdown",
   "metadata": {},
   "source": [
    "Below, we first plot the area averaged time series"
   ]
  },
  {
   "cell_type": "code",
   "execution_count": null,
   "metadata": {},
   "outputs": [],
   "source": [
    "mod = hydromt.SfincsModel(root=\"venice_sfincs_precip\", mode=\"r\")\n",
    "mod.plot_forcing()"
   ]
  },
  {
   "cell_type": "markdown",
   "metadata": {},
   "source": [
    "We can also manipulate the forcing and make spatial plots with xarray logic. Below we plot the time accumulated rainfall over the entire period."
   ]
  },
  {
   "cell_type": "code",
   "execution_count": null,
   "metadata": {},
   "outputs": [],
   "source": [
    "# precipitation forcing is in the key \"netampr\"\n",
    "precip_sum = mod.forcing[\"netampr\"].sum(dim=\"time\")\n",
    "precip_sum.plot()"
   ]
  },
  {
   "cell_type": "markdown",
   "metadata": {},
   "source": [
    "We have another .ini file that also includes water level boundaries from the Global Tide and Surge Model, and also includes several measurement locations (`setup_gauges`). Below we print the contents of this .ini file and the gauges file."
   ]
  },
  {
   "cell_type": "code",
   "execution_count": null,
   "metadata": {},
   "outputs": [],
   "source": [
    "fn_ini = 'sfincs_update_forcing.ini'\n",
    "with open(fn_ini, 'r') as f:\n",
    "    txt = f.read()\n",
    "print(\"=========\")\n",
    "print(\".ini file\")\n",
    "print(\"=========\")\n",
    "print(txt)\n",
    "\n",
    "import pandas as pd\n",
    "fn_gauges = 'venice_gauges.csv'\n",
    "df = pd.read_csv(fn_gauges)\n",
    "print(\"=================================\")\n",
    "print(\"gauges file (as pandas DataFrame)\")\n",
    "print(\"=================================\")\n",
    "df\n"
   ]
  },
  {
   "cell_type": "markdown",
   "metadata": {},
   "source": [
    "You can see a few things:\n",
    "* the water level forcing configured under `setup_h_forcing` refers to a dataset from the catalog. Check the .yml of the catalog (see folder `$HOME/.hydromt_data` for further details)\n",
    "* the file `venice_gauges.csv` has a very simple setup with latitude/longitude coordinate pairs\n",
    "\n",
    "Now let's build another version of the model that includes these new inputs"
   ]
  },
  {
   "cell_type": "code",
   "execution_count": null,
   "metadata": {},
   "outputs": [],
   "source": [
    "!hydromt update sfincs ./venice -o ./venice_sfincs_forcing -i sfincs_update_forcing.ini -v"
   ]
  },
  {
   "cell_type": "markdown",
   "metadata": {},
   "source": [
    "We can now again inspect the model"
   ]
  },
  {
   "cell_type": "code",
   "execution_count": null,
   "metadata": {},
   "outputs": [],
   "source": [
    "# define the model's configuration file\n",
    "import os\n",
    "import hydromt\n",
    "root = r'./venice_sfincs_forcing'\n",
    "config_fn = os.path.abspath(os.path.join(root, 'sfincs.inp'))\n",
    "print(config_fn)\n",
    "# read the model with hydromt sfincs methods\n",
    "mod = hydromt.SfincsModel(root=root, config_fn=config_fn, mode=\"r\")\n",
    "mod.read()\n",
    "mod.plot_basemap(figsize=(12, 10))"
   ]
  },
  {
   "cell_type": "markdown",
   "metadata": {},
   "source": [
    "We also have some new forcing, the tidal boundary conditions from gtsm. Below we also inspect these"
   ]
  },
  {
   "cell_type": "code",
   "execution_count": null,
   "metadata": {
    "scrolled": true
   },
   "outputs": [],
   "source": [
    "mod.plot_forcing()"
   ]
  },
  {
   "cell_type": "markdown",
   "metadata": {},
   "source": [
    "You can experiment with adding of river flow boundaries as well"
   ]
  },
  {
   "cell_type": "code",
   "execution_count": null,
   "metadata": {},
   "outputs": [],
   "source": []
  }
 ],
 "metadata": {
  "kernelspec": {
   "display_name": "Python 3",
   "language": "python",
   "name": "python3"
  },
  "language_info": {
   "codemirror_mode": {
    "name": "ipython",
    "version": 3
   },
   "file_extension": ".py",
   "mimetype": "text/x-python",
   "name": "python",
   "nbconvert_exporter": "python",
   "pygments_lexer": "ipython3",
   "version": "3.9.2"
  }
 },
 "nbformat": 4,
 "nbformat_minor": 4
}
