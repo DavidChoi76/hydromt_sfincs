{
 "cells": [
  {
   "cell_type": "code",
   "execution_count": null,
   "metadata": {},
   "outputs": [],
   "source": [
    "import os\n",
    "import sys\n",
    "import matplotlib.pyplot as plt\n",
    "from hydromt.log import setuplog\n",
    "from hydromt_sfincs import SfincsModel"
   ]
  },
  {
   "cell_type": "code",
   "execution_count": null,
   "metadata": {},
   "outputs": [],
   "source": [
    "# Initialize SfincsModel with the artifact data catalog which contains data for North Italy\n",
    "sf = SfincsModel(data_libs=[\"artifact_data\"], root=\"tmp_example\", mode=\"w+\", logger=setuplog('', log_level=20))"
   ]
  },
  {
   "cell_type": "code",
   "execution_count": null,
   "metadata": {},
   "outputs": [],
   "source": [
    "sf.setup_grid(\n",
    "    x0 = 268650,\n",
    "    y0 = 5018550,\n",
    "    dx = 150.0,\n",
    "    dy = 150.0,\n",
    "    nmax = 272,\n",
    "    mmax = 425,\n",
    "    rotation = 0,\n",
    "    epsg = 32633\n",
    ")"
   ]
  },
  {
   "cell_type": "code",
   "execution_count": null,
   "metadata": {},
   "outputs": [],
   "source": [
    "sf.setup_config(\n",
    "    tref = '20100201 000000',\n",
    "    tstart = '20100201 000000',\n",
    "    tstop = '20100210 000000',\n",
    ")"
   ]
  },
  {
   "cell_type": "code",
   "execution_count": null,
   "metadata": {},
   "outputs": [],
   "source": [
    "# 2d precip\n",
    "sf.setup_precip_forcing_from_grid(\n",
    "    precip_fn = 'era5_hourly',\n",
    "    aggregate=True,\n",
    ")\n",
    "sf.write_forcing()"
   ]
  },
  {
   "cell_type": "code",
   "execution_count": null,
   "metadata": {},
   "outputs": [],
   "source": [
    "# 1d uniform precip\n",
    "sf.setup_precip_forcing_from_grid(\n",
    "    precip_fn = 'era5_hourly',\n",
    "    aggregate=True,\n",
    ")\n",
    "\n"
   ]
  },
  {
   "cell_type": "code",
   "execution_count": null,
   "metadata": {},
   "outputs": [],
   "source": [
    "sf.forcing['precip'].to_pandas().to_csv('precip.csv')\n",
    "sf.forcing.pop('precip', None)\t# reset\n",
    "sf.setup_precip_forcing(\n",
    "    timeseries_fn = 'precip.csv',\n",
    ")\n",
    "sf.plot_forcing()"
   ]
  },
  {
   "cell_type": "code",
   "execution_count": null,
   "metadata": {},
   "outputs": [],
   "source": [
    "import pandas as pd\n",
    "import geopandas as gpd\n",
    "import numpy as np\n",
    "from hydromt_sfincs import utils\n",
    "\n",
    "df = utils.read_timeseries(\"sfincs_coastal//sfincs.bzs\", tref=sf.config['tref'])\n",
    "gdf = utils.read_xy(\"sfincs_coastal//sfincs.bnd\", crs=sf.crs)\n",
    "\n",
    "sf.forcing.pop('bzs', None)\t# reset\n",
    "sf.forcing.pop('precip', None)\t# reset\n",
    "# add only locations\n",
    "sf.create_waterlevel_forcing(\n",
    "    gdf_locs=gdf,\n",
    ")\n",
    "# add timeseries to existing locations\n",
    "sf.create_waterlevel_forcing(\n",
    "    df_ts=df,\n",
    "    merge=True,\n",
    ")\n",
    "sf.plot_forcing()"
   ]
  },
  {
   "cell_type": "code",
   "execution_count": null,
   "metadata": {},
   "outputs": [],
   "source": [
    "# merge (overwrite) existing timeseries with different time resoltiuon\n",
    "# and add offset\n",
    "sf.create_waterlevel_forcing(\n",
    "    df_ts=df.iloc[::5,[0]],\n",
    "    gdf_locs=gdf.iloc[[0]],\n",
    "    da_offset=sf.data_catalog.get_rasterdataset('dtu10mdt'),\n",
    "    merge=True,\n",
    ")\n",
    "sf.plot_forcing()"
   ]
  },
  {
   "cell_type": "code",
   "execution_count": null,
   "metadata": {},
   "outputs": [],
   "source": [
    "# update timeseries from csv\n",
    "df.to_csv(\"waterlevel.csv\")\n",
    "sf.setup_waterlevel_forcing(\n",
    "    timeseries_fn='waterlevel.csv',\n",
    "    merge=True,\n",
    ")\n",
    "sf.plot_forcing()\n"
   ]
  },
  {
   "cell_type": "code",
   "execution_count": null,
   "metadata": {},
   "outputs": [],
   "source": [
    "# overwrite forcing from geodataset (netcdf file)\n",
    "sf.setup_waterlevel_forcing(\n",
    "    geodataset_fn='gtsmv3_eu_era5',\n",
    "    offset_fn='dtu10mdt',\n",
    "    merge=False,\n",
    ")\n",
    "sf.plot_forcing()"
   ]
  },
  {
   "cell_type": "code",
   "execution_count": null,
   "metadata": {},
   "outputs": [],
   "source": [
    "sf.write_forcing()\n",
    "sf.write_config()"
   ]
  },
  {
   "cell_type": "code",
   "execution_count": null,
   "metadata": {},
   "outputs": [],
   "source": [
    "# note that index number cannot be saved in ascii timeseries format \n",
    "# and are stored as attributes of the geojson file\n",
    "sf1 = SfincsModel(sf.root, mode='r') # read mode\n",
    "sf1.read_forcing()\n",
    "sf1.plot_forcing()"
   ]
  }
 ],
 "metadata": {
  "kernelspec": {
   "display_name": "hydromt-dev",
   "language": "python",
   "name": "python3"
  },
  "language_info": {
   "codemirror_mode": {
    "name": "ipython",
    "version": 3
   },
   "file_extension": ".py",
   "mimetype": "text/x-python",
   "name": "python",
   "nbconvert_exporter": "python",
   "pygments_lexer": "ipython3",
   "version": "3.10.9"
  },
  "orig_nbformat": 4,
  "vscode": {
   "interpreter": {
    "hash": "3808d5b5b54949c7a0a707a38b0a689040fa9c90ab139a050e41373880719ab1"
   }
  }
 },
 "nbformat": 4,
 "nbformat_minor": 2
}
