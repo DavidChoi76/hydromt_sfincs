{
 "cells": [
  {
   "cell_type": "markdown",
   "id": "fb813184",
   "metadata": {},
   "source": [
    "## Build a model from python"
   ]
  },
  {
   "cell_type": "code",
   "execution_count": null,
   "id": "08bf2cf4",
   "metadata": {},
   "outputs": [],
   "source": [
    "import hydromt\n",
    "from hydromt_sfincs import SfincsModel, utils\n",
    "import geopandas as gpd\n",
    "import pandas as pd\n",
    "import xarray as xr"
   ]
  },
  {
   "cell_type": "markdown",
   "id": "09f2f17c",
   "metadata": {},
   "source": [
    "This example shows you how to setup a model schematization from existing preprocessed GIS raster data and manually add forcing data. Note that all rasters should be on exactly the same grid and must have proper metadata including the CRS which must be a projected system with unit in meters, such as a UTM zone!"
   ]
  },
  {
   "cell_type": "markdown",
   "id": "b3acf3e7",
   "metadata": {},
   "source": [
    "### read raster data"
   ]
  },
  {
   "cell_type": "markdown",
   "id": "3782307f",
   "metadata": {},
   "source": [
    "Here we first make a directory with an elevation and mask raster files from which we can build the model.\n",
    "For the sake of this example we export these layers from an existing model. \n",
    "In practice you could setup these layers in a GIS such as QGIS based on your own data."
   ]
  },
  {
   "cell_type": "code",
   "execution_count": null,
   "id": "1d79e33c",
   "metadata": {},
   "outputs": [],
   "source": [
    "# export a model to gis files using hydromt (only for sake of the example)\n",
    "mod0 = SfincsModel(root='sfincs_riverine', mode='r')\n",
    "mod0.read()\n",
    "mod0.write_raster(variables=['staticmaps.dep', 'staticmaps.msk'], root='sfincs_gis')"
   ]
  },
  {
   "cell_type": "code",
   "execution_count": null,
   "id": "8266a6f8",
   "metadata": {},
   "outputs": [],
   "source": [
    "# check content of our folder\n",
    "!ls sfincs_gis"
   ]
  },
  {
   "cell_type": "code",
   "execution_count": null,
   "id": "6e7316e2",
   "metadata": {},
   "outputs": [],
   "source": [
    "# check meta data on our geotiff file (specifically note the crs attribute!)\n",
    "!rio info sfincs_gis/dep.tif"
   ]
  },
  {
   "cell_type": "markdown",
   "id": "90e4298d",
   "metadata": {},
   "source": [
    "If all data in the \"sfincs_gis\" folder is on an identical grid we can read the data with the hydromt.open_mfraster method."
   ]
  },
  {
   "cell_type": "code",
   "execution_count": null,
   "id": "caf1ad19",
   "metadata": {},
   "outputs": [],
   "source": [
    "# read all data to a Dataset\n",
    "# note that the names are taken from the file basenames\n",
    "ds = hydromt.open_mfraster('sfincs_gis/*tif')\n",
    "ds"
   ]
  },
  {
   "cell_type": "markdown",
   "id": "c9649e9b",
   "metadata": {},
   "source": [
    "### setup SFINCS model"
   ]
  },
  {
   "cell_type": "markdown",
   "id": "d09b51aa",
   "metadata": {},
   "source": [
    "First we initiate an new model instance in a new model root folder in writing mode:"
   ]
  },
  {
   "cell_type": "code",
   "execution_count": null,
   "id": "72b7b310",
   "metadata": {},
   "outputs": [],
   "source": [
    "mod = SfincsModel(root='sfincs_from_gis', mode='w')\n",
    "# Note this is still an empty model with no maps\n",
    "len(mod.staticmaps) == 0"
   ]
  },
  {
   "cell_type": "markdown",
   "id": "0cf2009d",
   "metadata": {},
   "source": [
    "We can add staticmaps to the model using the `set_staticmaps` command. Here it is important that the model layers are on a identical grid, otherwise these will not be excepted. \n",
    "\n",
    "Note that geotiff raster typically has a N->S orientation while the SFINCS model uses a S->N orientation. If the staticmaps are  kept in N->S orientation this will be corrected when writing to file. It's best practise however to make sure the staticmaps are in S->N orientation from the start. "
   ]
  },
  {
   "cell_type": "code",
   "execution_count": null,
   "id": "35dad31c",
   "metadata": {},
   "outputs": [],
   "source": [
    "# reverse orientation\n",
    "if ds.raster.res[1] < 0:  # if N -> S orientation, reverse\n",
    "    ds = ds.reindex({ds.raster.y_dim: list(reversed(ds.raster.ycoords))})\n",
    "\n",
    "mod.set_staticmaps(ds)\n",
    "mod.staticmaps"
   ]
  },
  {
   "cell_type": "markdown",
   "id": "fd622ecc",
   "metadata": {},
   "source": [
    "Next we load a default config which we need to modify for our example"
   ]
  },
  {
   "cell_type": "code",
   "execution_count": null,
   "id": "45cf5d69",
   "metadata": {},
   "outputs": [],
   "source": [
    "mod.read_config() ## laods default config if no sfincs.inp is found in model root\n",
    "mod.update_spatial_attrs()  # sets mmax, nmax, dx, dy, x0, y0 & epsg based on staticmaps\n",
    "mod.config  # inspect config"
   ]
  },
  {
   "cell_type": "code",
   "execution_count": null,
   "id": "5a9f0dfc",
   "metadata": {},
   "outputs": [],
   "source": [
    "# let's visualize the model schematization and source pooint locations\n",
    "_ = mod.plot_basemap(shaded=False, fn_out=None, vmax=500)"
   ]
  },
  {
   "cell_type": "markdown",
   "id": "ab4e468e",
   "metadata": {},
   "source": [
    "### Add discharge forcing"
   ]
  },
  {
   "cell_type": "markdown",
   "id": "710f7322",
   "metadata": {},
   "source": [
    "The SFINCS discharge forcing is set based on a combination of a the src (xy point locations) and dis (timeseries) files. In hydroMT the src locations are represented by a geopandas.GeoDataFrame in the staticgeoms attribute and dis timeseries by a xarray.DataArray with 'time' and 'index' dimensions in the forcing attribute. SFINCS waterlevel forcing can be set similarly using 'bzd' (xy point locations) and 'bzs' (timeseries) and precipitation with 'precip' (timeseries). \n",
    "\n",
    "NOTE: If csv or netcdf files with location and timeseries are available, the `setup_q_forcing` method is recommended!"
   ]
  },
  {
   "cell_type": "code",
   "execution_count": null,
   "id": "612dcd11",
   "metadata": {},
   "outputs": [],
   "source": [
    "# here we create three source points with a simple triangular discharge hydrograph\n",
    "# setup locations\n",
    "x = [264891.02, 264903.71, 277443.57]\n",
    "y = [5083000.61,  5085039.90, 5091621.70]\n",
    "pnts = gpd.points_from_xy(x, y)\n",
    "index = [1,2,3]\n",
    "src = gpd.GeoDataFrame(index=index, geometry=pnts, crs=mod.crs)\n",
    "src"
   ]
  },
  {
   "cell_type": "code",
   "execution_count": null,
   "id": "2254dd94",
   "metadata": {},
   "outputs": [],
   "source": [
    "# setup discharge timeseries\n",
    "mod.set_config('tref', '20210101 000000')\n",
    "mod.set_config('tstart', '20210101 000000')\n",
    "mod.set_config('tstop', '20210102 000000')\n",
    "time = pd.date_range(\n",
    "    start=utils.parse_datetime(mod.config['tstart']), \n",
    "    end=utils.parse_datetime(mod.config['tstop']), \n",
    "    periods=3,\n",
    ")\n",
    "ts = pd.DataFrame(\n",
    "    index=time, \n",
    "    columns=index,\n",
    "    data=[[100, 50, 80], [500, 250, 300], [100, 50, 80]]\n",
    ")\n",
    "ts"
   ]
  },
  {
   "cell_type": "code",
   "execution_count": null,
   "id": "8db79672",
   "metadata": {},
   "outputs": [],
   "source": [
    "# update forcing in model\n",
    "mod.set_forcing_uniform(name='discharge', ts=ts, xy=src)"
   ]
  },
  {
   "cell_type": "code",
   "execution_count": null,
   "id": "28d8c2f5",
   "metadata": {},
   "outputs": [],
   "source": [
    "# Note that the data has been converted to a GeoDataset which combines the timeseries and spatial data. \n",
    "mod.forcing['dis']"
   ]
  },
  {
   "cell_type": "code",
   "execution_count": null,
   "id": "52c585a3",
   "metadata": {},
   "outputs": [],
   "source": [
    "# The config has also been updated with a disfile and srcfile entry\n",
    "mod.config"
   ]
  },
  {
   "cell_type": "code",
   "execution_count": null,
   "id": "5fb0941f",
   "metadata": {},
   "outputs": [],
   "source": [
    "# let's visualize the model forcing timeseries\n",
    "# TIP: redo the plot_basemaps above to see the src point locations\n",
    "_ = mod.plot_forcing(fn_out=None)"
   ]
  },
  {
   "cell_type": "markdown",
   "id": "8b6e5af2",
   "metadata": {},
   "source": [
    "### write to file"
   ]
  },
  {
   "cell_type": "markdown",
   "id": "28075c35",
   "metadata": {},
   "source": [
    "If we are satisfied with the model schematization and forcing we can write it to disk. \n",
    "Here we use the `write` method to write the full model schematization, seperate components can be writen individually with write_<component> methods e.g. `write_staticmaps`, `write_config` etc."
   ]
  },
  {
   "cell_type": "code",
   "execution_count": null,
   "id": "ae46703a",
   "metadata": {},
   "outputs": [],
   "source": [
    "mod.write() #  "
   ]
  }
 ],
 "metadata": {
  "kernelspec": {
   "display_name": "Python 3",
   "language": "python",
   "name": "python3"
  },
  "language_info": {
   "codemirror_mode": {
    "name": "ipython",
    "version": 3
   },
   "file_extension": ".py",
   "mimetype": "text/x-python",
   "name": "python",
   "nbconvert_exporter": "python",
   "pygments_lexer": "ipython3",
   "version": "3.9.2"
  }
 },
 "nbformat": 4,
 "nbformat_minor": 5
}
