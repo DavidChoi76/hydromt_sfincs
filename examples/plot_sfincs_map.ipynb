{
 "cells": [
  {
   "cell_type": "markdown",
   "metadata": {},
   "source": [
    "## Plot sfincs_map.nc results"
   ]
  },
  {
   "cell_type": "markdown",
   "metadata": {},
   "source": [
    "We use the [cartopy](https://scitools.org.uk/cartopy/docs/latest/) package to plot maps. This packages provides a simple interface to plot geographic data and add background satellite imagery."
   ]
  },
  {
   "cell_type": "code",
   "execution_count": null,
   "metadata": {},
   "outputs": [],
   "source": [
    "# import dependencies\n",
    "import xarray as xr\n",
    "import numpy as  np\n",
    "from os.path import join\n",
    "import os\n",
    "import matplotlib.pyplot as plt\n",
    "import matplotlib as mpl\n",
    "import hydromt"
   ]
  },
  {
   "cell_type": "markdown",
   "metadata": {},
   "source": [
    "### Read model results"
   ]
  },
  {
   "cell_type": "markdown",
   "metadata": {},
   "source": [
    "The model results in sfincs_map.nc are saved as in a staggered grid format, see [SGRID convention](https://publicwiki.deltares.nl/display/NETCDF/Deltares+proposal+for+Staggered+Grid+data+model+(SGRID)). Here we show how to retrieve the face values and translate the dimensions from node indices (m, n) to (x, y) coordinates in order to plot the results on a map."
   ]
  },
  {
   "cell_type": "code",
   "execution_count": null,
   "metadata": {},
   "outputs": [],
   "source": [
    "sfincs_root = 'venice_200' # (relative) path to sfincs root\n",
    "mod = hydromt.SfincsModel(sfincs_root, mode='r')"
   ]
  },
  {
   "cell_type": "code",
   "execution_count": null,
   "metadata": {},
   "outputs": [],
   "source": [
    "# read results \n",
    "ds_map = xr.open_dataset(join(mod.root, 'sfincs_map.nc'), chunks={'time':100})\n",
    "\n",
    "# get values which are saved on cell faces\n",
    "face_vars = [v for v in ds_map.data_vars if 'm' in ds_map[v].dims]\n",
    "face_coords = {\n",
    "    'x': xr.IndexVariable('x', ds_map['x'].isel(n=0).values),\n",
    "    'y': xr.IndexVariable('y', ds_map['y'].isel(m=0).values)\n",
    "}\n",
    "encoding = {v :{'zlib': True} for v in face_vars}\n",
    "ds_face = ds_map[face_vars].drop(['x', 'y']).rename({'n':'y', 'm':'x'}).assign_coords(face_coords).transpose('time', 'y', 'x', ...)\n",
    "# set coordinate reference system based on epsg code in sfincs.inp > saved to spatial_ref coord\n",
    "ds_face.raster.set_crs(mod.crs)\n",
    "# inspect outcome\n",
    "ds_face"
   ]
  },
  {
   "cell_type": "markdown",
   "metadata": {},
   "source": [
    "### Calculate hmax and mask with surface water mask"
   ]
  },
  {
   "cell_type": "markdown",
   "metadata": {},
   "source": [
    "First we have to mask the water depth based on a map of permanent water which we calculate from the Global Surface Water Occurence (GSWO) dataset. "
   ]
  },
  {
   "cell_type": "code",
   "execution_count": null,
   "metadata": {},
   "outputs": [],
   "source": [
    "# read global surface water occurance (GSWO) data to mask permanent water\n",
    "print(mod.data_catalog['gswo'])\n",
    "gswo = mod.data_catalog.get_rasterdataset('gswo', buffer=10)\n",
    "# permanent water where water occurence > 5%\n",
    "gswo_mask = gswo.raster.reproject_like(mod.staticmaps, method='max') <= 5"
   ]
  },
  {
   "cell_type": "code",
   "execution_count": null,
   "metadata": {},
   "outputs": [],
   "source": [
    "hmin = 0.2 # minimum flood depth [m] to plot \n",
    "da_hmax = ds_face['h'].max('time') # get the maximum flood depth\n",
    "# get overland flood depth with GSWO and set minimum flood depth\n",
    "da_hmax_fld = da_hmax.where(gswo_mask).where(da_hmax>hmin)\n",
    "# update attributes for colorbar label later\n",
    "da_hmax_fld.attrs.update(long_name='flood depth', unit='m') "
   ]
  },
  {
   "cell_type": "markdown",
   "metadata": {},
   "source": [
    "### Plot maximum water depth"
   ]
  },
  {
   "cell_type": "markdown",
   "metadata": {},
   "source": [
    "Here we plot the maximum water depth on top of the :py:meth:`~hydromt_sfincs.sfincs.SfincsModel.plot_basemaps` method."
   ]
  },
  {
   "cell_type": "code",
   "execution_count": null,
   "metadata": {},
   "outputs": [],
   "source": [
    "# create hmax plot and save to mod.root/figs/hmax.png\n",
    "fig, ax = mod.plot_basemap(fn_out=None, variable=None, bmap='sat', geoms=['src', 'bnd'], figsize=(11,8))\n",
    "# plot overland flooding based on gswo mask and mimum flood depth\n",
    "cbar_kwargs = dict(aspect=20, fraction=.1, shrink=.7)\n",
    "cax_fld = da_hmax_fld.plot(ax=ax, vmin=0, vmax=1.0, cmap=plt.cm.viridis, cbar_kwargs=cbar_kwargs)\n",
    "# plot open water waterleves in purpule based on inverse gswo mask\n",
    "cax_riv = da_zmax_sw.plot(ax=ax, vmin=-1, vmax=1.0, cmap=plt.cm.Blues, cbar_kwargs=cbar_kwargs)\n",
    "\n",
    "ax.set_title(f'SFINCS maximum water depth')\n",
    "# plt.savefig(join(mod.root, 'figs', 'hmax.png'), dpi=225, bbox_inches=\"tight\")"
   ]
  },
  {
   "cell_type": "markdown",
   "metadata": {},
   "source": [
    "### Animate water level"
   ]
  },
  {
   "cell_type": "markdown",
   "metadata": {},
   "source": [
    "An animation is also simple to make with `matplotlib.animation` method. Here we add the surface water level in blue colors next to the overland flood depth with viridis colormap. "
   ]
  },
  {
   "cell_type": "code",
   "execution_count": null,
   "metadata": {},
   "outputs": [],
   "source": [
    "# differentiate h inside and outside permanent water mask\n",
    "da_h = ds_face['h'].where(gswo_mask)\n",
    "da_h = da_h.where(da_h>hmin).drop('spatial_ref')\n",
    "da_h.attrs.update(long_name='flood depth', unit='m')\n",
    "da_zs = ds_face['zs'].where(~gswo_mask).drop('spatial_ref')\n",
    "da_zs.attrs.update(long_name='surface water level', unit='m+MSL')"
   ]
  },
  {
   "cell_type": "code",
   "execution_count": null,
   "metadata": {},
   "outputs": [],
   "source": [
    "# create hmax plot and save to mod.root/figs/sfincs_h.mp4\n",
    "# requires ffmpeg install with \"conda install ffmpeg -c conda-forge\"\n",
    "from matplotlib import animation\n",
    "step = 1 # one frame every <step> hr\n",
    "\n",
    "def update_plot(i, da_h, cax_h, da_zs=None, cax_sw=None):\n",
    "    da_h = da_h.isel(time=i)\n",
    "    t = da_h.time.dt.strftime(\"%d-%B-%Y %H:%M:%S\").item()\n",
    "    ax.set_title(f'SFINCS water depth {t}')\n",
    "    cax_h.set_array(da_h.values)\n",
    "    if da_zs is not None and cax_zs is not None:\n",
    "        da_zs= da_zs.isel(time=i)\n",
    "        cax_zs.set_array(da_zs.values)\n",
    "\n",
    "fig, ax = mod.plot_basemap(fn_out=None, variable=None, bmap='sat', geoms=['src', 'bnd'], figsize=(11, 8))\n",
    "cax_h = da_h.isel(time=0).plot(ax=ax, vmin=0, vmax=1.0, cmap=plt.cm.viridis, cbar_kwargs=cbar_kwargs)\n",
    "cax_zs = da_zs.isel(time=0).plot(ax=ax, vmin=-1, vmax=1, cmap=plt.cm.Blues, cbar_kwargs=cbar_kwargs)\n",
    "plt.close()  # to prevent double plot\n",
    "\n",
    "ani = animation.FuncAnimation(\n",
    "    fig,\n",
    "    update_plot,\n",
    "    frames=np.arange(0, da_h.time.size, step),\n",
    "    interval=250,     # ms between frames\n",
    "    fargs=(da_h, cax_h, da_zs, cax_zs)\n",
    ")\n",
    "\n",
    "# to save to mp4\n",
    "# ani.save(join(mod.root, 'figs', 'sfincs_h.mp4'), fps=4, dpi=200)\n",
    "\n",
    "# to show in notebook:\n",
    "from IPython.display import HTML\n",
    "HTML(ani.to_html5_video())"
   ]
  }
 ],
 "metadata": {
  "kernelspec": {
   "display_name": "Python 3",
   "language": "python",
   "name": "python3"
  },
  "language_info": {
   "codemirror_mode": {
    "name": "ipython",
    "version": 3
   },
   "file_extension": ".py",
   "mimetype": "text/x-python",
   "name": "python",
   "nbconvert_exporter": "python",
   "pygments_lexer": "ipython3",
   "version": "3.9.2"
  }
 },
 "nbformat": 4,
 "nbformat_minor": 4
}
